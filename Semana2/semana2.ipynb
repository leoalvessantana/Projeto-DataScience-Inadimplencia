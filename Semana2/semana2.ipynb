{
 "cells": [
  {
   "cell_type": "markdown",
   "metadata": {
    "id": "64mkc-DZkASN"
   },
   "source": [
    "# Semana 2\n",
    "\n",
    "<div align=\"center\">\n",
    "<img src=\"https://i.imgur.com/oxab3uu.png\" width=\"800px\" />\n",
    "</div>"
   ]
  },
  {
   "cell_type": "markdown",
   "metadata": {},
   "source": [
    "##### Sumário:\n",
    "1. Introdução (Bibliotecas, importando os dados, Traduzindo o nome das colunas)\n",
    "\n",
    "2. Análise inicial dos dados\n",
    "\n",
    "3. Limpeza dos dados \n",
    "\n",
    "4. Tratamento dos dados\n",
    "\n",
    "5. Separação de dados (treino e teste)\n",
    "\n",
    "6. Aprendizado \n",
    "\n",
    "7. Exportando modelos\n"
   ]
  },
  {
   "cell_type": "markdown",
   "metadata": {
    "id": "G4YnTZ4xlIpo"
   },
   "source": [
    "## 1. Introdução\n",
    "\n",
    "Na semana 2 utilizamos o Python para construir um modelo de Machine Learning que pudesse predizer de acordo com os dados bancários de cada cliente, se ele pode ou não se tornar inadimplente. "
   ]
  },
  {
   "cell_type": "markdown",
   "metadata": {
    "id": "3ovcks-Llamy"
   },
   "source": [
    "### Bibliotecas\n"
   ]
  },
  {
   "cell_type": "code",
   "execution_count": 1,
   "metadata": {
    "executionInfo": {
     "elapsed": 265,
     "status": "ok",
     "timestamp": 1674621882149,
     "user": {
      "displayName": "Leonardo Santana",
      "userId": "14879446823353399218"
     },
     "user_tz": 180
    },
    "id": "dv1OBhMrj0he"
   },
   "outputs": [],
   "source": [
    "import pandas as pd\n",
    "import numpy as np\n",
    "import matplotlib.pyplot as plt\n",
    "import matplotlib.colors\n",
    "\n",
    "from sklearn.compose import make_column_transformer\n",
    "from sklearn.preprocessing import OneHotEncoder\n",
    "from sklearn.preprocessing import MinMaxScaler\n",
    "from sklearn.model_selection import train_test_split\n",
    "from sklearn.linear_model import LogisticRegression\n",
    "from sklearn.tree import DecisionTreeClassifier\n",
    "from sklearn.metrics import plot_confusion_matrix\n",
    "from sklearn.metrics import classification_report\n",
    "from sklearn.metrics import accuracy_score\n",
    "from sklearn.metrics import roc_curve, roc_auc_score\n",
    "from sklearn.metrics import recall_score\n",
    "\n",
    "\n",
    "from imblearn.over_sampling import SMOTE\n",
    "from imblearn.under_sampling import RandomUnderSampler"
   ]
  },
  {
   "cell_type": "markdown",
   "metadata": {
    "id": "AR_XYwWzlex1"
   },
   "source": [
    "### importando os dados"
   ]
  },
  {
   "cell_type": "code",
   "execution_count": 2,
   "metadata": {
    "colab": {
     "base_uri": "https://localhost:8080/",
     "height": 270
    },
    "executionInfo": {
     "elapsed": 531,
     "status": "ok",
     "timestamp": 1674621883076,
     "user": {
      "displayName": "Leonardo Santana",
      "userId": "14879446823353399218"
     },
     "user_tz": 180
    },
    "id": "UuUbIOIhl82Y",
    "outputId": "f16b8929-2b48-4eec-f6aa-508ea3c72216"
   },
   "outputs": [
    {
     "data": {
      "text/html": [
       "<div>\n",
       "<style scoped>\n",
       "    .dataframe tbody tr th:only-of-type {\n",
       "        vertical-align: middle;\n",
       "    }\n",
       "\n",
       "    .dataframe tbody tr th {\n",
       "        vertical-align: top;\n",
       "    }\n",
       "\n",
       "    .dataframe thead th {\n",
       "        text-align: right;\n",
       "    }\n",
       "</style>\n",
       "<table border=\"1\" class=\"dataframe\">\n",
       "  <thead>\n",
       "    <tr style=\"text-align: right;\">\n",
       "      <th></th>\n",
       "      <th>person_age</th>\n",
       "      <th>person_income</th>\n",
       "      <th>person_home_ownership</th>\n",
       "      <th>person_emp_length</th>\n",
       "      <th>loan_intent</th>\n",
       "      <th>loan_grade</th>\n",
       "      <th>loan_amnt</th>\n",
       "      <th>loan_int_rate</th>\n",
       "      <th>loan_status</th>\n",
       "      <th>loan_percent_income</th>\n",
       "      <th>cb_person_default_on_file</th>\n",
       "      <th>cb_person_cred_hist_length</th>\n",
       "    </tr>\n",
       "  </thead>\n",
       "  <tbody>\n",
       "    <tr>\n",
       "      <th>0</th>\n",
       "      <td>26.0</td>\n",
       "      <td>84996.0</td>\n",
       "      <td>Rent</td>\n",
       "      <td>0.0</td>\n",
       "      <td>Medical</td>\n",
       "      <td>B</td>\n",
       "      <td>9000.0</td>\n",
       "      <td>11.26</td>\n",
       "      <td>0.0</td>\n",
       "      <td>0.11</td>\n",
       "      <td>N</td>\n",
       "      <td>2.0</td>\n",
       "    </tr>\n",
       "    <tr>\n",
       "      <th>1</th>\n",
       "      <td>24.0</td>\n",
       "      <td>55782.0</td>\n",
       "      <td>Rent</td>\n",
       "      <td>3.0</td>\n",
       "      <td>Homeimprovement</td>\n",
       "      <td>A</td>\n",
       "      <td>17000.0</td>\n",
       "      <td>7.51</td>\n",
       "      <td>0.0</td>\n",
       "      <td>0.30</td>\n",
       "      <td>N</td>\n",
       "      <td>2.0</td>\n",
       "    </tr>\n",
       "    <tr>\n",
       "      <th>2</th>\n",
       "      <td>25.0</td>\n",
       "      <td>125000.0</td>\n",
       "      <td>Own</td>\n",
       "      <td>9.0</td>\n",
       "      <td>Personal</td>\n",
       "      <td>B</td>\n",
       "      <td>25000.0</td>\n",
       "      <td>10.59</td>\n",
       "      <td>0.0</td>\n",
       "      <td>0.20</td>\n",
       "      <td>N</td>\n",
       "      <td>2.0</td>\n",
       "    </tr>\n",
       "    <tr>\n",
       "      <th>3</th>\n",
       "      <td>23.0</td>\n",
       "      <td>44340.0</td>\n",
       "      <td>Own</td>\n",
       "      <td>0.0</td>\n",
       "      <td>Venture</td>\n",
       "      <td>C</td>\n",
       "      <td>3000.0</td>\n",
       "      <td>12.98</td>\n",
       "      <td>0.0</td>\n",
       "      <td>0.07</td>\n",
       "      <td>Y</td>\n",
       "      <td>3.0</td>\n",
       "    </tr>\n",
       "    <tr>\n",
       "      <th>4</th>\n",
       "      <td>23.0</td>\n",
       "      <td>48000.0</td>\n",
       "      <td>Mortgage</td>\n",
       "      <td>5.0</td>\n",
       "      <td>Education</td>\n",
       "      <td>C</td>\n",
       "      <td>5000.0</td>\n",
       "      <td>13.99</td>\n",
       "      <td>0.0</td>\n",
       "      <td>0.10</td>\n",
       "      <td>Y</td>\n",
       "      <td>2.0</td>\n",
       "    </tr>\n",
       "  </tbody>\n",
       "</table>\n",
       "</div>"
      ],
      "text/plain": [
       "   person_age  person_income person_home_ownership  person_emp_length  \\\n",
       "0        26.0        84996.0                  Rent                0.0   \n",
       "1        24.0        55782.0                  Rent                3.0   \n",
       "2        25.0       125000.0                   Own                9.0   \n",
       "3        23.0        44340.0                   Own                0.0   \n",
       "4        23.0        48000.0              Mortgage                5.0   \n",
       "\n",
       "       loan_intent loan_grade  loan_amnt  loan_int_rate  loan_status  \\\n",
       "0          Medical          B     9000.0          11.26          0.0   \n",
       "1  Homeimprovement          A    17000.0           7.51          0.0   \n",
       "2         Personal          B    25000.0          10.59          0.0   \n",
       "3          Venture          C     3000.0          12.98          0.0   \n",
       "4        Education          C     5000.0          13.99          0.0   \n",
       "\n",
       "   loan_percent_income cb_person_default_on_file  cb_person_cred_hist_length  \n",
       "0                 0.11                         N                         2.0  \n",
       "1                 0.30                         N                         2.0  \n",
       "2                 0.20                         N                         2.0  \n",
       "3                 0.07                         Y                         3.0  \n",
       "4                 0.10                         Y                         2.0  "
      ]
     },
     "execution_count": 2,
     "metadata": {},
     "output_type": "execute_result"
    }
   ],
   "source": [
    "#url = 'https://raw.githubusercontent.com/leoalvessantana/Challenge-DataScience/main/Semana1/dados_juntos.csv'\n",
    "url = '..\\Semana1\\dados_juntos.csv'\n",
    "dados = pd.read_csv(url)\n",
    "\n",
    "dados.head()"
   ]
  },
  {
   "cell_type": "markdown",
   "metadata": {
    "id": "a2E2XRy2liWq"
   },
   "source": [
    "### Traduzindo o nome das colunas"
   ]
  },
  {
   "cell_type": "code",
   "execution_count": 3,
   "metadata": {
    "colab": {
     "base_uri": "https://localhost:8080/",
     "height": 270
    },
    "executionInfo": {
     "elapsed": 17,
     "status": "ok",
     "timestamp": 1674621883077,
     "user": {
      "displayName": "Leonardo Santana",
      "userId": "14879446823353399218"
     },
     "user_tz": 180
    },
    "id": "_GLqVqkKmEIJ",
    "outputId": "fb9391e9-4062-499a-ac4e-7a04e8f7303d"
   },
   "outputs": [
    {
     "data": {
      "text/html": [
       "<div>\n",
       "<style scoped>\n",
       "    .dataframe tbody tr th:only-of-type {\n",
       "        vertical-align: middle;\n",
       "    }\n",
       "\n",
       "    .dataframe tbody tr th {\n",
       "        vertical-align: top;\n",
       "    }\n",
       "\n",
       "    .dataframe thead th {\n",
       "        text-align: right;\n",
       "    }\n",
       "</style>\n",
       "<table border=\"1\" class=\"dataframe\">\n",
       "  <thead>\n",
       "    <tr style=\"text-align: right;\">\n",
       "      <th></th>\n",
       "      <th>idade</th>\n",
       "      <th>salario</th>\n",
       "      <th>situacao_moradia</th>\n",
       "      <th>tempo_trabalho</th>\n",
       "      <th>motivo_emprestimo</th>\n",
       "      <th>pontuacao_emprestimo</th>\n",
       "      <th>valor_emprestimo</th>\n",
       "      <th>taxa_juros</th>\n",
       "      <th>inadimplencia</th>\n",
       "      <th>renda_percentual_emprestimo</th>\n",
       "      <th>devendo</th>\n",
       "      <th>tempo_de_credito</th>\n",
       "    </tr>\n",
       "  </thead>\n",
       "  <tbody>\n",
       "    <tr>\n",
       "      <th>0</th>\n",
       "      <td>26.0</td>\n",
       "      <td>84996.0</td>\n",
       "      <td>Rent</td>\n",
       "      <td>0.0</td>\n",
       "      <td>Medical</td>\n",
       "      <td>B</td>\n",
       "      <td>9000.0</td>\n",
       "      <td>11.26</td>\n",
       "      <td>0.0</td>\n",
       "      <td>0.11</td>\n",
       "      <td>N</td>\n",
       "      <td>2.0</td>\n",
       "    </tr>\n",
       "    <tr>\n",
       "      <th>1</th>\n",
       "      <td>24.0</td>\n",
       "      <td>55782.0</td>\n",
       "      <td>Rent</td>\n",
       "      <td>3.0</td>\n",
       "      <td>Homeimprovement</td>\n",
       "      <td>A</td>\n",
       "      <td>17000.0</td>\n",
       "      <td>7.51</td>\n",
       "      <td>0.0</td>\n",
       "      <td>0.30</td>\n",
       "      <td>N</td>\n",
       "      <td>2.0</td>\n",
       "    </tr>\n",
       "    <tr>\n",
       "      <th>2</th>\n",
       "      <td>25.0</td>\n",
       "      <td>125000.0</td>\n",
       "      <td>Own</td>\n",
       "      <td>9.0</td>\n",
       "      <td>Personal</td>\n",
       "      <td>B</td>\n",
       "      <td>25000.0</td>\n",
       "      <td>10.59</td>\n",
       "      <td>0.0</td>\n",
       "      <td>0.20</td>\n",
       "      <td>N</td>\n",
       "      <td>2.0</td>\n",
       "    </tr>\n",
       "    <tr>\n",
       "      <th>3</th>\n",
       "      <td>23.0</td>\n",
       "      <td>44340.0</td>\n",
       "      <td>Own</td>\n",
       "      <td>0.0</td>\n",
       "      <td>Venture</td>\n",
       "      <td>C</td>\n",
       "      <td>3000.0</td>\n",
       "      <td>12.98</td>\n",
       "      <td>0.0</td>\n",
       "      <td>0.07</td>\n",
       "      <td>Y</td>\n",
       "      <td>3.0</td>\n",
       "    </tr>\n",
       "    <tr>\n",
       "      <th>4</th>\n",
       "      <td>23.0</td>\n",
       "      <td>48000.0</td>\n",
       "      <td>Mortgage</td>\n",
       "      <td>5.0</td>\n",
       "      <td>Education</td>\n",
       "      <td>C</td>\n",
       "      <td>5000.0</td>\n",
       "      <td>13.99</td>\n",
       "      <td>0.0</td>\n",
       "      <td>0.10</td>\n",
       "      <td>Y</td>\n",
       "      <td>2.0</td>\n",
       "    </tr>\n",
       "  </tbody>\n",
       "</table>\n",
       "</div>"
      ],
      "text/plain": [
       "   idade   salario situacao_moradia  tempo_trabalho motivo_emprestimo  \\\n",
       "0   26.0   84996.0             Rent             0.0           Medical   \n",
       "1   24.0   55782.0             Rent             3.0   Homeimprovement   \n",
       "2   25.0  125000.0              Own             9.0          Personal   \n",
       "3   23.0   44340.0              Own             0.0           Venture   \n",
       "4   23.0   48000.0         Mortgage             5.0         Education   \n",
       "\n",
       "  pontuacao_emprestimo  valor_emprestimo  taxa_juros  inadimplencia  \\\n",
       "0                    B            9000.0       11.26            0.0   \n",
       "1                    A           17000.0        7.51            0.0   \n",
       "2                    B           25000.0       10.59            0.0   \n",
       "3                    C            3000.0       12.98            0.0   \n",
       "4                    C            5000.0       13.99            0.0   \n",
       "\n",
       "   renda_percentual_emprestimo devendo  tempo_de_credito  \n",
       "0                         0.11       N               2.0  \n",
       "1                         0.30       N               2.0  \n",
       "2                         0.20       N               2.0  \n",
       "3                         0.07       Y               3.0  \n",
       "4                         0.10       Y               2.0  "
      ]
     },
     "execution_count": 3,
     "metadata": {},
     "output_type": "execute_result"
    }
   ],
   "source": [
    "dicionario = {\n",
    "    'person_age': 'idade',\n",
    "    'person_income': 'salario',\n",
    "    'person_home_ownership': 'situacao_moradia',\n",
    "    'person_emp_length': 'tempo_trabalho',\n",
    "    'loan_intent': 'motivo_emprestimo',\n",
    "    'loan_grade': 'pontuacao_emprestimo',\n",
    "    'loan_amnt': 'valor_emprestimo',\n",
    "    'loan_int_rate': 'taxa_juros',\n",
    "    'loan_status': 'inadimplencia',\n",
    "    'loan_percent_income': 'renda_percentual_emprestimo',\n",
    "    'cb_person_default_on_file': 'devendo',\n",
    "    'cb_person_cred_hist_length': 'tempo_de_credito'\n",
    "}\n",
    "     \n",
    "dados.rename(dicionario, axis = 1, inplace = True)\n",
    "\n",
    "dados.head()"
   ]
  },
  {
   "cell_type": "markdown",
   "metadata": {
    "id": "VrFIRwJomgC6"
   },
   "source": [
    "## 2. Análise inicial dos dados\n",
    "\n",
    "Aqui buscamos entender melhor nossos dados, buscando identificar valores inconsistentes, presença de outliers e dados nulos que podem prejudicar o modelo de aprendizado de máquina.\n",
    "\n"
   ]
  },
  {
   "cell_type": "code",
   "execution_count": 4,
   "metadata": {
    "colab": {
     "base_uri": "https://localhost:8080/"
    },
    "executionInfo": {
     "elapsed": 16,
     "status": "ok",
     "timestamp": 1674621883078,
     "user": {
      "displayName": "Leonardo Santana",
      "userId": "14879446823353399218"
     },
     "user_tz": 180
    },
    "id": "GCqL5hqXmHHA",
    "outputId": "c60ed70c-bc54-46e7-80dd-37e02ad99d61"
   },
   "outputs": [
    {
     "name": "stdout",
     "output_type": "stream",
     "text": [
      "<class 'pandas.core.frame.DataFrame'>\n",
      "RangeIndex: 34501 entries, 0 to 34500\n",
      "Data columns (total 12 columns):\n",
      " #   Column                       Non-Null Count  Dtype  \n",
      "---  ------                       --------------  -----  \n",
      " 0   idade                        34177 non-null  float64\n",
      " 1   salario                      34162 non-null  float64\n",
      " 2   situacao_moradia             34170 non-null  object \n",
      " 3   tempo_trabalho               33247 non-null  float64\n",
      " 4   motivo_emprestimo            34186 non-null  object \n",
      " 5   pontuacao_emprestimo         34188 non-null  object \n",
      " 6   valor_emprestimo             34170 non-null  float64\n",
      " 7   taxa_juros                   30871 non-null  float64\n",
      " 8   inadimplencia                34158 non-null  float64\n",
      " 9   renda_percentual_emprestimo  34182 non-null  float64\n",
      " 10  devendo                      34131 non-null  object \n",
      " 11  tempo_de_credito             34497 non-null  float64\n",
      "dtypes: float64(8), object(4)\n",
      "memory usage: 3.2+ MB\n"
     ]
    }
   ],
   "source": [
    "# Analisando o tamanho da nossa base de dados, se existe dados nulos e o tipo das colunas do conjunto de dados:\n",
    "dados.info()"
   ]
  },
  {
   "cell_type": "markdown",
   "metadata": {
    "id": "dzHqJQsOoB4l"
   },
   "source": [
    "* A base de dados tem 34501 linhas e 12 colunas.\n",
    "\n",
    "* É possível identificar que nas colunas existem dados nulos, que deverão ser tratadas posteriormente.\n",
    "\n",
    "* As variáveis situacao_moradia, motivo_emprestimo, pontuacao_emprestimo e devendo apresentam o dtype object e deverão passar por algum tratamento para serem utilizados na etapa de modelagem.\n"
   ]
  },
  {
   "cell_type": "code",
   "execution_count": 5,
   "metadata": {
    "colab": {
     "base_uri": "https://localhost:8080/",
     "height": 0
    },
    "executionInfo": {
     "elapsed": 296,
     "status": "ok",
     "timestamp": 1674621883363,
     "user": {
      "displayName": "Leonardo Santana",
      "userId": "14879446823353399218"
     },
     "user_tz": 180
    },
    "id": "aSOiw5tOnrw_",
    "outputId": "76ebc0c5-082c-412c-aa51-bb097b69a59f"
   },
   "outputs": [
    {
     "data": {
      "text/html": [
       "<div>\n",
       "<style scoped>\n",
       "    .dataframe tbody tr th:only-of-type {\n",
       "        vertical-align: middle;\n",
       "    }\n",
       "\n",
       "    .dataframe tbody tr th {\n",
       "        vertical-align: top;\n",
       "    }\n",
       "\n",
       "    .dataframe thead th {\n",
       "        text-align: right;\n",
       "    }\n",
       "</style>\n",
       "<table border=\"1\" class=\"dataframe\">\n",
       "  <thead>\n",
       "    <tr style=\"text-align: right;\">\n",
       "      <th></th>\n",
       "      <th>idade</th>\n",
       "      <th>salario</th>\n",
       "      <th>tempo_trabalho</th>\n",
       "      <th>valor_emprestimo</th>\n",
       "      <th>taxa_juros</th>\n",
       "      <th>inadimplencia</th>\n",
       "      <th>renda_percentual_emprestimo</th>\n",
       "      <th>tempo_de_credito</th>\n",
       "    </tr>\n",
       "  </thead>\n",
       "  <tbody>\n",
       "    <tr>\n",
       "      <th>count</th>\n",
       "      <td>34177.00</td>\n",
       "      <td>34162.00</td>\n",
       "      <td>33247.00</td>\n",
       "      <td>34170.00</td>\n",
       "      <td>30871.00</td>\n",
       "      <td>34158.00</td>\n",
       "      <td>34182.00</td>\n",
       "      <td>34497.00</td>\n",
       "    </tr>\n",
       "    <tr>\n",
       "      <th>mean</th>\n",
       "      <td>27.73</td>\n",
       "      <td>66028.69</td>\n",
       "      <td>4.79</td>\n",
       "      <td>9590.58</td>\n",
       "      <td>11.01</td>\n",
       "      <td>0.22</td>\n",
       "      <td>0.17</td>\n",
       "      <td>5.81</td>\n",
       "    </tr>\n",
       "    <tr>\n",
       "      <th>std</th>\n",
       "      <td>6.35</td>\n",
       "      <td>61405.06</td>\n",
       "      <td>4.14</td>\n",
       "      <td>6320.43</td>\n",
       "      <td>3.24</td>\n",
       "      <td>0.41</td>\n",
       "      <td>0.11</td>\n",
       "      <td>4.06</td>\n",
       "    </tr>\n",
       "    <tr>\n",
       "      <th>min</th>\n",
       "      <td>20.00</td>\n",
       "      <td>4000.00</td>\n",
       "      <td>0.00</td>\n",
       "      <td>500.00</td>\n",
       "      <td>5.42</td>\n",
       "      <td>0.00</td>\n",
       "      <td>0.00</td>\n",
       "      <td>2.00</td>\n",
       "    </tr>\n",
       "    <tr>\n",
       "      <th>25%</th>\n",
       "      <td>23.00</td>\n",
       "      <td>38493.00</td>\n",
       "      <td>2.00</td>\n",
       "      <td>5000.00</td>\n",
       "      <td>7.90</td>\n",
       "      <td>0.00</td>\n",
       "      <td>0.09</td>\n",
       "      <td>3.00</td>\n",
       "    </tr>\n",
       "    <tr>\n",
       "      <th>50%</th>\n",
       "      <td>26.00</td>\n",
       "      <td>55000.00</td>\n",
       "      <td>4.00</td>\n",
       "      <td>8000.00</td>\n",
       "      <td>10.99</td>\n",
       "      <td>0.00</td>\n",
       "      <td>0.15</td>\n",
       "      <td>4.00</td>\n",
       "    </tr>\n",
       "    <tr>\n",
       "      <th>75%</th>\n",
       "      <td>30.00</td>\n",
       "      <td>79200.00</td>\n",
       "      <td>7.00</td>\n",
       "      <td>12200.00</td>\n",
       "      <td>13.47</td>\n",
       "      <td>0.00</td>\n",
       "      <td>0.23</td>\n",
       "      <td>8.00</td>\n",
       "    </tr>\n",
       "    <tr>\n",
       "      <th>max</th>\n",
       "      <td>144.00</td>\n",
       "      <td>6000000.00</td>\n",
       "      <td>123.00</td>\n",
       "      <td>35000.00</td>\n",
       "      <td>23.22</td>\n",
       "      <td>1.00</td>\n",
       "      <td>0.83</td>\n",
       "      <td>30.00</td>\n",
       "    </tr>\n",
       "  </tbody>\n",
       "</table>\n",
       "</div>"
      ],
      "text/plain": [
       "          idade     salario  tempo_trabalho  valor_emprestimo  taxa_juros  \\\n",
       "count  34177.00    34162.00        33247.00          34170.00    30871.00   \n",
       "mean      27.73    66028.69            4.79           9590.58       11.01   \n",
       "std        6.35    61405.06            4.14           6320.43        3.24   \n",
       "min       20.00     4000.00            0.00            500.00        5.42   \n",
       "25%       23.00    38493.00            2.00           5000.00        7.90   \n",
       "50%       26.00    55000.00            4.00           8000.00       10.99   \n",
       "75%       30.00    79200.00            7.00          12200.00       13.47   \n",
       "max      144.00  6000000.00          123.00          35000.00       23.22   \n",
       "\n",
       "       inadimplencia  renda_percentual_emprestimo  tempo_de_credito  \n",
       "count       34158.00                     34182.00          34497.00  \n",
       "mean            0.22                         0.17              5.81  \n",
       "std             0.41                         0.11              4.06  \n",
       "min             0.00                         0.00              2.00  \n",
       "25%             0.00                         0.09              3.00  \n",
       "50%             0.00                         0.15              4.00  \n",
       "75%             0.00                         0.23              8.00  \n",
       "max             1.00                         0.83             30.00  "
      ]
     },
     "execution_count": 5,
     "metadata": {},
     "output_type": "execute_result"
    }
   ],
   "source": [
    "# Analise estatistica das variáveis numéricas:\n",
    "dados.describe().round(2)"
   ]
  },
  {
   "cell_type": "markdown",
   "metadata": {
    "id": "ZwhsnETEqhCH"
   },
   "source": [
    "* Percebe-se que existem valores muito discrepantes nas variaveis idade e tempo_trabalho. Uma idade de 144 e um tempo de trabalho de 123 anos não fazem muito sentido e vão ser removidos futuramente.\n",
    "\n",
    "---"
   ]
  },
  {
   "cell_type": "markdown",
   "metadata": {
    "id": "pmHryLONqk7u"
   },
   "source": [
    "\n",
    "Vamos checar os dados únicos de cada uma das variáveis categóricas para identificar se há a presença de valores nulos e a quantidade de categorias de cada uma das colunas, indicando qual tratamento precisa ser feito antes de seguir para a modelagem.\n",
    "\n"
   ]
  },
  {
   "cell_type": "code",
   "execution_count": 6,
   "metadata": {
    "colab": {
     "base_uri": "https://localhost:8080/"
    },
    "executionInfo": {
     "elapsed": 21,
     "status": "ok",
     "timestamp": 1674621883364,
     "user": {
      "displayName": "Leonardo Santana",
      "userId": "14879446823353399218"
     },
     "user_tz": 180
    },
    "id": "pF9K5MNfqbLJ",
    "outputId": "1ccef636-fef9-4029-c7bf-1e1ddb2448da"
   },
   "outputs": [
    {
     "data": {
      "text/plain": [
       "array(['Rent', 'Own', 'Mortgage', nan, 'Other'], dtype=object)"
      ]
     },
     "execution_count": 6,
     "metadata": {},
     "output_type": "execute_result"
    }
   ],
   "source": [
    "dados['situacao_moradia'].unique()"
   ]
  },
  {
   "cell_type": "code",
   "execution_count": 7,
   "metadata": {
    "colab": {
     "base_uri": "https://localhost:8080/"
    },
    "executionInfo": {
     "elapsed": 19,
     "status": "ok",
     "timestamp": 1674621883365,
     "user": {
      "displayName": "Leonardo Santana",
      "userId": "14879446823353399218"
     },
     "user_tz": 180
    },
    "id": "OZGqn8TEq8NH",
    "outputId": "fe1d62c5-f286-4ec9-b66c-cea56cc05f6f"
   },
   "outputs": [
    {
     "data": {
      "text/plain": [
       "array(['Medical', 'Homeimprovement', 'Personal', 'Venture', 'Education',\n",
       "       'Debtconsolidation', nan], dtype=object)"
      ]
     },
     "execution_count": 7,
     "metadata": {},
     "output_type": "execute_result"
    }
   ],
   "source": [
    "dados['motivo_emprestimo'].unique()"
   ]
  },
  {
   "cell_type": "code",
   "execution_count": 8,
   "metadata": {
    "colab": {
     "base_uri": "https://localhost:8080/"
    },
    "executionInfo": {
     "elapsed": 17,
     "status": "ok",
     "timestamp": 1674621883365,
     "user": {
      "displayName": "Leonardo Santana",
      "userId": "14879446823353399218"
     },
     "user_tz": 180
    },
    "id": "Fxfug47ErBjP",
    "outputId": "0b222203-c0b4-4006-8f0b-8c8829acf8c7"
   },
   "outputs": [
    {
     "data": {
      "text/plain": [
       "array(['B', 'A', 'C', 'E', 'D', nan, 'F', 'G'], dtype=object)"
      ]
     },
     "execution_count": 8,
     "metadata": {},
     "output_type": "execute_result"
    }
   ],
   "source": [
    "dados['pontuacao_emprestimo'].unique()"
   ]
  },
  {
   "cell_type": "code",
   "execution_count": 9,
   "metadata": {
    "colab": {
     "base_uri": "https://localhost:8080/"
    },
    "executionInfo": {
     "elapsed": 17,
     "status": "ok",
     "timestamp": 1674621883366,
     "user": {
      "displayName": "Leonardo Santana",
      "userId": "14879446823353399218"
     },
     "user_tz": 180
    },
    "id": "EyACanTdrDce",
    "outputId": "aeb48f77-2875-4e13-e42c-504ff6435fdf"
   },
   "outputs": [
    {
     "data": {
      "text/plain": [
       "array(['N', 'Y', nan], dtype=object)"
      ]
     },
     "execution_count": 9,
     "metadata": {},
     "output_type": "execute_result"
    }
   ],
   "source": [
    "dados['devendo'].unique()"
   ]
  },
  {
   "cell_type": "code",
   "execution_count": 10,
   "metadata": {
    "colab": {
     "base_uri": "https://localhost:8080/"
    },
    "executionInfo": {
     "elapsed": 16,
     "status": "ok",
     "timestamp": 1674621883367,
     "user": {
      "displayName": "Leonardo Santana",
      "userId": "14879446823353399218"
     },
     "user_tz": 180
    },
    "id": "8aSh81dQrFc_",
    "outputId": "89c5bc5d-ab13-42b5-bdc5-18928ae66ef7"
   },
   "outputs": [
    {
     "name": "stdout",
     "output_type": "stream",
     "text": [
      "Colunas com dados nulos: \n",
      "situacao_moradia        331\n",
      "motivo_emprestimo       315\n",
      "pontuacao_emprestimo    313\n",
      "devendo                 370\n",
      "dtype: int64\n"
     ]
    }
   ],
   "source": [
    "colunas_nulas = dados[['situacao_moradia', 'motivo_emprestimo', 'pontuacao_emprestimo', 'devendo']].isnull().sum()\n",
    "\n",
    "print(f'Colunas com dados nulos: \\n{colunas_nulas}')"
   ]
  },
  {
   "cell_type": "code",
   "execution_count": 11,
   "metadata": {
    "colab": {
     "base_uri": "https://localhost:8080/"
    },
    "executionInfo": {
     "elapsed": 16,
     "status": "ok",
     "timestamp": 1674621883368,
     "user": {
      "displayName": "Leonardo Santana",
      "userId": "14879446823353399218"
     },
     "user_tz": 180
    },
    "id": "lgoTA43PrHMP",
    "outputId": "b0bff21e-7ce5-4d99-ddbc-f96e943403ef"
   },
   "outputs": [
    {
     "data": {
      "text/plain": [
       "0.0    26705\n",
       "1.0     7453\n",
       "Name: inadimplencia, dtype: int64"
      ]
     },
     "execution_count": 11,
     "metadata": {},
     "output_type": "execute_result"
    }
   ],
   "source": [
    "#  variável alvo\n",
    "dados['inadimplencia'].value_counts()"
   ]
  },
  {
   "cell_type": "markdown",
   "metadata": {
    "id": "lLL0QxRarNP1"
   },
   "source": [
    "* É possível identificar que a variável alvo é desbalanceada, o que pode acarretar em problemas na etapa de modelagem.\n",
    "\n",
    "* Podemos utilizar técnicas para realizar o balançeamento de dados posteriomente."
   ]
  },
  {
   "cell_type": "markdown",
   "metadata": {
    "id": "vYWQubDLrzFV"
   },
   "source": [
    "## 3. Limpeza dos dados\n",
    "\n",
    "Nessa seção removemos os dados nulos e inconsistentes, após isso analisamos a porcentagem de dados perdidos nesse processo. "
   ]
  },
  {
   "cell_type": "code",
   "execution_count": 12,
   "metadata": {
    "colab": {
     "base_uri": "https://localhost:8080/"
    },
    "executionInfo": {
     "elapsed": 15,
     "status": "ok",
     "timestamp": 1674621883368,
     "user": {
      "displayName": "Leonardo Santana",
      "userId": "14879446823353399218"
     },
     "user_tz": 180
    },
    "id": "bFiRSlQxrK4_",
    "outputId": "16f48438-36e2-4d6d-df45-72ca9a98b754"
   },
   "outputs": [
    {
     "data": {
      "text/plain": [
       "idade                           324\n",
       "salario                         339\n",
       "situacao_moradia                331\n",
       "tempo_trabalho                 1254\n",
       "motivo_emprestimo               315\n",
       "pontuacao_emprestimo            313\n",
       "valor_emprestimo                331\n",
       "taxa_juros                     3630\n",
       "inadimplencia                   343\n",
       "renda_percentual_emprestimo     319\n",
       "devendo                         370\n",
       "tempo_de_credito                  4\n",
       "dtype: int64"
      ]
     },
     "execution_count": 12,
     "metadata": {},
     "output_type": "execute_result"
    }
   ],
   "source": [
    "# Quantidade de dados nulos por coluna\n",
    "dados.isna().sum()"
   ]
  },
  {
   "cell_type": "code",
   "execution_count": 13,
   "metadata": {
    "colab": {
     "base_uri": "https://localhost:8080/"
    },
    "executionInfo": {
     "elapsed": 327,
     "status": "ok",
     "timestamp": 1674621883681,
     "user": {
      "displayName": "Leonardo Santana",
      "userId": "14879446823353399218"
     },
     "user_tz": 180
    },
    "id": "PzKXJTWqsWFf",
    "outputId": "f7908e48-8e13-432a-b91c-b25a6949e472"
   },
   "outputs": [
    {
     "name": "stdout",
     "output_type": "stream",
     "text": [
      "A quantidade de registros inicial era de 34501, após a remoção dos dados nulos ficamos com 28638\n"
     ]
    }
   ],
   "source": [
    "# excluindo os dados nulos\n",
    "dados.dropna(inplace = True)\n",
    "\n",
    "print(f'A quantidade de registros inicial era de 34501, após a remoção dos dados nulos ficamos com {dados.shape[0]}')"
   ]
  },
  {
   "cell_type": "markdown",
   "metadata": {
    "id": "3tggvSumu2PP"
   },
   "source": [
    "Agora vamos remover os dados discrepantes do conjunto de dados.\n",
    "\n"
   ]
  },
  {
   "cell_type": "code",
   "execution_count": 14,
   "metadata": {
    "colab": {
     "base_uri": "https://localhost:8080/",
     "height": 0
    },
    "executionInfo": {
     "elapsed": 25,
     "status": "ok",
     "timestamp": 1674621883682,
     "user": {
      "displayName": "Leonardo Santana",
      "userId": "14879446823353399218"
     },
     "user_tz": 180
    },
    "id": "cCgZdesiuFQX",
    "outputId": "6814528a-5fc6-4c76-b2db-400c7ccb3509"
   },
   "outputs": [
    {
     "data": {
      "text/html": [
       "<div>\n",
       "<style scoped>\n",
       "    .dataframe tbody tr th:only-of-type {\n",
       "        vertical-align: middle;\n",
       "    }\n",
       "\n",
       "    .dataframe tbody tr th {\n",
       "        vertical-align: top;\n",
       "    }\n",
       "\n",
       "    .dataframe thead th {\n",
       "        text-align: right;\n",
       "    }\n",
       "</style>\n",
       "<table border=\"1\" class=\"dataframe\">\n",
       "  <thead>\n",
       "    <tr style=\"text-align: right;\">\n",
       "      <th></th>\n",
       "      <th>idade</th>\n",
       "      <th>salario</th>\n",
       "      <th>situacao_moradia</th>\n",
       "      <th>tempo_trabalho</th>\n",
       "      <th>motivo_emprestimo</th>\n",
       "      <th>pontuacao_emprestimo</th>\n",
       "      <th>valor_emprestimo</th>\n",
       "      <th>taxa_juros</th>\n",
       "      <th>inadimplencia</th>\n",
       "      <th>renda_percentual_emprestimo</th>\n",
       "      <th>devendo</th>\n",
       "      <th>tempo_de_credito</th>\n",
       "    </tr>\n",
       "  </thead>\n",
       "  <tbody>\n",
       "    <tr>\n",
       "      <th>180</th>\n",
       "      <td>144.0</td>\n",
       "      <td>200000.0</td>\n",
       "      <td>Mortgage</td>\n",
       "      <td>4.0</td>\n",
       "      <td>Education</td>\n",
       "      <td>B</td>\n",
       "      <td>6000.0</td>\n",
       "      <td>11.86</td>\n",
       "      <td>0.0</td>\n",
       "      <td>0.03</td>\n",
       "      <td>N</td>\n",
       "      <td>2.0</td>\n",
       "    </tr>\n",
       "    <tr>\n",
       "      <th>11559</th>\n",
       "      <td>144.0</td>\n",
       "      <td>250000.0</td>\n",
       "      <td>Rent</td>\n",
       "      <td>4.0</td>\n",
       "      <td>Venture</td>\n",
       "      <td>C</td>\n",
       "      <td>4800.0</td>\n",
       "      <td>13.57</td>\n",
       "      <td>0.0</td>\n",
       "      <td>0.02</td>\n",
       "      <td>N</td>\n",
       "      <td>3.0</td>\n",
       "    </tr>\n",
       "    <tr>\n",
       "      <th>30413</th>\n",
       "      <td>144.0</td>\n",
       "      <td>6000000.0</td>\n",
       "      <td>Mortgage</td>\n",
       "      <td>12.0</td>\n",
       "      <td>Personal</td>\n",
       "      <td>C</td>\n",
       "      <td>5000.0</td>\n",
       "      <td>12.73</td>\n",
       "      <td>0.0</td>\n",
       "      <td>0.00</td>\n",
       "      <td>N</td>\n",
       "      <td>25.0</td>\n",
       "    </tr>\n",
       "    <tr>\n",
       "      <th>33098</th>\n",
       "      <td>123.0</td>\n",
       "      <td>80004.0</td>\n",
       "      <td>Rent</td>\n",
       "      <td>2.0</td>\n",
       "      <td>Education</td>\n",
       "      <td>B</td>\n",
       "      <td>20400.0</td>\n",
       "      <td>10.25</td>\n",
       "      <td>0.0</td>\n",
       "      <td>0.25</td>\n",
       "      <td>N</td>\n",
       "      <td>3.0</td>\n",
       "    </tr>\n",
       "  </tbody>\n",
       "</table>\n",
       "</div>"
      ],
      "text/plain": [
       "       idade    salario situacao_moradia  tempo_trabalho motivo_emprestimo  \\\n",
       "180    144.0   200000.0         Mortgage             4.0         Education   \n",
       "11559  144.0   250000.0             Rent             4.0           Venture   \n",
       "30413  144.0  6000000.0         Mortgage            12.0          Personal   \n",
       "33098  123.0    80004.0             Rent             2.0         Education   \n",
       "\n",
       "      pontuacao_emprestimo  valor_emprestimo  taxa_juros  inadimplencia  \\\n",
       "180                      B            6000.0       11.86            0.0   \n",
       "11559                    C            4800.0       13.57            0.0   \n",
       "30413                    C            5000.0       12.73            0.0   \n",
       "33098                    B           20400.0       10.25            0.0   \n",
       "\n",
       "       renda_percentual_emprestimo devendo  tempo_de_credito  \n",
       "180                           0.03       N               2.0  \n",
       "11559                         0.02       N               3.0  \n",
       "30413                         0.00       N              25.0  \n",
       "33098                         0.25       N               3.0  "
      ]
     },
     "execution_count": 14,
     "metadata": {},
     "output_type": "execute_result"
    }
   ],
   "source": [
    "dados[(dados['idade'] > 100)]"
   ]
  },
  {
   "cell_type": "code",
   "execution_count": 15,
   "metadata": {
    "colab": {
     "base_uri": "https://localhost:8080/",
     "height": 0
    },
    "executionInfo": {
     "elapsed": 24,
     "status": "ok",
     "timestamp": 1674621883683,
     "user": {
      "displayName": "Leonardo Santana",
      "userId": "14879446823353399218"
     },
     "user_tz": 180
    },
    "id": "kA_IzQvWu9n8",
    "outputId": "ad1f2c8c-cbef-4192-ca77-62cccb209504"
   },
   "outputs": [
    {
     "data": {
      "text/html": [
       "<div>\n",
       "<style scoped>\n",
       "    .dataframe tbody tr th:only-of-type {\n",
       "        vertical-align: middle;\n",
       "    }\n",
       "\n",
       "    .dataframe tbody tr th {\n",
       "        vertical-align: top;\n",
       "    }\n",
       "\n",
       "    .dataframe thead th {\n",
       "        text-align: right;\n",
       "    }\n",
       "</style>\n",
       "<table border=\"1\" class=\"dataframe\">\n",
       "  <thead>\n",
       "    <tr style=\"text-align: right;\">\n",
       "      <th></th>\n",
       "      <th>idade</th>\n",
       "      <th>salario</th>\n",
       "      <th>situacao_moradia</th>\n",
       "      <th>tempo_trabalho</th>\n",
       "      <th>motivo_emprestimo</th>\n",
       "      <th>pontuacao_emprestimo</th>\n",
       "      <th>valor_emprestimo</th>\n",
       "      <th>taxa_juros</th>\n",
       "      <th>inadimplencia</th>\n",
       "      <th>renda_percentual_emprestimo</th>\n",
       "      <th>devendo</th>\n",
       "      <th>tempo_de_credito</th>\n",
       "    </tr>\n",
       "  </thead>\n",
       "  <tbody>\n",
       "    <tr>\n",
       "      <th>7074</th>\n",
       "      <td>22.0</td>\n",
       "      <td>59000.0</td>\n",
       "      <td>Rent</td>\n",
       "      <td>123.0</td>\n",
       "      <td>Personal</td>\n",
       "      <td>D</td>\n",
       "      <td>35000.0</td>\n",
       "      <td>16.02</td>\n",
       "      <td>1.0</td>\n",
       "      <td>0.59</td>\n",
       "      <td>Y</td>\n",
       "      <td>3.0</td>\n",
       "    </tr>\n",
       "    <tr>\n",
       "      <th>8954</th>\n",
       "      <td>21.0</td>\n",
       "      <td>192000.0</td>\n",
       "      <td>Mortgage</td>\n",
       "      <td>123.0</td>\n",
       "      <td>Venture</td>\n",
       "      <td>A</td>\n",
       "      <td>20000.0</td>\n",
       "      <td>6.54</td>\n",
       "      <td>0.0</td>\n",
       "      <td>0.10</td>\n",
       "      <td>N</td>\n",
       "      <td>4.0</td>\n",
       "    </tr>\n",
       "  </tbody>\n",
       "</table>\n",
       "</div>"
      ],
      "text/plain": [
       "      idade   salario situacao_moradia  tempo_trabalho motivo_emprestimo  \\\n",
       "7074   22.0   59000.0             Rent           123.0          Personal   \n",
       "8954   21.0  192000.0         Mortgage           123.0           Venture   \n",
       "\n",
       "     pontuacao_emprestimo  valor_emprestimo  taxa_juros  inadimplencia  \\\n",
       "7074                    D           35000.0       16.02            1.0   \n",
       "8954                    A           20000.0        6.54            0.0   \n",
       "\n",
       "      renda_percentual_emprestimo devendo  tempo_de_credito  \n",
       "7074                         0.59       Y               3.0  \n",
       "8954                         0.10       N               4.0  "
      ]
     },
     "execution_count": 15,
     "metadata": {},
     "output_type": "execute_result"
    }
   ],
   "source": [
    "dados[(dados['tempo_trabalho'] > 90)]\n"
   ]
  },
  {
   "cell_type": "code",
   "execution_count": 16,
   "metadata": {
    "colab": {
     "base_uri": "https://localhost:8080/",
     "height": 0
    },
    "executionInfo": {
     "elapsed": 24,
     "status": "ok",
     "timestamp": 1674621883684,
     "user": {
      "displayName": "Leonardo Santana",
      "userId": "14879446823353399218"
     },
     "user_tz": 180
    },
    "id": "WomdEUa0wZAG",
    "outputId": "18254c1d-0803-46b5-878b-cbb843010257"
   },
   "outputs": [
    {
     "data": {
      "text/html": [
       "<div>\n",
       "<style scoped>\n",
       "    .dataframe tbody tr th:only-of-type {\n",
       "        vertical-align: middle;\n",
       "    }\n",
       "\n",
       "    .dataframe tbody tr th {\n",
       "        vertical-align: top;\n",
       "    }\n",
       "\n",
       "    .dataframe thead th {\n",
       "        text-align: right;\n",
       "    }\n",
       "</style>\n",
       "<table border=\"1\" class=\"dataframe\">\n",
       "  <thead>\n",
       "    <tr style=\"text-align: right;\">\n",
       "      <th></th>\n",
       "      <th>idade</th>\n",
       "      <th>salario</th>\n",
       "      <th>situacao_moradia</th>\n",
       "      <th>tempo_trabalho</th>\n",
       "      <th>motivo_emprestimo</th>\n",
       "      <th>pontuacao_emprestimo</th>\n",
       "      <th>valor_emprestimo</th>\n",
       "      <th>taxa_juros</th>\n",
       "      <th>inadimplencia</th>\n",
       "      <th>renda_percentual_emprestimo</th>\n",
       "      <th>devendo</th>\n",
       "      <th>tempo_de_credito</th>\n",
       "    </tr>\n",
       "  </thead>\n",
       "  <tbody>\n",
       "    <tr>\n",
       "      <th>0</th>\n",
       "      <td>26.0</td>\n",
       "      <td>84996.0</td>\n",
       "      <td>Rent</td>\n",
       "      <td>0.0</td>\n",
       "      <td>Medical</td>\n",
       "      <td>B</td>\n",
       "      <td>9000.0</td>\n",
       "      <td>11.26</td>\n",
       "      <td>0.0</td>\n",
       "      <td>0.11</td>\n",
       "      <td>N</td>\n",
       "      <td>2.0</td>\n",
       "    </tr>\n",
       "    <tr>\n",
       "      <th>1</th>\n",
       "      <td>24.0</td>\n",
       "      <td>55782.0</td>\n",
       "      <td>Rent</td>\n",
       "      <td>3.0</td>\n",
       "      <td>Homeimprovement</td>\n",
       "      <td>A</td>\n",
       "      <td>17000.0</td>\n",
       "      <td>7.51</td>\n",
       "      <td>0.0</td>\n",
       "      <td>0.30</td>\n",
       "      <td>N</td>\n",
       "      <td>2.0</td>\n",
       "    </tr>\n",
       "    <tr>\n",
       "      <th>2</th>\n",
       "      <td>25.0</td>\n",
       "      <td>125000.0</td>\n",
       "      <td>Own</td>\n",
       "      <td>9.0</td>\n",
       "      <td>Personal</td>\n",
       "      <td>B</td>\n",
       "      <td>25000.0</td>\n",
       "      <td>10.59</td>\n",
       "      <td>0.0</td>\n",
       "      <td>0.20</td>\n",
       "      <td>N</td>\n",
       "      <td>2.0</td>\n",
       "    </tr>\n",
       "    <tr>\n",
       "      <th>3</th>\n",
       "      <td>23.0</td>\n",
       "      <td>44340.0</td>\n",
       "      <td>Own</td>\n",
       "      <td>0.0</td>\n",
       "      <td>Venture</td>\n",
       "      <td>C</td>\n",
       "      <td>3000.0</td>\n",
       "      <td>12.98</td>\n",
       "      <td>0.0</td>\n",
       "      <td>0.07</td>\n",
       "      <td>Y</td>\n",
       "      <td>3.0</td>\n",
       "    </tr>\n",
       "    <tr>\n",
       "      <th>4</th>\n",
       "      <td>23.0</td>\n",
       "      <td>48000.0</td>\n",
       "      <td>Mortgage</td>\n",
       "      <td>5.0</td>\n",
       "      <td>Education</td>\n",
       "      <td>C</td>\n",
       "      <td>5000.0</td>\n",
       "      <td>13.99</td>\n",
       "      <td>0.0</td>\n",
       "      <td>0.10</td>\n",
       "      <td>Y</td>\n",
       "      <td>2.0</td>\n",
       "    </tr>\n",
       "    <tr>\n",
       "      <th>...</th>\n",
       "      <td>...</td>\n",
       "      <td>...</td>\n",
       "      <td>...</td>\n",
       "      <td>...</td>\n",
       "      <td>...</td>\n",
       "      <td>...</td>\n",
       "      <td>...</td>\n",
       "      <td>...</td>\n",
       "      <td>...</td>\n",
       "      <td>...</td>\n",
       "      <td>...</td>\n",
       "      <td>...</td>\n",
       "    </tr>\n",
       "    <tr>\n",
       "      <th>34496</th>\n",
       "      <td>21.0</td>\n",
       "      <td>120000.0</td>\n",
       "      <td>Rent</td>\n",
       "      <td>4.0</td>\n",
       "      <td>Debtconsolidation</td>\n",
       "      <td>B</td>\n",
       "      <td>10000.0</td>\n",
       "      <td>9.99</td>\n",
       "      <td>0.0</td>\n",
       "      <td>0.08</td>\n",
       "      <td>N</td>\n",
       "      <td>3.0</td>\n",
       "    </tr>\n",
       "    <tr>\n",
       "      <th>34497</th>\n",
       "      <td>22.0</td>\n",
       "      <td>87000.0</td>\n",
       "      <td>Rent</td>\n",
       "      <td>5.0</td>\n",
       "      <td>Debtconsolidation</td>\n",
       "      <td>C</td>\n",
       "      <td>20000.0</td>\n",
       "      <td>13.85</td>\n",
       "      <td>0.0</td>\n",
       "      <td>0.23</td>\n",
       "      <td>N</td>\n",
       "      <td>4.0</td>\n",
       "    </tr>\n",
       "    <tr>\n",
       "      <th>34498</th>\n",
       "      <td>27.0</td>\n",
       "      <td>69996.0</td>\n",
       "      <td>Rent</td>\n",
       "      <td>1.0</td>\n",
       "      <td>Personal</td>\n",
       "      <td>B</td>\n",
       "      <td>6000.0</td>\n",
       "      <td>11.86</td>\n",
       "      <td>0.0</td>\n",
       "      <td>0.09</td>\n",
       "      <td>N</td>\n",
       "      <td>6.0</td>\n",
       "    </tr>\n",
       "    <tr>\n",
       "      <th>34499</th>\n",
       "      <td>23.0</td>\n",
       "      <td>100000.0</td>\n",
       "      <td>Mortgage</td>\n",
       "      <td>7.0</td>\n",
       "      <td>Medical</td>\n",
       "      <td>B</td>\n",
       "      <td>25000.0</td>\n",
       "      <td>11.71</td>\n",
       "      <td>0.0</td>\n",
       "      <td>0.25</td>\n",
       "      <td>N</td>\n",
       "      <td>3.0</td>\n",
       "    </tr>\n",
       "    <tr>\n",
       "      <th>34500</th>\n",
       "      <td>41.0</td>\n",
       "      <td>121200.0</td>\n",
       "      <td>Rent</td>\n",
       "      <td>1.0</td>\n",
       "      <td>Venture</td>\n",
       "      <td>A</td>\n",
       "      <td>10000.0</td>\n",
       "      <td>6.03</td>\n",
       "      <td>0.0</td>\n",
       "      <td>0.08</td>\n",
       "      <td>N</td>\n",
       "      <td>13.0</td>\n",
       "    </tr>\n",
       "  </tbody>\n",
       "</table>\n",
       "<p>28632 rows × 12 columns</p>\n",
       "</div>"
      ],
      "text/plain": [
       "       idade   salario situacao_moradia  tempo_trabalho  motivo_emprestimo  \\\n",
       "0       26.0   84996.0             Rent             0.0            Medical   \n",
       "1       24.0   55782.0             Rent             3.0    Homeimprovement   \n",
       "2       25.0  125000.0              Own             9.0           Personal   \n",
       "3       23.0   44340.0              Own             0.0            Venture   \n",
       "4       23.0   48000.0         Mortgage             5.0          Education   \n",
       "...      ...       ...              ...             ...                ...   \n",
       "34496   21.0  120000.0             Rent             4.0  Debtconsolidation   \n",
       "34497   22.0   87000.0             Rent             5.0  Debtconsolidation   \n",
       "34498   27.0   69996.0             Rent             1.0           Personal   \n",
       "34499   23.0  100000.0         Mortgage             7.0            Medical   \n",
       "34500   41.0  121200.0             Rent             1.0            Venture   \n",
       "\n",
       "      pontuacao_emprestimo  valor_emprestimo  taxa_juros  inadimplencia  \\\n",
       "0                        B            9000.0       11.26            0.0   \n",
       "1                        A           17000.0        7.51            0.0   \n",
       "2                        B           25000.0       10.59            0.0   \n",
       "3                        C            3000.0       12.98            0.0   \n",
       "4                        C            5000.0       13.99            0.0   \n",
       "...                    ...               ...         ...            ...   \n",
       "34496                    B           10000.0        9.99            0.0   \n",
       "34497                    C           20000.0       13.85            0.0   \n",
       "34498                    B            6000.0       11.86            0.0   \n",
       "34499                    B           25000.0       11.71            0.0   \n",
       "34500                    A           10000.0        6.03            0.0   \n",
       "\n",
       "       renda_percentual_emprestimo devendo  tempo_de_credito  \n",
       "0                             0.11       N               2.0  \n",
       "1                             0.30       N               2.0  \n",
       "2                             0.20       N               2.0  \n",
       "3                             0.07       Y               3.0  \n",
       "4                             0.10       Y               2.0  \n",
       "...                            ...     ...               ...  \n",
       "34496                         0.08       N               3.0  \n",
       "34497                         0.23       N               4.0  \n",
       "34498                         0.09       N               6.0  \n",
       "34499                         0.25       N               3.0  \n",
       "34500                         0.08       N              13.0  \n",
       "\n",
       "[28632 rows x 12 columns]"
      ]
     },
     "execution_count": 16,
     "metadata": {},
     "output_type": "execute_result"
    }
   ],
   "source": [
    "dados = dados[(dados['idade'] < 100) & (dados['tempo_trabalho'] < 90)]\n",
    "dados"
   ]
  },
  {
   "cell_type": "code",
   "execution_count": 17,
   "metadata": {
    "colab": {
     "base_uri": "https://localhost:8080/"
    },
    "executionInfo": {
     "elapsed": 24,
     "status": "ok",
     "timestamp": 1674621883686,
     "user": {
      "displayName": "Leonardo Santana",
      "userId": "14879446823353399218"
     },
     "user_tz": 180
    },
    "id": "FzW17PIFwfH1",
    "outputId": "01b0bbc3-0baa-4855-c63d-fa2eaacaeec9"
   },
   "outputs": [
    {
     "name": "stdout",
     "output_type": "stream",
     "text": [
      "Quantidade de registros final: 28632\n"
     ]
    }
   ],
   "source": [
    "print(f'Quantidade de registros final: {dados.shape[0]}')"
   ]
  },
  {
   "cell_type": "markdown",
   "metadata": {
    "id": "pnZnRP5Lx7Xt"
   },
   "source": [
    "* A quantidade de registros inicial era de 34501, depois de todas as remoções ficamos com 28632. Portanto, foram removidos 5869 registros, ou seja, aproximadamente 17% do conjunto de dados inicial.\n",
    "\n"
   ]
  },
  {
   "cell_type": "markdown",
   "metadata": {
    "id": "DXuOu_LGw4_z"
   },
   "source": [
    "## 4. Tratamento dos dados\n",
    "\n",
    "Agora se inicia o processo de tratamento de dados para que possam ser usados na etapa de modelagem.\n",
    "\n",
    "As variáveis categóricas serão transformadas em variáveis dummy e as variáveis serão normalizadas para ficarem em uma mesma escala para que variáveis com escalas maiores não tenham peso maior que as outras."
   ]
  },
  {
   "cell_type": "code",
   "execution_count": 18,
   "metadata": {
    "colab": {
     "base_uri": "https://localhost:8080/"
    },
    "executionInfo": {
     "elapsed": 25,
     "status": "ok",
     "timestamp": 1674621883688,
     "user": {
      "displayName": "Leonardo Santana",
      "userId": "14879446823353399218"
     },
     "user_tz": 180
    },
    "id": "_YjbraU54qOT",
    "outputId": "a9dc2e02-d90a-4793-b086-d4369fea795f"
   },
   "outputs": [
    {
     "name": "stdout",
     "output_type": "stream",
     "text": [
      "<class 'pandas.core.frame.DataFrame'>\n",
      "Int64Index: 28632 entries, 0 to 34500\n",
      "Data columns (total 12 columns):\n",
      " #   Column                       Non-Null Count  Dtype  \n",
      "---  ------                       --------------  -----  \n",
      " 0   idade                        28632 non-null  float64\n",
      " 1   salario                      28632 non-null  float64\n",
      " 2   situacao_moradia             28632 non-null  object \n",
      " 3   tempo_trabalho               28632 non-null  float64\n",
      " 4   motivo_emprestimo            28632 non-null  object \n",
      " 5   pontuacao_emprestimo         28632 non-null  object \n",
      " 6   valor_emprestimo             28632 non-null  float64\n",
      " 7   taxa_juros                   28632 non-null  float64\n",
      " 8   inadimplencia                28632 non-null  float64\n",
      " 9   renda_percentual_emprestimo  28632 non-null  float64\n",
      " 10  devendo                      28632 non-null  object \n",
      " 11  tempo_de_credito             28632 non-null  float64\n",
      "dtypes: float64(8), object(4)\n",
      "memory usage: 2.8+ MB\n"
     ]
    }
   ],
   "source": [
    "dados.info()"
   ]
  },
  {
   "cell_type": "code",
   "execution_count": 19,
   "metadata": {
    "colab": {
     "base_uri": "https://localhost:8080/",
     "height": 0
    },
    "executionInfo": {
     "elapsed": 25,
     "status": "ok",
     "timestamp": 1674621883689,
     "user": {
      "displayName": "Leonardo Santana",
      "userId": "14879446823353399218"
     },
     "user_tz": 180
    },
    "id": "uB8LXQwUwpTU",
    "outputId": "c951ea8c-4c7c-4e71-8561-69e14630c2fd"
   },
   "outputs": [
    {
     "data": {
      "text/html": [
       "<div>\n",
       "<style scoped>\n",
       "    .dataframe tbody tr th:only-of-type {\n",
       "        vertical-align: middle;\n",
       "    }\n",
       "\n",
       "    .dataframe tbody tr th {\n",
       "        vertical-align: top;\n",
       "    }\n",
       "\n",
       "    .dataframe thead th {\n",
       "        text-align: right;\n",
       "    }\n",
       "</style>\n",
       "<table border=\"1\" class=\"dataframe\">\n",
       "  <thead>\n",
       "    <tr style=\"text-align: right;\">\n",
       "      <th></th>\n",
       "      <th>idade</th>\n",
       "      <th>salario</th>\n",
       "      <th>situacao_moradia</th>\n",
       "      <th>tempo_trabalho</th>\n",
       "      <th>motivo_emprestimo</th>\n",
       "      <th>pontuacao_emprestimo</th>\n",
       "      <th>valor_emprestimo</th>\n",
       "      <th>taxa_juros</th>\n",
       "      <th>inadimplencia</th>\n",
       "      <th>renda_percentual_emprestimo</th>\n",
       "      <th>devendo</th>\n",
       "      <th>tempo_de_credito</th>\n",
       "    </tr>\n",
       "  </thead>\n",
       "  <tbody>\n",
       "    <tr>\n",
       "      <th>0</th>\n",
       "      <td>26.0</td>\n",
       "      <td>84996.0</td>\n",
       "      <td>Rent</td>\n",
       "      <td>0</td>\n",
       "      <td>Medical</td>\n",
       "      <td>B</td>\n",
       "      <td>9000.0</td>\n",
       "      <td>11.26</td>\n",
       "      <td>0.0</td>\n",
       "      <td>0.11</td>\n",
       "      <td>N</td>\n",
       "      <td>2.0</td>\n",
       "    </tr>\n",
       "    <tr>\n",
       "      <th>1</th>\n",
       "      <td>24.0</td>\n",
       "      <td>55782.0</td>\n",
       "      <td>Rent</td>\n",
       "      <td>3</td>\n",
       "      <td>Homeimprovement</td>\n",
       "      <td>A</td>\n",
       "      <td>17000.0</td>\n",
       "      <td>7.51</td>\n",
       "      <td>0.0</td>\n",
       "      <td>0.30</td>\n",
       "      <td>N</td>\n",
       "      <td>2.0</td>\n",
       "    </tr>\n",
       "    <tr>\n",
       "      <th>2</th>\n",
       "      <td>25.0</td>\n",
       "      <td>125000.0</td>\n",
       "      <td>Own</td>\n",
       "      <td>9</td>\n",
       "      <td>Personal</td>\n",
       "      <td>B</td>\n",
       "      <td>25000.0</td>\n",
       "      <td>10.59</td>\n",
       "      <td>0.0</td>\n",
       "      <td>0.20</td>\n",
       "      <td>N</td>\n",
       "      <td>2.0</td>\n",
       "    </tr>\n",
       "    <tr>\n",
       "      <th>3</th>\n",
       "      <td>23.0</td>\n",
       "      <td>44340.0</td>\n",
       "      <td>Own</td>\n",
       "      <td>0</td>\n",
       "      <td>Venture</td>\n",
       "      <td>C</td>\n",
       "      <td>3000.0</td>\n",
       "      <td>12.98</td>\n",
       "      <td>0.0</td>\n",
       "      <td>0.07</td>\n",
       "      <td>Y</td>\n",
       "      <td>3.0</td>\n",
       "    </tr>\n",
       "    <tr>\n",
       "      <th>4</th>\n",
       "      <td>23.0</td>\n",
       "      <td>48000.0</td>\n",
       "      <td>Mortgage</td>\n",
       "      <td>5</td>\n",
       "      <td>Education</td>\n",
       "      <td>C</td>\n",
       "      <td>5000.0</td>\n",
       "      <td>13.99</td>\n",
       "      <td>0.0</td>\n",
       "      <td>0.10</td>\n",
       "      <td>Y</td>\n",
       "      <td>2.0</td>\n",
       "    </tr>\n",
       "  </tbody>\n",
       "</table>\n",
       "</div>"
      ],
      "text/plain": [
       "   idade   salario situacao_moradia  tempo_trabalho motivo_emprestimo  \\\n",
       "0   26.0   84996.0             Rent               0           Medical   \n",
       "1   24.0   55782.0             Rent               3   Homeimprovement   \n",
       "2   25.0  125000.0              Own               9          Personal   \n",
       "3   23.0   44340.0              Own               0           Venture   \n",
       "4   23.0   48000.0         Mortgage               5         Education   \n",
       "\n",
       "  pontuacao_emprestimo  valor_emprestimo  taxa_juros  inadimplencia  \\\n",
       "0                    B            9000.0       11.26            0.0   \n",
       "1                    A           17000.0        7.51            0.0   \n",
       "2                    B           25000.0       10.59            0.0   \n",
       "3                    C            3000.0       12.98            0.0   \n",
       "4                    C            5000.0       13.99            0.0   \n",
       "\n",
       "   renda_percentual_emprestimo devendo  tempo_de_credito  \n",
       "0                         0.11       N               2.0  \n",
       "1                         0.30       N               2.0  \n",
       "2                         0.20       N               2.0  \n",
       "3                         0.07       Y               3.0  \n",
       "4                         0.10       Y               2.0  "
      ]
     },
     "execution_count": 19,
     "metadata": {},
     "output_type": "execute_result"
    }
   ],
   "source": [
    "# Alterando o tipo de dado da variável 'tempo_trabalho' para tipo inteiro.\n",
    "\n",
    "dados['tempo_trabalho'] = dados['tempo_trabalho'].astype('int64')\n",
    "dados.head()"
   ]
  },
  {
   "cell_type": "markdown",
   "metadata": {
    "id": "zf59w5q85D19"
   },
   "source": [
    "Vamos extrair a correlação entre as variáveis para entender se há alguma relação direta ou indireta entre as variáveis."
   ]
  },
  {
   "cell_type": "code",
   "execution_count": 20,
   "metadata": {
    "colab": {
     "base_uri": "https://localhost:8080/",
     "height": 0
    },
    "executionInfo": {
     "elapsed": 22,
     "status": "ok",
     "timestamp": 1674621884110,
     "user": {
      "displayName": "Leonardo Santana",
      "userId": "14879446823353399218"
     },
     "user_tz": 180
    },
    "id": "EnldIw1o5Dn-",
    "outputId": "0bae571e-42af-43cd-8a8d-3407a9ed4fbe"
   },
   "outputs": [
    {
     "data": {
      "text/html": [
       "<div>\n",
       "<style scoped>\n",
       "    .dataframe tbody tr th:only-of-type {\n",
       "        vertical-align: middle;\n",
       "    }\n",
       "\n",
       "    .dataframe tbody tr th {\n",
       "        vertical-align: top;\n",
       "    }\n",
       "\n",
       "    .dataframe thead th {\n",
       "        text-align: right;\n",
       "    }\n",
       "</style>\n",
       "<table border=\"1\" class=\"dataframe\">\n",
       "  <thead>\n",
       "    <tr style=\"text-align: right;\">\n",
       "      <th></th>\n",
       "      <th>idade</th>\n",
       "      <th>salario</th>\n",
       "      <th>tempo_trabalho</th>\n",
       "      <th>valor_emprestimo</th>\n",
       "      <th>taxa_juros</th>\n",
       "      <th>inadimplencia</th>\n",
       "      <th>renda_percentual_emprestimo</th>\n",
       "      <th>tempo_de_credito</th>\n",
       "    </tr>\n",
       "  </thead>\n",
       "  <tbody>\n",
       "    <tr>\n",
       "      <th>idade</th>\n",
       "      <td>1.000000</td>\n",
       "      <td>0.141471</td>\n",
       "      <td>0.176054</td>\n",
       "      <td>0.056061</td>\n",
       "      <td>0.010370</td>\n",
       "      <td>-0.022498</td>\n",
       "      <td>-0.039476</td>\n",
       "      <td>0.877581</td>\n",
       "    </tr>\n",
       "    <tr>\n",
       "      <th>salario</th>\n",
       "      <td>0.141471</td>\n",
       "      <td>1.000000</td>\n",
       "      <td>0.160952</td>\n",
       "      <td>0.324766</td>\n",
       "      <td>-0.003767</td>\n",
       "      <td>-0.167028</td>\n",
       "      <td>-0.297635</td>\n",
       "      <td>0.122787</td>\n",
       "    </tr>\n",
       "    <tr>\n",
       "      <th>tempo_trabalho</th>\n",
       "      <td>0.176054</td>\n",
       "      <td>0.160952</td>\n",
       "      <td>1.000000</td>\n",
       "      <td>0.108390</td>\n",
       "      <td>-0.058263</td>\n",
       "      <td>-0.086486</td>\n",
       "      <td>-0.060099</td>\n",
       "      <td>0.151571</td>\n",
       "    </tr>\n",
       "    <tr>\n",
       "      <th>valor_emprestimo</th>\n",
       "      <td>0.056061</td>\n",
       "      <td>0.324766</td>\n",
       "      <td>0.108390</td>\n",
       "      <td>1.000000</td>\n",
       "      <td>0.145895</td>\n",
       "      <td>0.113363</td>\n",
       "      <td>0.577197</td>\n",
       "      <td>0.045580</td>\n",
       "    </tr>\n",
       "    <tr>\n",
       "      <th>taxa_juros</th>\n",
       "      <td>0.010370</td>\n",
       "      <td>-0.003767</td>\n",
       "      <td>-0.058263</td>\n",
       "      <td>0.145895</td>\n",
       "      <td>1.000000</td>\n",
       "      <td>0.339307</td>\n",
       "      <td>0.123401</td>\n",
       "      <td>0.015330</td>\n",
       "    </tr>\n",
       "    <tr>\n",
       "      <th>inadimplencia</th>\n",
       "      <td>-0.022498</td>\n",
       "      <td>-0.167028</td>\n",
       "      <td>-0.086486</td>\n",
       "      <td>0.113363</td>\n",
       "      <td>0.339307</td>\n",
       "      <td>1.000000</td>\n",
       "      <td>0.379534</td>\n",
       "      <td>-0.015575</td>\n",
       "    </tr>\n",
       "    <tr>\n",
       "      <th>renda_percentual_emprestimo</th>\n",
       "      <td>-0.039476</td>\n",
       "      <td>-0.297635</td>\n",
       "      <td>-0.060099</td>\n",
       "      <td>0.577197</td>\n",
       "      <td>0.123401</td>\n",
       "      <td>0.379534</td>\n",
       "      <td>1.000000</td>\n",
       "      <td>-0.029814</td>\n",
       "    </tr>\n",
       "    <tr>\n",
       "      <th>tempo_de_credito</th>\n",
       "      <td>0.877581</td>\n",
       "      <td>0.122787</td>\n",
       "      <td>0.151571</td>\n",
       "      <td>0.045580</td>\n",
       "      <td>0.015330</td>\n",
       "      <td>-0.015575</td>\n",
       "      <td>-0.029814</td>\n",
       "      <td>1.000000</td>\n",
       "    </tr>\n",
       "  </tbody>\n",
       "</table>\n",
       "</div>"
      ],
      "text/plain": [
       "                                idade   salario  tempo_trabalho  \\\n",
       "idade                        1.000000  0.141471        0.176054   \n",
       "salario                      0.141471  1.000000        0.160952   \n",
       "tempo_trabalho               0.176054  0.160952        1.000000   \n",
       "valor_emprestimo             0.056061  0.324766        0.108390   \n",
       "taxa_juros                   0.010370 -0.003767       -0.058263   \n",
       "inadimplencia               -0.022498 -0.167028       -0.086486   \n",
       "renda_percentual_emprestimo -0.039476 -0.297635       -0.060099   \n",
       "tempo_de_credito             0.877581  0.122787        0.151571   \n",
       "\n",
       "                             valor_emprestimo  taxa_juros  inadimplencia  \\\n",
       "idade                                0.056061    0.010370      -0.022498   \n",
       "salario                              0.324766   -0.003767      -0.167028   \n",
       "tempo_trabalho                       0.108390   -0.058263      -0.086486   \n",
       "valor_emprestimo                     1.000000    0.145895       0.113363   \n",
       "taxa_juros                           0.145895    1.000000       0.339307   \n",
       "inadimplencia                        0.113363    0.339307       1.000000   \n",
       "renda_percentual_emprestimo          0.577197    0.123401       0.379534   \n",
       "tempo_de_credito                     0.045580    0.015330      -0.015575   \n",
       "\n",
       "                             renda_percentual_emprestimo  tempo_de_credito  \n",
       "idade                                          -0.039476          0.877581  \n",
       "salario                                        -0.297635          0.122787  \n",
       "tempo_trabalho                                 -0.060099          0.151571  \n",
       "valor_emprestimo                                0.577197          0.045580  \n",
       "taxa_juros                                      0.123401          0.015330  \n",
       "inadimplencia                                   0.379534         -0.015575  \n",
       "renda_percentual_emprestimo                     1.000000         -0.029814  \n",
       "tempo_de_credito                               -0.029814          1.000000  "
      ]
     },
     "execution_count": 20,
     "metadata": {},
     "output_type": "execute_result"
    }
   ],
   "source": [
    "dados.corr()"
   ]
  },
  {
   "cell_type": "markdown",
   "metadata": {
    "id": "X7oWahnt5b7C"
   },
   "source": [
    "* A variável renda_percentual_emprestimo tem uma correlação alta de aproximadamente 58% com valor_emprestimo, isso acontece pois essa variável é construída utilizando o salário e o valor do empréstimo solicitado pelo cliente. \n",
    "\n",
    "Dessa forma, iremos remover a coluna renda_percentual_emprestimo, para não haver informação duplicada no conjunto de dados.\n",
    "\n"
   ]
  },
  {
   "cell_type": "code",
   "execution_count": 21,
   "metadata": {
    "colab": {
     "base_uri": "https://localhost:8080/",
     "height": 0
    },
    "executionInfo": {
     "elapsed": 19,
     "status": "ok",
     "timestamp": 1674621884111,
     "user": {
      "displayName": "Leonardo Santana",
      "userId": "14879446823353399218"
     },
     "user_tz": 180
    },
    "id": "R9PJfOC85hcC",
    "outputId": "09a10343-75d2-48bf-cd73-bb171e1ccfe7"
   },
   "outputs": [
    {
     "data": {
      "text/html": [
       "<div>\n",
       "<style scoped>\n",
       "    .dataframe tbody tr th:only-of-type {\n",
       "        vertical-align: middle;\n",
       "    }\n",
       "\n",
       "    .dataframe tbody tr th {\n",
       "        vertical-align: top;\n",
       "    }\n",
       "\n",
       "    .dataframe thead th {\n",
       "        text-align: right;\n",
       "    }\n",
       "</style>\n",
       "<table border=\"1\" class=\"dataframe\">\n",
       "  <thead>\n",
       "    <tr style=\"text-align: right;\">\n",
       "      <th></th>\n",
       "      <th>idade</th>\n",
       "      <th>salario</th>\n",
       "      <th>situacao_moradia</th>\n",
       "      <th>tempo_trabalho</th>\n",
       "      <th>motivo_emprestimo</th>\n",
       "      <th>pontuacao_emprestimo</th>\n",
       "      <th>valor_emprestimo</th>\n",
       "      <th>taxa_juros</th>\n",
       "      <th>inadimplencia</th>\n",
       "      <th>devendo</th>\n",
       "      <th>tempo_de_credito</th>\n",
       "    </tr>\n",
       "  </thead>\n",
       "  <tbody>\n",
       "    <tr>\n",
       "      <th>0</th>\n",
       "      <td>26.0</td>\n",
       "      <td>84996.0</td>\n",
       "      <td>Rent</td>\n",
       "      <td>0</td>\n",
       "      <td>Medical</td>\n",
       "      <td>B</td>\n",
       "      <td>9000.0</td>\n",
       "      <td>11.26</td>\n",
       "      <td>0.0</td>\n",
       "      <td>N</td>\n",
       "      <td>2.0</td>\n",
       "    </tr>\n",
       "    <tr>\n",
       "      <th>1</th>\n",
       "      <td>24.0</td>\n",
       "      <td>55782.0</td>\n",
       "      <td>Rent</td>\n",
       "      <td>3</td>\n",
       "      <td>Homeimprovement</td>\n",
       "      <td>A</td>\n",
       "      <td>17000.0</td>\n",
       "      <td>7.51</td>\n",
       "      <td>0.0</td>\n",
       "      <td>N</td>\n",
       "      <td>2.0</td>\n",
       "    </tr>\n",
       "    <tr>\n",
       "      <th>2</th>\n",
       "      <td>25.0</td>\n",
       "      <td>125000.0</td>\n",
       "      <td>Own</td>\n",
       "      <td>9</td>\n",
       "      <td>Personal</td>\n",
       "      <td>B</td>\n",
       "      <td>25000.0</td>\n",
       "      <td>10.59</td>\n",
       "      <td>0.0</td>\n",
       "      <td>N</td>\n",
       "      <td>2.0</td>\n",
       "    </tr>\n",
       "    <tr>\n",
       "      <th>3</th>\n",
       "      <td>23.0</td>\n",
       "      <td>44340.0</td>\n",
       "      <td>Own</td>\n",
       "      <td>0</td>\n",
       "      <td>Venture</td>\n",
       "      <td>C</td>\n",
       "      <td>3000.0</td>\n",
       "      <td>12.98</td>\n",
       "      <td>0.0</td>\n",
       "      <td>Y</td>\n",
       "      <td>3.0</td>\n",
       "    </tr>\n",
       "    <tr>\n",
       "      <th>4</th>\n",
       "      <td>23.0</td>\n",
       "      <td>48000.0</td>\n",
       "      <td>Mortgage</td>\n",
       "      <td>5</td>\n",
       "      <td>Education</td>\n",
       "      <td>C</td>\n",
       "      <td>5000.0</td>\n",
       "      <td>13.99</td>\n",
       "      <td>0.0</td>\n",
       "      <td>Y</td>\n",
       "      <td>2.0</td>\n",
       "    </tr>\n",
       "  </tbody>\n",
       "</table>\n",
       "</div>"
      ],
      "text/plain": [
       "   idade   salario situacao_moradia  tempo_trabalho motivo_emprestimo  \\\n",
       "0   26.0   84996.0             Rent               0           Medical   \n",
       "1   24.0   55782.0             Rent               3   Homeimprovement   \n",
       "2   25.0  125000.0              Own               9          Personal   \n",
       "3   23.0   44340.0              Own               0           Venture   \n",
       "4   23.0   48000.0         Mortgage               5         Education   \n",
       "\n",
       "  pontuacao_emprestimo  valor_emprestimo  taxa_juros  inadimplencia devendo  \\\n",
       "0                    B            9000.0       11.26            0.0       N   \n",
       "1                    A           17000.0        7.51            0.0       N   \n",
       "2                    B           25000.0       10.59            0.0       N   \n",
       "3                    C            3000.0       12.98            0.0       Y   \n",
       "4                    C            5000.0       13.99            0.0       Y   \n",
       "\n",
       "   tempo_de_credito  \n",
       "0               2.0  \n",
       "1               2.0  \n",
       "2               2.0  \n",
       "3               3.0  \n",
       "4               2.0  "
      ]
     },
     "execution_count": 21,
     "metadata": {},
     "output_type": "execute_result"
    }
   ],
   "source": [
    "dados2 = dados.drop('renda_percentual_emprestimo', axis = 1)\n",
    "\n",
    "dados2.head()"
   ]
  },
  {
   "cell_type": "markdown",
   "metadata": {
    "id": "H-axwJTX4xqt"
   },
   "source": [
    "Na etapa 2 vimos que as colunas devendo, situacao_moradia, motivo_emprestimo e pontuacao_emprestimo são variaveis categóricas. Para que possamos fazer previsões com esses dados antes precisamos mudar essas variaveis categóricas para dummys.\n",
    "\n",
    "Como a variavel 'devendo' possui apenas 2 classes. Então vamos substituir os valores da coluna para 0 e 1."
   ]
  },
  {
   "cell_type": "code",
   "execution_count": 22,
   "metadata": {
    "colab": {
     "base_uri": "https://localhost:8080/",
     "height": 0
    },
    "executionInfo": {
     "elapsed": 17,
     "status": "ok",
     "timestamp": 1674621884111,
     "user": {
      "displayName": "Leonardo Santana",
      "userId": "14879446823353399218"
     },
     "user_tz": 180
    },
    "id": "qG2UwBTV4h0w",
    "outputId": "90acb4d6-8dea-46c0-8ebe-e4b44643f605"
   },
   "outputs": [
    {
     "data": {
      "text/html": [
       "<div>\n",
       "<style scoped>\n",
       "    .dataframe tbody tr th:only-of-type {\n",
       "        vertical-align: middle;\n",
       "    }\n",
       "\n",
       "    .dataframe tbody tr th {\n",
       "        vertical-align: top;\n",
       "    }\n",
       "\n",
       "    .dataframe thead th {\n",
       "        text-align: right;\n",
       "    }\n",
       "</style>\n",
       "<table border=\"1\" class=\"dataframe\">\n",
       "  <thead>\n",
       "    <tr style=\"text-align: right;\">\n",
       "      <th></th>\n",
       "      <th>idade</th>\n",
       "      <th>salario</th>\n",
       "      <th>situacao_moradia</th>\n",
       "      <th>tempo_trabalho</th>\n",
       "      <th>motivo_emprestimo</th>\n",
       "      <th>pontuacao_emprestimo</th>\n",
       "      <th>valor_emprestimo</th>\n",
       "      <th>taxa_juros</th>\n",
       "      <th>inadimplencia</th>\n",
       "      <th>devendo</th>\n",
       "      <th>tempo_de_credito</th>\n",
       "    </tr>\n",
       "  </thead>\n",
       "  <tbody>\n",
       "    <tr>\n",
       "      <th>0</th>\n",
       "      <td>26.0</td>\n",
       "      <td>84996.0</td>\n",
       "      <td>Rent</td>\n",
       "      <td>0</td>\n",
       "      <td>Medical</td>\n",
       "      <td>B</td>\n",
       "      <td>9000.0</td>\n",
       "      <td>11.26</td>\n",
       "      <td>0.0</td>\n",
       "      <td>0</td>\n",
       "      <td>2.0</td>\n",
       "    </tr>\n",
       "    <tr>\n",
       "      <th>1</th>\n",
       "      <td>24.0</td>\n",
       "      <td>55782.0</td>\n",
       "      <td>Rent</td>\n",
       "      <td>3</td>\n",
       "      <td>Homeimprovement</td>\n",
       "      <td>A</td>\n",
       "      <td>17000.0</td>\n",
       "      <td>7.51</td>\n",
       "      <td>0.0</td>\n",
       "      <td>0</td>\n",
       "      <td>2.0</td>\n",
       "    </tr>\n",
       "    <tr>\n",
       "      <th>2</th>\n",
       "      <td>25.0</td>\n",
       "      <td>125000.0</td>\n",
       "      <td>Own</td>\n",
       "      <td>9</td>\n",
       "      <td>Personal</td>\n",
       "      <td>B</td>\n",
       "      <td>25000.0</td>\n",
       "      <td>10.59</td>\n",
       "      <td>0.0</td>\n",
       "      <td>0</td>\n",
       "      <td>2.0</td>\n",
       "    </tr>\n",
       "    <tr>\n",
       "      <th>3</th>\n",
       "      <td>23.0</td>\n",
       "      <td>44340.0</td>\n",
       "      <td>Own</td>\n",
       "      <td>0</td>\n",
       "      <td>Venture</td>\n",
       "      <td>C</td>\n",
       "      <td>3000.0</td>\n",
       "      <td>12.98</td>\n",
       "      <td>0.0</td>\n",
       "      <td>1</td>\n",
       "      <td>3.0</td>\n",
       "    </tr>\n",
       "    <tr>\n",
       "      <th>4</th>\n",
       "      <td>23.0</td>\n",
       "      <td>48000.0</td>\n",
       "      <td>Mortgage</td>\n",
       "      <td>5</td>\n",
       "      <td>Education</td>\n",
       "      <td>C</td>\n",
       "      <td>5000.0</td>\n",
       "      <td>13.99</td>\n",
       "      <td>0.0</td>\n",
       "      <td>1</td>\n",
       "      <td>2.0</td>\n",
       "    </tr>\n",
       "  </tbody>\n",
       "</table>\n",
       "</div>"
      ],
      "text/plain": [
       "   idade   salario situacao_moradia  tempo_trabalho motivo_emprestimo  \\\n",
       "0   26.0   84996.0             Rent               0           Medical   \n",
       "1   24.0   55782.0             Rent               3   Homeimprovement   \n",
       "2   25.0  125000.0              Own               9          Personal   \n",
       "3   23.0   44340.0              Own               0           Venture   \n",
       "4   23.0   48000.0         Mortgage               5         Education   \n",
       "\n",
       "  pontuacao_emprestimo  valor_emprestimo  taxa_juros  inadimplencia  devendo  \\\n",
       "0                    B            9000.0       11.26            0.0        0   \n",
       "1                    A           17000.0        7.51            0.0        0   \n",
       "2                    B           25000.0       10.59            0.0        0   \n",
       "3                    C            3000.0       12.98            0.0        1   \n",
       "4                    C            5000.0       13.99            0.0        1   \n",
       "\n",
       "   tempo_de_credito  \n",
       "0               2.0  \n",
       "1               2.0  \n",
       "2               2.0  \n",
       "3               3.0  \n",
       "4               2.0  "
      ]
     },
     "execution_count": 22,
     "metadata": {},
     "output_type": "execute_result"
    }
   ],
   "source": [
    "# variavel 'devendo'\n",
    "a = {\n",
    "    'N': 0,\n",
    "    'Y': 1\n",
    "}\n",
    "\n",
    "dados2['devendo'] = dados2['devendo'].map(a)\n",
    "\n",
    "dados2.head()"
   ]
  },
  {
   "cell_type": "markdown",
   "metadata": {
    "id": "0VTdqF_s87kH"
   },
   "source": [
    "As variáveis categóricas com mais de 2 categorias precisam passar por um processo de construção de novas colunas. Cada uma das novas colunas corresponde a uma das categorias e o valor será 1 caso o registro tenha a presença da característica e 0 caso contrário. Faremos a criação dessas novas colunas com o **OneHotEncoder**."
   ]
  },
  {
   "cell_type": "code",
   "execution_count": 23,
   "metadata": {
    "executionInfo": {
     "elapsed": 15,
     "status": "ok",
     "timestamp": 1674621884112,
     "user": {
      "displayName": "Leonardo Santana",
      "userId": "14879446823353399218"
     },
     "user_tz": 180
    },
    "id": "CFKj9vjGCYVE"
   },
   "outputs": [],
   "source": [
    "# Fazendo a divisão das variáveis. Sendo que a variável alvo é a inadimplencia.\n",
    "\n",
    "x = dados2.drop(['inadimplencia'], axis = 1)\n",
    "y = dados2['inadimplencia']"
   ]
  },
  {
   "cell_type": "code",
   "execution_count": 25,
   "metadata": {
    "colab": {
     "base_uri": "https://localhost:8080/",
     "height": 0
    },
    "executionInfo": {
     "elapsed": 469,
     "status": "ok",
     "timestamp": 1674621884566,
     "user": {
      "displayName": "Leonardo Santana",
      "userId": "14879446823353399218"
     },
     "user_tz": 180
    },
    "id": "N1nJcLXv878P",
    "outputId": "4283ba16-1536-4620-a0c3-a1aec722d98c"
   },
   "outputs": [
    {
     "data": {
      "text/html": [
       "<div>\n",
       "<style scoped>\n",
       "    .dataframe tbody tr th:only-of-type {\n",
       "        vertical-align: middle;\n",
       "    }\n",
       "\n",
       "    .dataframe tbody tr th {\n",
       "        vertical-align: top;\n",
       "    }\n",
       "\n",
       "    .dataframe thead th {\n",
       "        text-align: right;\n",
       "    }\n",
       "</style>\n",
       "<table border=\"1\" class=\"dataframe\">\n",
       "  <thead>\n",
       "    <tr style=\"text-align: right;\">\n",
       "      <th></th>\n",
       "      <th>onehotencoder__situacao_moradia_Mortgage</th>\n",
       "      <th>onehotencoder__situacao_moradia_Other</th>\n",
       "      <th>onehotencoder__situacao_moradia_Own</th>\n",
       "      <th>onehotencoder__situacao_moradia_Rent</th>\n",
       "      <th>onehotencoder__motivo_emprestimo_Debtconsolidation</th>\n",
       "      <th>onehotencoder__motivo_emprestimo_Education</th>\n",
       "      <th>onehotencoder__motivo_emprestimo_Homeimprovement</th>\n",
       "      <th>onehotencoder__motivo_emprestimo_Medical</th>\n",
       "      <th>onehotencoder__motivo_emprestimo_Personal</th>\n",
       "      <th>onehotencoder__motivo_emprestimo_Venture</th>\n",
       "      <th>...</th>\n",
       "      <th>onehotencoder__pontuacao_emprestimo_E</th>\n",
       "      <th>onehotencoder__pontuacao_emprestimo_F</th>\n",
       "      <th>onehotencoder__pontuacao_emprestimo_G</th>\n",
       "      <th>remainder__idade</th>\n",
       "      <th>remainder__salario</th>\n",
       "      <th>remainder__tempo_trabalho</th>\n",
       "      <th>remainder__valor_emprestimo</th>\n",
       "      <th>remainder__taxa_juros</th>\n",
       "      <th>remainder__devendo</th>\n",
       "      <th>remainder__tempo_de_credito</th>\n",
       "    </tr>\n",
       "  </thead>\n",
       "  <tbody>\n",
       "    <tr>\n",
       "      <th>0</th>\n",
       "      <td>0.0</td>\n",
       "      <td>0.0</td>\n",
       "      <td>0.0</td>\n",
       "      <td>1.0</td>\n",
       "      <td>0.0</td>\n",
       "      <td>0.0</td>\n",
       "      <td>0.0</td>\n",
       "      <td>1.0</td>\n",
       "      <td>0.0</td>\n",
       "      <td>0.0</td>\n",
       "      <td>...</td>\n",
       "      <td>0.0</td>\n",
       "      <td>0.0</td>\n",
       "      <td>0.0</td>\n",
       "      <td>26.0</td>\n",
       "      <td>84996.0</td>\n",
       "      <td>0.0</td>\n",
       "      <td>9000.0</td>\n",
       "      <td>11.26</td>\n",
       "      <td>0.0</td>\n",
       "      <td>2.0</td>\n",
       "    </tr>\n",
       "    <tr>\n",
       "      <th>1</th>\n",
       "      <td>0.0</td>\n",
       "      <td>0.0</td>\n",
       "      <td>0.0</td>\n",
       "      <td>1.0</td>\n",
       "      <td>0.0</td>\n",
       "      <td>0.0</td>\n",
       "      <td>1.0</td>\n",
       "      <td>0.0</td>\n",
       "      <td>0.0</td>\n",
       "      <td>0.0</td>\n",
       "      <td>...</td>\n",
       "      <td>0.0</td>\n",
       "      <td>0.0</td>\n",
       "      <td>0.0</td>\n",
       "      <td>24.0</td>\n",
       "      <td>55782.0</td>\n",
       "      <td>3.0</td>\n",
       "      <td>17000.0</td>\n",
       "      <td>7.51</td>\n",
       "      <td>0.0</td>\n",
       "      <td>2.0</td>\n",
       "    </tr>\n",
       "    <tr>\n",
       "      <th>2</th>\n",
       "      <td>0.0</td>\n",
       "      <td>0.0</td>\n",
       "      <td>1.0</td>\n",
       "      <td>0.0</td>\n",
       "      <td>0.0</td>\n",
       "      <td>0.0</td>\n",
       "      <td>0.0</td>\n",
       "      <td>0.0</td>\n",
       "      <td>1.0</td>\n",
       "      <td>0.0</td>\n",
       "      <td>...</td>\n",
       "      <td>0.0</td>\n",
       "      <td>0.0</td>\n",
       "      <td>0.0</td>\n",
       "      <td>25.0</td>\n",
       "      <td>125000.0</td>\n",
       "      <td>9.0</td>\n",
       "      <td>25000.0</td>\n",
       "      <td>10.59</td>\n",
       "      <td>0.0</td>\n",
       "      <td>2.0</td>\n",
       "    </tr>\n",
       "    <tr>\n",
       "      <th>3</th>\n",
       "      <td>0.0</td>\n",
       "      <td>0.0</td>\n",
       "      <td>1.0</td>\n",
       "      <td>0.0</td>\n",
       "      <td>0.0</td>\n",
       "      <td>0.0</td>\n",
       "      <td>0.0</td>\n",
       "      <td>0.0</td>\n",
       "      <td>0.0</td>\n",
       "      <td>1.0</td>\n",
       "      <td>...</td>\n",
       "      <td>0.0</td>\n",
       "      <td>0.0</td>\n",
       "      <td>0.0</td>\n",
       "      <td>23.0</td>\n",
       "      <td>44340.0</td>\n",
       "      <td>0.0</td>\n",
       "      <td>3000.0</td>\n",
       "      <td>12.98</td>\n",
       "      <td>1.0</td>\n",
       "      <td>3.0</td>\n",
       "    </tr>\n",
       "    <tr>\n",
       "      <th>4</th>\n",
       "      <td>1.0</td>\n",
       "      <td>0.0</td>\n",
       "      <td>0.0</td>\n",
       "      <td>0.0</td>\n",
       "      <td>0.0</td>\n",
       "      <td>1.0</td>\n",
       "      <td>0.0</td>\n",
       "      <td>0.0</td>\n",
       "      <td>0.0</td>\n",
       "      <td>0.0</td>\n",
       "      <td>...</td>\n",
       "      <td>0.0</td>\n",
       "      <td>0.0</td>\n",
       "      <td>0.0</td>\n",
       "      <td>23.0</td>\n",
       "      <td>48000.0</td>\n",
       "      <td>5.0</td>\n",
       "      <td>5000.0</td>\n",
       "      <td>13.99</td>\n",
       "      <td>1.0</td>\n",
       "      <td>2.0</td>\n",
       "    </tr>\n",
       "  </tbody>\n",
       "</table>\n",
       "<p>5 rows × 24 columns</p>\n",
       "</div>"
      ],
      "text/plain": [
       "   onehotencoder__situacao_moradia_Mortgage  \\\n",
       "0                                       0.0   \n",
       "1                                       0.0   \n",
       "2                                       0.0   \n",
       "3                                       0.0   \n",
       "4                                       1.0   \n",
       "\n",
       "   onehotencoder__situacao_moradia_Other  onehotencoder__situacao_moradia_Own  \\\n",
       "0                                    0.0                                  0.0   \n",
       "1                                    0.0                                  0.0   \n",
       "2                                    0.0                                  1.0   \n",
       "3                                    0.0                                  1.0   \n",
       "4                                    0.0                                  0.0   \n",
       "\n",
       "   onehotencoder__situacao_moradia_Rent  \\\n",
       "0                                   1.0   \n",
       "1                                   1.0   \n",
       "2                                   0.0   \n",
       "3                                   0.0   \n",
       "4                                   0.0   \n",
       "\n",
       "   onehotencoder__motivo_emprestimo_Debtconsolidation  \\\n",
       "0                                                0.0    \n",
       "1                                                0.0    \n",
       "2                                                0.0    \n",
       "3                                                0.0    \n",
       "4                                                0.0    \n",
       "\n",
       "   onehotencoder__motivo_emprestimo_Education  \\\n",
       "0                                         0.0   \n",
       "1                                         0.0   \n",
       "2                                         0.0   \n",
       "3                                         0.0   \n",
       "4                                         1.0   \n",
       "\n",
       "   onehotencoder__motivo_emprestimo_Homeimprovement  \\\n",
       "0                                               0.0   \n",
       "1                                               1.0   \n",
       "2                                               0.0   \n",
       "3                                               0.0   \n",
       "4                                               0.0   \n",
       "\n",
       "   onehotencoder__motivo_emprestimo_Medical  \\\n",
       "0                                       1.0   \n",
       "1                                       0.0   \n",
       "2                                       0.0   \n",
       "3                                       0.0   \n",
       "4                                       0.0   \n",
       "\n",
       "   onehotencoder__motivo_emprestimo_Personal  \\\n",
       "0                                        0.0   \n",
       "1                                        0.0   \n",
       "2                                        1.0   \n",
       "3                                        0.0   \n",
       "4                                        0.0   \n",
       "\n",
       "   onehotencoder__motivo_emprestimo_Venture  ...  \\\n",
       "0                                       0.0  ...   \n",
       "1                                       0.0  ...   \n",
       "2                                       0.0  ...   \n",
       "3                                       1.0  ...   \n",
       "4                                       0.0  ...   \n",
       "\n",
       "   onehotencoder__pontuacao_emprestimo_E  \\\n",
       "0                                    0.0   \n",
       "1                                    0.0   \n",
       "2                                    0.0   \n",
       "3                                    0.0   \n",
       "4                                    0.0   \n",
       "\n",
       "   onehotencoder__pontuacao_emprestimo_F  \\\n",
       "0                                    0.0   \n",
       "1                                    0.0   \n",
       "2                                    0.0   \n",
       "3                                    0.0   \n",
       "4                                    0.0   \n",
       "\n",
       "   onehotencoder__pontuacao_emprestimo_G  remainder__idade  \\\n",
       "0                                    0.0              26.0   \n",
       "1                                    0.0              24.0   \n",
       "2                                    0.0              25.0   \n",
       "3                                    0.0              23.0   \n",
       "4                                    0.0              23.0   \n",
       "\n",
       "   remainder__salario  remainder__tempo_trabalho  remainder__valor_emprestimo  \\\n",
       "0             84996.0                        0.0                       9000.0   \n",
       "1             55782.0                        3.0                      17000.0   \n",
       "2            125000.0                        9.0                      25000.0   \n",
       "3             44340.0                        0.0                       3000.0   \n",
       "4             48000.0                        5.0                       5000.0   \n",
       "\n",
       "   remainder__taxa_juros  remainder__devendo  remainder__tempo_de_credito  \n",
       "0                  11.26                 0.0                          2.0  \n",
       "1                   7.51                 0.0                          2.0  \n",
       "2                  10.59                 0.0                          2.0  \n",
       "3                  12.98                 1.0                          3.0  \n",
       "4                  13.99                 1.0                          2.0  \n",
       "\n",
       "[5 rows x 24 columns]"
      ]
     },
     "execution_count": 25,
     "metadata": {},
     "output_type": "execute_result"
    }
   ],
   "source": [
    "# Transformando as colunas categoricas com o OneHotEncoder\n",
    "\n",
    "colunas_categoricas = ['situacao_moradia','motivo_emprestimo','pontuacao_emprestimo']\n",
    "\n",
    "one_hot_enc = make_column_transformer(\n",
    "    (OneHotEncoder(), colunas_categoricas),\n",
    "    remainder='passthrough')\n",
    "\n",
    "x_transformados = one_hot_enc.fit_transform(x)\n",
    "x_transformados = pd.DataFrame(x_transformados, columns=one_hot_enc.get_feature_names_out())\n",
    "x_transformados.head()"
   ]
  },
  {
   "cell_type": "markdown",
   "metadata": {
    "id": "gDdVTdG6EuhI"
   },
   "source": [
    "**Normalização dos dados**\n",
    "\n",
    "A escala das variáveis numéricas do conjunto de dados é muito diferente e pode gerar um viés no modelo de machine learning. Desse modo, vamos normalizar os dados, colocando todos em uma mesma escala."
   ]
  },
  {
   "cell_type": "code",
   "execution_count": 26,
   "metadata": {
    "colab": {
     "base_uri": "https://localhost:8080/",
     "height": 0
    },
    "executionInfo": {
     "elapsed": 14,
     "status": "ok",
     "timestamp": 1674621884567,
     "user": {
      "displayName": "Leonardo Santana",
      "userId": "14879446823353399218"
     },
     "user_tz": 180
    },
    "id": "Q1AoDMSnEf1N",
    "outputId": "8e262a89-3bbd-495a-a01a-02c812ac4230"
   },
   "outputs": [
    {
     "data": {
      "text/html": [
       "<div>\n",
       "<style scoped>\n",
       "    .dataframe tbody tr th:only-of-type {\n",
       "        vertical-align: middle;\n",
       "    }\n",
       "\n",
       "    .dataframe tbody tr th {\n",
       "        vertical-align: top;\n",
       "    }\n",
       "\n",
       "    .dataframe thead th {\n",
       "        text-align: right;\n",
       "    }\n",
       "</style>\n",
       "<table border=\"1\" class=\"dataframe\">\n",
       "  <thead>\n",
       "    <tr style=\"text-align: right;\">\n",
       "      <th></th>\n",
       "      <th>onehotencoder__situacao_moradia_Mortgage</th>\n",
       "      <th>onehotencoder__situacao_moradia_Other</th>\n",
       "      <th>onehotencoder__situacao_moradia_Own</th>\n",
       "      <th>onehotencoder__situacao_moradia_Rent</th>\n",
       "      <th>onehotencoder__motivo_emprestimo_Debtconsolidation</th>\n",
       "      <th>onehotencoder__motivo_emprestimo_Education</th>\n",
       "      <th>onehotencoder__motivo_emprestimo_Homeimprovement</th>\n",
       "      <th>onehotencoder__motivo_emprestimo_Medical</th>\n",
       "      <th>onehotencoder__motivo_emprestimo_Personal</th>\n",
       "      <th>onehotencoder__motivo_emprestimo_Venture</th>\n",
       "      <th>...</th>\n",
       "      <th>onehotencoder__pontuacao_emprestimo_E</th>\n",
       "      <th>onehotencoder__pontuacao_emprestimo_F</th>\n",
       "      <th>onehotencoder__pontuacao_emprestimo_G</th>\n",
       "      <th>remainder__idade</th>\n",
       "      <th>remainder__salario</th>\n",
       "      <th>remainder__tempo_trabalho</th>\n",
       "      <th>remainder__valor_emprestimo</th>\n",
       "      <th>remainder__taxa_juros</th>\n",
       "      <th>remainder__devendo</th>\n",
       "      <th>remainder__tempo_de_credito</th>\n",
       "    </tr>\n",
       "  </thead>\n",
       "  <tbody>\n",
       "    <tr>\n",
       "      <th>0</th>\n",
       "      <td>0.0</td>\n",
       "      <td>0.0</td>\n",
       "      <td>0.0</td>\n",
       "      <td>1.0</td>\n",
       "      <td>0.0</td>\n",
       "      <td>0.0</td>\n",
       "      <td>0.0</td>\n",
       "      <td>1.0</td>\n",
       "      <td>0.0</td>\n",
       "      <td>0.0</td>\n",
       "      <td>...</td>\n",
       "      <td>0.0</td>\n",
       "      <td>0.0</td>\n",
       "      <td>0.0</td>\n",
       "      <td>26.0</td>\n",
       "      <td>84996.0</td>\n",
       "      <td>0.0</td>\n",
       "      <td>9000.0</td>\n",
       "      <td>11.26</td>\n",
       "      <td>0.0</td>\n",
       "      <td>2.0</td>\n",
       "    </tr>\n",
       "    <tr>\n",
       "      <th>1</th>\n",
       "      <td>0.0</td>\n",
       "      <td>0.0</td>\n",
       "      <td>0.0</td>\n",
       "      <td>1.0</td>\n",
       "      <td>0.0</td>\n",
       "      <td>0.0</td>\n",
       "      <td>1.0</td>\n",
       "      <td>0.0</td>\n",
       "      <td>0.0</td>\n",
       "      <td>0.0</td>\n",
       "      <td>...</td>\n",
       "      <td>0.0</td>\n",
       "      <td>0.0</td>\n",
       "      <td>0.0</td>\n",
       "      <td>24.0</td>\n",
       "      <td>55782.0</td>\n",
       "      <td>3.0</td>\n",
       "      <td>17000.0</td>\n",
       "      <td>7.51</td>\n",
       "      <td>0.0</td>\n",
       "      <td>2.0</td>\n",
       "    </tr>\n",
       "    <tr>\n",
       "      <th>2</th>\n",
       "      <td>0.0</td>\n",
       "      <td>0.0</td>\n",
       "      <td>1.0</td>\n",
       "      <td>0.0</td>\n",
       "      <td>0.0</td>\n",
       "      <td>0.0</td>\n",
       "      <td>0.0</td>\n",
       "      <td>0.0</td>\n",
       "      <td>1.0</td>\n",
       "      <td>0.0</td>\n",
       "      <td>...</td>\n",
       "      <td>0.0</td>\n",
       "      <td>0.0</td>\n",
       "      <td>0.0</td>\n",
       "      <td>25.0</td>\n",
       "      <td>125000.0</td>\n",
       "      <td>9.0</td>\n",
       "      <td>25000.0</td>\n",
       "      <td>10.59</td>\n",
       "      <td>0.0</td>\n",
       "      <td>2.0</td>\n",
       "    </tr>\n",
       "    <tr>\n",
       "      <th>3</th>\n",
       "      <td>0.0</td>\n",
       "      <td>0.0</td>\n",
       "      <td>1.0</td>\n",
       "      <td>0.0</td>\n",
       "      <td>0.0</td>\n",
       "      <td>0.0</td>\n",
       "      <td>0.0</td>\n",
       "      <td>0.0</td>\n",
       "      <td>0.0</td>\n",
       "      <td>1.0</td>\n",
       "      <td>...</td>\n",
       "      <td>0.0</td>\n",
       "      <td>0.0</td>\n",
       "      <td>0.0</td>\n",
       "      <td>23.0</td>\n",
       "      <td>44340.0</td>\n",
       "      <td>0.0</td>\n",
       "      <td>3000.0</td>\n",
       "      <td>12.98</td>\n",
       "      <td>1.0</td>\n",
       "      <td>3.0</td>\n",
       "    </tr>\n",
       "    <tr>\n",
       "      <th>4</th>\n",
       "      <td>1.0</td>\n",
       "      <td>0.0</td>\n",
       "      <td>0.0</td>\n",
       "      <td>0.0</td>\n",
       "      <td>0.0</td>\n",
       "      <td>1.0</td>\n",
       "      <td>0.0</td>\n",
       "      <td>0.0</td>\n",
       "      <td>0.0</td>\n",
       "      <td>0.0</td>\n",
       "      <td>...</td>\n",
       "      <td>0.0</td>\n",
       "      <td>0.0</td>\n",
       "      <td>0.0</td>\n",
       "      <td>23.0</td>\n",
       "      <td>48000.0</td>\n",
       "      <td>5.0</td>\n",
       "      <td>5000.0</td>\n",
       "      <td>13.99</td>\n",
       "      <td>1.0</td>\n",
       "      <td>2.0</td>\n",
       "    </tr>\n",
       "    <tr>\n",
       "      <th>...</th>\n",
       "      <td>...</td>\n",
       "      <td>...</td>\n",
       "      <td>...</td>\n",
       "      <td>...</td>\n",
       "      <td>...</td>\n",
       "      <td>...</td>\n",
       "      <td>...</td>\n",
       "      <td>...</td>\n",
       "      <td>...</td>\n",
       "      <td>...</td>\n",
       "      <td>...</td>\n",
       "      <td>...</td>\n",
       "      <td>...</td>\n",
       "      <td>...</td>\n",
       "      <td>...</td>\n",
       "      <td>...</td>\n",
       "      <td>...</td>\n",
       "      <td>...</td>\n",
       "      <td>...</td>\n",
       "      <td>...</td>\n",
       "      <td>...</td>\n",
       "    </tr>\n",
       "    <tr>\n",
       "      <th>28627</th>\n",
       "      <td>0.0</td>\n",
       "      <td>0.0</td>\n",
       "      <td>0.0</td>\n",
       "      <td>1.0</td>\n",
       "      <td>1.0</td>\n",
       "      <td>0.0</td>\n",
       "      <td>0.0</td>\n",
       "      <td>0.0</td>\n",
       "      <td>0.0</td>\n",
       "      <td>0.0</td>\n",
       "      <td>...</td>\n",
       "      <td>0.0</td>\n",
       "      <td>0.0</td>\n",
       "      <td>0.0</td>\n",
       "      <td>21.0</td>\n",
       "      <td>120000.0</td>\n",
       "      <td>4.0</td>\n",
       "      <td>10000.0</td>\n",
       "      <td>9.99</td>\n",
       "      <td>0.0</td>\n",
       "      <td>3.0</td>\n",
       "    </tr>\n",
       "    <tr>\n",
       "      <th>28628</th>\n",
       "      <td>0.0</td>\n",
       "      <td>0.0</td>\n",
       "      <td>0.0</td>\n",
       "      <td>1.0</td>\n",
       "      <td>1.0</td>\n",
       "      <td>0.0</td>\n",
       "      <td>0.0</td>\n",
       "      <td>0.0</td>\n",
       "      <td>0.0</td>\n",
       "      <td>0.0</td>\n",
       "      <td>...</td>\n",
       "      <td>0.0</td>\n",
       "      <td>0.0</td>\n",
       "      <td>0.0</td>\n",
       "      <td>22.0</td>\n",
       "      <td>87000.0</td>\n",
       "      <td>5.0</td>\n",
       "      <td>20000.0</td>\n",
       "      <td>13.85</td>\n",
       "      <td>0.0</td>\n",
       "      <td>4.0</td>\n",
       "    </tr>\n",
       "    <tr>\n",
       "      <th>28629</th>\n",
       "      <td>0.0</td>\n",
       "      <td>0.0</td>\n",
       "      <td>0.0</td>\n",
       "      <td>1.0</td>\n",
       "      <td>0.0</td>\n",
       "      <td>0.0</td>\n",
       "      <td>0.0</td>\n",
       "      <td>0.0</td>\n",
       "      <td>1.0</td>\n",
       "      <td>0.0</td>\n",
       "      <td>...</td>\n",
       "      <td>0.0</td>\n",
       "      <td>0.0</td>\n",
       "      <td>0.0</td>\n",
       "      <td>27.0</td>\n",
       "      <td>69996.0</td>\n",
       "      <td>1.0</td>\n",
       "      <td>6000.0</td>\n",
       "      <td>11.86</td>\n",
       "      <td>0.0</td>\n",
       "      <td>6.0</td>\n",
       "    </tr>\n",
       "    <tr>\n",
       "      <th>28630</th>\n",
       "      <td>1.0</td>\n",
       "      <td>0.0</td>\n",
       "      <td>0.0</td>\n",
       "      <td>0.0</td>\n",
       "      <td>0.0</td>\n",
       "      <td>0.0</td>\n",
       "      <td>0.0</td>\n",
       "      <td>1.0</td>\n",
       "      <td>0.0</td>\n",
       "      <td>0.0</td>\n",
       "      <td>...</td>\n",
       "      <td>0.0</td>\n",
       "      <td>0.0</td>\n",
       "      <td>0.0</td>\n",
       "      <td>23.0</td>\n",
       "      <td>100000.0</td>\n",
       "      <td>7.0</td>\n",
       "      <td>25000.0</td>\n",
       "      <td>11.71</td>\n",
       "      <td>0.0</td>\n",
       "      <td>3.0</td>\n",
       "    </tr>\n",
       "    <tr>\n",
       "      <th>28631</th>\n",
       "      <td>0.0</td>\n",
       "      <td>0.0</td>\n",
       "      <td>0.0</td>\n",
       "      <td>1.0</td>\n",
       "      <td>0.0</td>\n",
       "      <td>0.0</td>\n",
       "      <td>0.0</td>\n",
       "      <td>0.0</td>\n",
       "      <td>0.0</td>\n",
       "      <td>1.0</td>\n",
       "      <td>...</td>\n",
       "      <td>0.0</td>\n",
       "      <td>0.0</td>\n",
       "      <td>0.0</td>\n",
       "      <td>41.0</td>\n",
       "      <td>121200.0</td>\n",
       "      <td>1.0</td>\n",
       "      <td>10000.0</td>\n",
       "      <td>6.03</td>\n",
       "      <td>0.0</td>\n",
       "      <td>13.0</td>\n",
       "    </tr>\n",
       "  </tbody>\n",
       "</table>\n",
       "<p>28632 rows × 24 columns</p>\n",
       "</div>"
      ],
      "text/plain": [
       "       onehotencoder__situacao_moradia_Mortgage  \\\n",
       "0                                           0.0   \n",
       "1                                           0.0   \n",
       "2                                           0.0   \n",
       "3                                           0.0   \n",
       "4                                           1.0   \n",
       "...                                         ...   \n",
       "28627                                       0.0   \n",
       "28628                                       0.0   \n",
       "28629                                       0.0   \n",
       "28630                                       1.0   \n",
       "28631                                       0.0   \n",
       "\n",
       "       onehotencoder__situacao_moradia_Other  \\\n",
       "0                                        0.0   \n",
       "1                                        0.0   \n",
       "2                                        0.0   \n",
       "3                                        0.0   \n",
       "4                                        0.0   \n",
       "...                                      ...   \n",
       "28627                                    0.0   \n",
       "28628                                    0.0   \n",
       "28629                                    0.0   \n",
       "28630                                    0.0   \n",
       "28631                                    0.0   \n",
       "\n",
       "       onehotencoder__situacao_moradia_Own  \\\n",
       "0                                      0.0   \n",
       "1                                      0.0   \n",
       "2                                      1.0   \n",
       "3                                      1.0   \n",
       "4                                      0.0   \n",
       "...                                    ...   \n",
       "28627                                  0.0   \n",
       "28628                                  0.0   \n",
       "28629                                  0.0   \n",
       "28630                                  0.0   \n",
       "28631                                  0.0   \n",
       "\n",
       "       onehotencoder__situacao_moradia_Rent  \\\n",
       "0                                       1.0   \n",
       "1                                       1.0   \n",
       "2                                       0.0   \n",
       "3                                       0.0   \n",
       "4                                       0.0   \n",
       "...                                     ...   \n",
       "28627                                   1.0   \n",
       "28628                                   1.0   \n",
       "28629                                   1.0   \n",
       "28630                                   0.0   \n",
       "28631                                   1.0   \n",
       "\n",
       "       onehotencoder__motivo_emprestimo_Debtconsolidation  \\\n",
       "0                                                    0.0    \n",
       "1                                                    0.0    \n",
       "2                                                    0.0    \n",
       "3                                                    0.0    \n",
       "4                                                    0.0    \n",
       "...                                                  ...    \n",
       "28627                                                1.0    \n",
       "28628                                                1.0    \n",
       "28629                                                0.0    \n",
       "28630                                                0.0    \n",
       "28631                                                0.0    \n",
       "\n",
       "       onehotencoder__motivo_emprestimo_Education  \\\n",
       "0                                             0.0   \n",
       "1                                             0.0   \n",
       "2                                             0.0   \n",
       "3                                             0.0   \n",
       "4                                             1.0   \n",
       "...                                           ...   \n",
       "28627                                         0.0   \n",
       "28628                                         0.0   \n",
       "28629                                         0.0   \n",
       "28630                                         0.0   \n",
       "28631                                         0.0   \n",
       "\n",
       "       onehotencoder__motivo_emprestimo_Homeimprovement  \\\n",
       "0                                                   0.0   \n",
       "1                                                   1.0   \n",
       "2                                                   0.0   \n",
       "3                                                   0.0   \n",
       "4                                                   0.0   \n",
       "...                                                 ...   \n",
       "28627                                               0.0   \n",
       "28628                                               0.0   \n",
       "28629                                               0.0   \n",
       "28630                                               0.0   \n",
       "28631                                               0.0   \n",
       "\n",
       "       onehotencoder__motivo_emprestimo_Medical  \\\n",
       "0                                           1.0   \n",
       "1                                           0.0   \n",
       "2                                           0.0   \n",
       "3                                           0.0   \n",
       "4                                           0.0   \n",
       "...                                         ...   \n",
       "28627                                       0.0   \n",
       "28628                                       0.0   \n",
       "28629                                       0.0   \n",
       "28630                                       1.0   \n",
       "28631                                       0.0   \n",
       "\n",
       "       onehotencoder__motivo_emprestimo_Personal  \\\n",
       "0                                            0.0   \n",
       "1                                            0.0   \n",
       "2                                            1.0   \n",
       "3                                            0.0   \n",
       "4                                            0.0   \n",
       "...                                          ...   \n",
       "28627                                        0.0   \n",
       "28628                                        0.0   \n",
       "28629                                        1.0   \n",
       "28630                                        0.0   \n",
       "28631                                        0.0   \n",
       "\n",
       "       onehotencoder__motivo_emprestimo_Venture  ...  \\\n",
       "0                                           0.0  ...   \n",
       "1                                           0.0  ...   \n",
       "2                                           0.0  ...   \n",
       "3                                           1.0  ...   \n",
       "4                                           0.0  ...   \n",
       "...                                         ...  ...   \n",
       "28627                                       0.0  ...   \n",
       "28628                                       0.0  ...   \n",
       "28629                                       0.0  ...   \n",
       "28630                                       0.0  ...   \n",
       "28631                                       1.0  ...   \n",
       "\n",
       "       onehotencoder__pontuacao_emprestimo_E  \\\n",
       "0                                        0.0   \n",
       "1                                        0.0   \n",
       "2                                        0.0   \n",
       "3                                        0.0   \n",
       "4                                        0.0   \n",
       "...                                      ...   \n",
       "28627                                    0.0   \n",
       "28628                                    0.0   \n",
       "28629                                    0.0   \n",
       "28630                                    0.0   \n",
       "28631                                    0.0   \n",
       "\n",
       "       onehotencoder__pontuacao_emprestimo_F  \\\n",
       "0                                        0.0   \n",
       "1                                        0.0   \n",
       "2                                        0.0   \n",
       "3                                        0.0   \n",
       "4                                        0.0   \n",
       "...                                      ...   \n",
       "28627                                    0.0   \n",
       "28628                                    0.0   \n",
       "28629                                    0.0   \n",
       "28630                                    0.0   \n",
       "28631                                    0.0   \n",
       "\n",
       "       onehotencoder__pontuacao_emprestimo_G  remainder__idade  \\\n",
       "0                                        0.0              26.0   \n",
       "1                                        0.0              24.0   \n",
       "2                                        0.0              25.0   \n",
       "3                                        0.0              23.0   \n",
       "4                                        0.0              23.0   \n",
       "...                                      ...               ...   \n",
       "28627                                    0.0              21.0   \n",
       "28628                                    0.0              22.0   \n",
       "28629                                    0.0              27.0   \n",
       "28630                                    0.0              23.0   \n",
       "28631                                    0.0              41.0   \n",
       "\n",
       "       remainder__salario  remainder__tempo_trabalho  \\\n",
       "0                 84996.0                        0.0   \n",
       "1                 55782.0                        3.0   \n",
       "2                125000.0                        9.0   \n",
       "3                 44340.0                        0.0   \n",
       "4                 48000.0                        5.0   \n",
       "...                   ...                        ...   \n",
       "28627            120000.0                        4.0   \n",
       "28628             87000.0                        5.0   \n",
       "28629             69996.0                        1.0   \n",
       "28630            100000.0                        7.0   \n",
       "28631            121200.0                        1.0   \n",
       "\n",
       "       remainder__valor_emprestimo  remainder__taxa_juros  remainder__devendo  \\\n",
       "0                           9000.0                  11.26                 0.0   \n",
       "1                          17000.0                   7.51                 0.0   \n",
       "2                          25000.0                  10.59                 0.0   \n",
       "3                           3000.0                  12.98                 1.0   \n",
       "4                           5000.0                  13.99                 1.0   \n",
       "...                            ...                    ...                 ...   \n",
       "28627                      10000.0                   9.99                 0.0   \n",
       "28628                      20000.0                  13.85                 0.0   \n",
       "28629                       6000.0                  11.86                 0.0   \n",
       "28630                      25000.0                  11.71                 0.0   \n",
       "28631                      10000.0                   6.03                 0.0   \n",
       "\n",
       "       remainder__tempo_de_credito  \n",
       "0                              2.0  \n",
       "1                              2.0  \n",
       "2                              2.0  \n",
       "3                              3.0  \n",
       "4                              2.0  \n",
       "...                            ...  \n",
       "28627                          3.0  \n",
       "28628                          4.0  \n",
       "28629                          6.0  \n",
       "28630                          3.0  \n",
       "28631                         13.0  \n",
       "\n",
       "[28632 rows x 24 columns]"
      ]
     },
     "execution_count": 26,
     "metadata": {},
     "output_type": "execute_result"
    }
   ],
   "source": [
    "scaler = MinMaxScaler()\n",
    "\n",
    "scaler.fit(x_transformados)\n",
    "\n",
    "x_transformados = pd.DataFrame(x_transformados, columns = one_hot_enc.get_feature_names_out())\n",
    "x_transformados\n"
   ]
  },
  {
   "cell_type": "markdown",
   "metadata": {
    "id": "0aC1kQP9F5ag"
   },
   "source": [
    "## 5. Separação de dados (treino e teste)\n",
    "\n",
    "Para realizar a validação de dados e conseguir avaliar se o modelo está se saindo bem, vamos dividir os dados em conjuntos de treinamento e teste."
   ]
  },
  {
   "cell_type": "code",
   "execution_count": 27,
   "metadata": {
    "colab": {
     "base_uri": "https://localhost:8080/"
    },
    "executionInfo": {
     "elapsed": 13,
     "status": "ok",
     "timestamp": 1674621884568,
     "user": {
      "displayName": "Leonardo Santana",
      "userId": "14879446823353399218"
     },
     "user_tz": 180
    },
    "id": "e_GM1PspF6C_",
    "outputId": "1e3d2247-548f-4838-83f9-d1186818f098"
   },
   "outputs": [
    {
     "name": "stdout",
     "output_type": "stream",
     "text": [
      "A base de treino tem 21474 elementos e a base de teste tem 7158 elementos.\n"
     ]
    }
   ],
   "source": [
    "SEED = 144  # semente\n",
    "\n",
    "x_treino, x_teste, y_treino, y_teste = train_test_split(x_transformados, y, random_state = SEED)\n",
    "\n",
    "\n",
    "base_treino = x_treino.shape[0]\n",
    "base_teste = x_teste.shape[0]\n",
    "\n",
    "print('A base de treino tem %s elementos e a base de teste tem %s elementos.' %(base_treino,base_teste))"
   ]
  },
  {
   "cell_type": "markdown",
   "metadata": {
    "id": "G5ApslXQMZKb"
   },
   "source": [
    "## 6. Aprendizado\n",
    "\n",
    "Como visto na etapa 2, a variável alvo que é a inadimplencia se encontra desbalanceada. Dessa forma, usaremos duas técnicas de balanceamento de dados, uma de Oversampling e outra de Undersampling, essas duas estratégias serão comparadas com a utilização de 2 algoritmos diferentes (Árvore de Decisão e Regressão Logística). Esses modelos são muito utilizados para o tipo de problema de negócio que desejamos resolver, que é a análise de risco de inadimplência.\n",
    "\n",
    "A métrica principal a ser analisada é o recall, que indica a proporção de clientes que são inadimplentes mas o modelo não detectou, que podem gerar grande prejuízo para a empresa."
   ]
  },
  {
   "cell_type": "markdown",
   "metadata": {
    "id": "46LxEI4L2-R0"
   },
   "source": [
    "### Aprendizado Oversampling\n",
    "Vamos utilizar a técnica de oversampling SMOTE para balancear a variável alvo, construindo dados sintéticos da categoria com menos frequência."
   ]
  },
  {
   "cell_type": "code",
   "execution_count": 28,
   "metadata": {
    "colab": {
     "base_uri": "https://localhost:8080/",
     "height": 488
    },
    "executionInfo": {
     "elapsed": 1164,
     "status": "ok",
     "timestamp": 1674621885721,
     "user": {
      "displayName": "Leonardo Santana",
      "userId": "14879446823353399218"
     },
     "user_tz": 180
    },
    "id": "BQrw_DxbJGqA",
    "outputId": "c723e778-b946-41af-ef63-708d1b9821c0"
   },
   "outputs": [
    {
     "data": {
      "text/html": [
       "<div>\n",
       "<style scoped>\n",
       "    .dataframe tbody tr th:only-of-type {\n",
       "        vertical-align: middle;\n",
       "    }\n",
       "\n",
       "    .dataframe tbody tr th {\n",
       "        vertical-align: top;\n",
       "    }\n",
       "\n",
       "    .dataframe thead th {\n",
       "        text-align: right;\n",
       "    }\n",
       "</style>\n",
       "<table border=\"1\" class=\"dataframe\">\n",
       "  <thead>\n",
       "    <tr style=\"text-align: right;\">\n",
       "      <th></th>\n",
       "      <th>onehotencoder__situacao_moradia_Mortgage</th>\n",
       "      <th>onehotencoder__situacao_moradia_Other</th>\n",
       "      <th>onehotencoder__situacao_moradia_Own</th>\n",
       "      <th>onehotencoder__situacao_moradia_Rent</th>\n",
       "      <th>onehotencoder__motivo_emprestimo_Debtconsolidation</th>\n",
       "      <th>onehotencoder__motivo_emprestimo_Education</th>\n",
       "      <th>onehotencoder__motivo_emprestimo_Homeimprovement</th>\n",
       "      <th>onehotencoder__motivo_emprestimo_Medical</th>\n",
       "      <th>onehotencoder__motivo_emprestimo_Personal</th>\n",
       "      <th>onehotencoder__motivo_emprestimo_Venture</th>\n",
       "      <th>...</th>\n",
       "      <th>onehotencoder__pontuacao_emprestimo_E</th>\n",
       "      <th>onehotencoder__pontuacao_emprestimo_F</th>\n",
       "      <th>onehotencoder__pontuacao_emprestimo_G</th>\n",
       "      <th>remainder__idade</th>\n",
       "      <th>remainder__salario</th>\n",
       "      <th>remainder__tempo_trabalho</th>\n",
       "      <th>remainder__valor_emprestimo</th>\n",
       "      <th>remainder__taxa_juros</th>\n",
       "      <th>remainder__devendo</th>\n",
       "      <th>remainder__tempo_de_credito</th>\n",
       "    </tr>\n",
       "  </thead>\n",
       "  <tbody>\n",
       "    <tr>\n",
       "      <th>0</th>\n",
       "      <td>0.000000</td>\n",
       "      <td>0.0</td>\n",
       "      <td>0.0</td>\n",
       "      <td>1.000000</td>\n",
       "      <td>1.000000</td>\n",
       "      <td>0.0</td>\n",
       "      <td>0.0</td>\n",
       "      <td>0.000000</td>\n",
       "      <td>0.0</td>\n",
       "      <td>0.000000</td>\n",
       "      <td>...</td>\n",
       "      <td>1.0</td>\n",
       "      <td>0.0</td>\n",
       "      <td>0.0</td>\n",
       "      <td>39.000000</td>\n",
       "      <td>56000.000000</td>\n",
       "      <td>0.000000</td>\n",
       "      <td>4800.000000</td>\n",
       "      <td>16.700000</td>\n",
       "      <td>1.000000</td>\n",
       "      <td>12.000000</td>\n",
       "    </tr>\n",
       "    <tr>\n",
       "      <th>1</th>\n",
       "      <td>0.000000</td>\n",
       "      <td>0.0</td>\n",
       "      <td>0.0</td>\n",
       "      <td>1.000000</td>\n",
       "      <td>0.000000</td>\n",
       "      <td>0.0</td>\n",
       "      <td>0.0</td>\n",
       "      <td>1.000000</td>\n",
       "      <td>0.0</td>\n",
       "      <td>0.000000</td>\n",
       "      <td>...</td>\n",
       "      <td>0.0</td>\n",
       "      <td>0.0</td>\n",
       "      <td>0.0</td>\n",
       "      <td>32.000000</td>\n",
       "      <td>65453.000000</td>\n",
       "      <td>15.000000</td>\n",
       "      <td>5000.000000</td>\n",
       "      <td>11.280000</td>\n",
       "      <td>1.000000</td>\n",
       "      <td>9.000000</td>\n",
       "    </tr>\n",
       "    <tr>\n",
       "      <th>2</th>\n",
       "      <td>0.000000</td>\n",
       "      <td>0.0</td>\n",
       "      <td>0.0</td>\n",
       "      <td>1.000000</td>\n",
       "      <td>0.000000</td>\n",
       "      <td>0.0</td>\n",
       "      <td>0.0</td>\n",
       "      <td>0.000000</td>\n",
       "      <td>0.0</td>\n",
       "      <td>1.000000</td>\n",
       "      <td>...</td>\n",
       "      <td>0.0</td>\n",
       "      <td>0.0</td>\n",
       "      <td>0.0</td>\n",
       "      <td>32.000000</td>\n",
       "      <td>81400.000000</td>\n",
       "      <td>2.000000</td>\n",
       "      <td>20000.000000</td>\n",
       "      <td>14.840000</td>\n",
       "      <td>1.000000</td>\n",
       "      <td>6.000000</td>\n",
       "    </tr>\n",
       "    <tr>\n",
       "      <th>3</th>\n",
       "      <td>0.000000</td>\n",
       "      <td>0.0</td>\n",
       "      <td>0.0</td>\n",
       "      <td>1.000000</td>\n",
       "      <td>1.000000</td>\n",
       "      <td>0.0</td>\n",
       "      <td>0.0</td>\n",
       "      <td>0.000000</td>\n",
       "      <td>0.0</td>\n",
       "      <td>0.000000</td>\n",
       "      <td>...</td>\n",
       "      <td>0.0</td>\n",
       "      <td>0.0</td>\n",
       "      <td>0.0</td>\n",
       "      <td>29.000000</td>\n",
       "      <td>59004.000000</td>\n",
       "      <td>0.000000</td>\n",
       "      <td>4800.000000</td>\n",
       "      <td>11.490000</td>\n",
       "      <td>0.000000</td>\n",
       "      <td>7.000000</td>\n",
       "    </tr>\n",
       "    <tr>\n",
       "      <th>4</th>\n",
       "      <td>1.000000</td>\n",
       "      <td>0.0</td>\n",
       "      <td>0.0</td>\n",
       "      <td>0.000000</td>\n",
       "      <td>1.000000</td>\n",
       "      <td>0.0</td>\n",
       "      <td>0.0</td>\n",
       "      <td>0.000000</td>\n",
       "      <td>0.0</td>\n",
       "      <td>0.000000</td>\n",
       "      <td>...</td>\n",
       "      <td>0.0</td>\n",
       "      <td>0.0</td>\n",
       "      <td>0.0</td>\n",
       "      <td>30.000000</td>\n",
       "      <td>25800.000000</td>\n",
       "      <td>7.000000</td>\n",
       "      <td>6000.000000</td>\n",
       "      <td>5.990000</td>\n",
       "      <td>0.000000</td>\n",
       "      <td>6.000000</td>\n",
       "    </tr>\n",
       "    <tr>\n",
       "      <th>...</th>\n",
       "      <td>...</td>\n",
       "      <td>...</td>\n",
       "      <td>...</td>\n",
       "      <td>...</td>\n",
       "      <td>...</td>\n",
       "      <td>...</td>\n",
       "      <td>...</td>\n",
       "      <td>...</td>\n",
       "      <td>...</td>\n",
       "      <td>...</td>\n",
       "      <td>...</td>\n",
       "      <td>...</td>\n",
       "      <td>...</td>\n",
       "      <td>...</td>\n",
       "      <td>...</td>\n",
       "      <td>...</td>\n",
       "      <td>...</td>\n",
       "      <td>...</td>\n",
       "      <td>...</td>\n",
       "      <td>...</td>\n",
       "      <td>...</td>\n",
       "    </tr>\n",
       "    <tr>\n",
       "      <th>33583</th>\n",
       "      <td>0.000000</td>\n",
       "      <td>0.0</td>\n",
       "      <td>0.0</td>\n",
       "      <td>1.000000</td>\n",
       "      <td>0.599661</td>\n",
       "      <td>0.0</td>\n",
       "      <td>0.0</td>\n",
       "      <td>0.000000</td>\n",
       "      <td>0.0</td>\n",
       "      <td>0.400339</td>\n",
       "      <td>...</td>\n",
       "      <td>0.0</td>\n",
       "      <td>0.0</td>\n",
       "      <td>0.0</td>\n",
       "      <td>21.000000</td>\n",
       "      <td>30000.000000</td>\n",
       "      <td>2.199322</td>\n",
       "      <td>2459.966092</td>\n",
       "      <td>10.883170</td>\n",
       "      <td>0.400339</td>\n",
       "      <td>3.199322</td>\n",
       "    </tr>\n",
       "    <tr>\n",
       "      <th>33584</th>\n",
       "      <td>1.000000</td>\n",
       "      <td>0.0</td>\n",
       "      <td>0.0</td>\n",
       "      <td>0.000000</td>\n",
       "      <td>0.000000</td>\n",
       "      <td>0.0</td>\n",
       "      <td>0.0</td>\n",
       "      <td>0.729528</td>\n",
       "      <td>0.0</td>\n",
       "      <td>0.270472</td>\n",
       "      <td>...</td>\n",
       "      <td>0.0</td>\n",
       "      <td>0.0</td>\n",
       "      <td>0.0</td>\n",
       "      <td>33.483861</td>\n",
       "      <td>91313.149978</td>\n",
       "      <td>16.672444</td>\n",
       "      <td>19783.622212</td>\n",
       "      <td>14.299056</td>\n",
       "      <td>1.000000</td>\n",
       "      <td>9.836222</td>\n",
       "    </tr>\n",
       "    <tr>\n",
       "      <th>33585</th>\n",
       "      <td>0.875298</td>\n",
       "      <td>0.0</td>\n",
       "      <td>0.0</td>\n",
       "      <td>0.124702</td>\n",
       "      <td>1.000000</td>\n",
       "      <td>0.0</td>\n",
       "      <td>0.0</td>\n",
       "      <td>0.000000</td>\n",
       "      <td>0.0</td>\n",
       "      <td>0.000000</td>\n",
       "      <td>...</td>\n",
       "      <td>0.0</td>\n",
       "      <td>0.0</td>\n",
       "      <td>0.0</td>\n",
       "      <td>22.498809</td>\n",
       "      <td>33297.505956</td>\n",
       "      <td>5.748213</td>\n",
       "      <td>5284.471787</td>\n",
       "      <td>14.530143</td>\n",
       "      <td>0.000000</td>\n",
       "      <td>4.000000</td>\n",
       "    </tr>\n",
       "    <tr>\n",
       "      <th>33586</th>\n",
       "      <td>0.000000</td>\n",
       "      <td>0.0</td>\n",
       "      <td>0.0</td>\n",
       "      <td>1.000000</td>\n",
       "      <td>0.000000</td>\n",
       "      <td>0.0</td>\n",
       "      <td>0.0</td>\n",
       "      <td>0.970470</td>\n",
       "      <td>0.0</td>\n",
       "      <td>0.029530</td>\n",
       "      <td>...</td>\n",
       "      <td>0.0</td>\n",
       "      <td>0.0</td>\n",
       "      <td>0.0</td>\n",
       "      <td>21.295303</td>\n",
       "      <td>24000.000000</td>\n",
       "      <td>1.940939</td>\n",
       "      <td>4011.812100</td>\n",
       "      <td>14.863034</td>\n",
       "      <td>1.000000</td>\n",
       "      <td>2.177182</td>\n",
       "    </tr>\n",
       "    <tr>\n",
       "      <th>33587</th>\n",
       "      <td>1.000000</td>\n",
       "      <td>0.0</td>\n",
       "      <td>0.0</td>\n",
       "      <td>0.000000</td>\n",
       "      <td>0.086227</td>\n",
       "      <td>0.0</td>\n",
       "      <td>0.0</td>\n",
       "      <td>0.913773</td>\n",
       "      <td>0.0</td>\n",
       "      <td>0.000000</td>\n",
       "      <td>...</td>\n",
       "      <td>0.0</td>\n",
       "      <td>0.0</td>\n",
       "      <td>0.0</td>\n",
       "      <td>39.879054</td>\n",
       "      <td>58680.179311</td>\n",
       "      <td>13.792828</td>\n",
       "      <td>12000.000000</td>\n",
       "      <td>11.009798</td>\n",
       "      <td>0.000000</td>\n",
       "      <td>15.482640</td>\n",
       "    </tr>\n",
       "  </tbody>\n",
       "</table>\n",
       "<p>33588 rows × 24 columns</p>\n",
       "</div>"
      ],
      "text/plain": [
       "       onehotencoder__situacao_moradia_Mortgage  \\\n",
       "0                                      0.000000   \n",
       "1                                      0.000000   \n",
       "2                                      0.000000   \n",
       "3                                      0.000000   \n",
       "4                                      1.000000   \n",
       "...                                         ...   \n",
       "33583                                  0.000000   \n",
       "33584                                  1.000000   \n",
       "33585                                  0.875298   \n",
       "33586                                  0.000000   \n",
       "33587                                  1.000000   \n",
       "\n",
       "       onehotencoder__situacao_moradia_Other  \\\n",
       "0                                        0.0   \n",
       "1                                        0.0   \n",
       "2                                        0.0   \n",
       "3                                        0.0   \n",
       "4                                        0.0   \n",
       "...                                      ...   \n",
       "33583                                    0.0   \n",
       "33584                                    0.0   \n",
       "33585                                    0.0   \n",
       "33586                                    0.0   \n",
       "33587                                    0.0   \n",
       "\n",
       "       onehotencoder__situacao_moradia_Own  \\\n",
       "0                                      0.0   \n",
       "1                                      0.0   \n",
       "2                                      0.0   \n",
       "3                                      0.0   \n",
       "4                                      0.0   \n",
       "...                                    ...   \n",
       "33583                                  0.0   \n",
       "33584                                  0.0   \n",
       "33585                                  0.0   \n",
       "33586                                  0.0   \n",
       "33587                                  0.0   \n",
       "\n",
       "       onehotencoder__situacao_moradia_Rent  \\\n",
       "0                                  1.000000   \n",
       "1                                  1.000000   \n",
       "2                                  1.000000   \n",
       "3                                  1.000000   \n",
       "4                                  0.000000   \n",
       "...                                     ...   \n",
       "33583                              1.000000   \n",
       "33584                              0.000000   \n",
       "33585                              0.124702   \n",
       "33586                              1.000000   \n",
       "33587                              0.000000   \n",
       "\n",
       "       onehotencoder__motivo_emprestimo_Debtconsolidation  \\\n",
       "0                                               1.000000    \n",
       "1                                               0.000000    \n",
       "2                                               0.000000    \n",
       "3                                               1.000000    \n",
       "4                                               1.000000    \n",
       "...                                                  ...    \n",
       "33583                                           0.599661    \n",
       "33584                                           0.000000    \n",
       "33585                                           1.000000    \n",
       "33586                                           0.000000    \n",
       "33587                                           0.086227    \n",
       "\n",
       "       onehotencoder__motivo_emprestimo_Education  \\\n",
       "0                                             0.0   \n",
       "1                                             0.0   \n",
       "2                                             0.0   \n",
       "3                                             0.0   \n",
       "4                                             0.0   \n",
       "...                                           ...   \n",
       "33583                                         0.0   \n",
       "33584                                         0.0   \n",
       "33585                                         0.0   \n",
       "33586                                         0.0   \n",
       "33587                                         0.0   \n",
       "\n",
       "       onehotencoder__motivo_emprestimo_Homeimprovement  \\\n",
       "0                                                   0.0   \n",
       "1                                                   0.0   \n",
       "2                                                   0.0   \n",
       "3                                                   0.0   \n",
       "4                                                   0.0   \n",
       "...                                                 ...   \n",
       "33583                                               0.0   \n",
       "33584                                               0.0   \n",
       "33585                                               0.0   \n",
       "33586                                               0.0   \n",
       "33587                                               0.0   \n",
       "\n",
       "       onehotencoder__motivo_emprestimo_Medical  \\\n",
       "0                                      0.000000   \n",
       "1                                      1.000000   \n",
       "2                                      0.000000   \n",
       "3                                      0.000000   \n",
       "4                                      0.000000   \n",
       "...                                         ...   \n",
       "33583                                  0.000000   \n",
       "33584                                  0.729528   \n",
       "33585                                  0.000000   \n",
       "33586                                  0.970470   \n",
       "33587                                  0.913773   \n",
       "\n",
       "       onehotencoder__motivo_emprestimo_Personal  \\\n",
       "0                                            0.0   \n",
       "1                                            0.0   \n",
       "2                                            0.0   \n",
       "3                                            0.0   \n",
       "4                                            0.0   \n",
       "...                                          ...   \n",
       "33583                                        0.0   \n",
       "33584                                        0.0   \n",
       "33585                                        0.0   \n",
       "33586                                        0.0   \n",
       "33587                                        0.0   \n",
       "\n",
       "       onehotencoder__motivo_emprestimo_Venture  ...  \\\n",
       "0                                      0.000000  ...   \n",
       "1                                      0.000000  ...   \n",
       "2                                      1.000000  ...   \n",
       "3                                      0.000000  ...   \n",
       "4                                      0.000000  ...   \n",
       "...                                         ...  ...   \n",
       "33583                                  0.400339  ...   \n",
       "33584                                  0.270472  ...   \n",
       "33585                                  0.000000  ...   \n",
       "33586                                  0.029530  ...   \n",
       "33587                                  0.000000  ...   \n",
       "\n",
       "       onehotencoder__pontuacao_emprestimo_E  \\\n",
       "0                                        1.0   \n",
       "1                                        0.0   \n",
       "2                                        0.0   \n",
       "3                                        0.0   \n",
       "4                                        0.0   \n",
       "...                                      ...   \n",
       "33583                                    0.0   \n",
       "33584                                    0.0   \n",
       "33585                                    0.0   \n",
       "33586                                    0.0   \n",
       "33587                                    0.0   \n",
       "\n",
       "       onehotencoder__pontuacao_emprestimo_F  \\\n",
       "0                                        0.0   \n",
       "1                                        0.0   \n",
       "2                                        0.0   \n",
       "3                                        0.0   \n",
       "4                                        0.0   \n",
       "...                                      ...   \n",
       "33583                                    0.0   \n",
       "33584                                    0.0   \n",
       "33585                                    0.0   \n",
       "33586                                    0.0   \n",
       "33587                                    0.0   \n",
       "\n",
       "       onehotencoder__pontuacao_emprestimo_G  remainder__idade  \\\n",
       "0                                        0.0         39.000000   \n",
       "1                                        0.0         32.000000   \n",
       "2                                        0.0         32.000000   \n",
       "3                                        0.0         29.000000   \n",
       "4                                        0.0         30.000000   \n",
       "...                                      ...               ...   \n",
       "33583                                    0.0         21.000000   \n",
       "33584                                    0.0         33.483861   \n",
       "33585                                    0.0         22.498809   \n",
       "33586                                    0.0         21.295303   \n",
       "33587                                    0.0         39.879054   \n",
       "\n",
       "       remainder__salario  remainder__tempo_trabalho  \\\n",
       "0            56000.000000                   0.000000   \n",
       "1            65453.000000                  15.000000   \n",
       "2            81400.000000                   2.000000   \n",
       "3            59004.000000                   0.000000   \n",
       "4            25800.000000                   7.000000   \n",
       "...                   ...                        ...   \n",
       "33583        30000.000000                   2.199322   \n",
       "33584        91313.149978                  16.672444   \n",
       "33585        33297.505956                   5.748213   \n",
       "33586        24000.000000                   1.940939   \n",
       "33587        58680.179311                  13.792828   \n",
       "\n",
       "       remainder__valor_emprestimo  remainder__taxa_juros  remainder__devendo  \\\n",
       "0                      4800.000000              16.700000            1.000000   \n",
       "1                      5000.000000              11.280000            1.000000   \n",
       "2                     20000.000000              14.840000            1.000000   \n",
       "3                      4800.000000              11.490000            0.000000   \n",
       "4                      6000.000000               5.990000            0.000000   \n",
       "...                            ...                    ...                 ...   \n",
       "33583                  2459.966092              10.883170            0.400339   \n",
       "33584                 19783.622212              14.299056            1.000000   \n",
       "33585                  5284.471787              14.530143            0.000000   \n",
       "33586                  4011.812100              14.863034            1.000000   \n",
       "33587                 12000.000000              11.009798            0.000000   \n",
       "\n",
       "       remainder__tempo_de_credito  \n",
       "0                        12.000000  \n",
       "1                         9.000000  \n",
       "2                         6.000000  \n",
       "3                         7.000000  \n",
       "4                         6.000000  \n",
       "...                            ...  \n",
       "33583                     3.199322  \n",
       "33584                     9.836222  \n",
       "33585                     4.000000  \n",
       "33586                     2.177182  \n",
       "33587                    15.482640  \n",
       "\n",
       "[33588 rows x 24 columns]"
      ]
     },
     "execution_count": 28,
     "metadata": {},
     "output_type": "execute_result"
    }
   ],
   "source": [
    "smote = SMOTE(random_state = SEED)\n",
    "X_balanceado_over, y_balanceado_over = smote.fit_resample(x_treino, y_treino)\n",
    "X_balanceado_over"
   ]
  },
  {
   "cell_type": "markdown",
   "metadata": {
    "id": "k7Rh7X2R4qke"
   },
   "source": [
    "Tinhamos 28632 linhas, com o processo de Oversampling fomos para 33588 linhas.\n",
    "\n"
   ]
  },
  {
   "cell_type": "markdown",
   "metadata": {
    "id": "bmARg1LX5YcT"
   },
   "source": [
    "#### LogisticRegression"
   ]
  },
  {
   "cell_type": "code",
   "execution_count": 29,
   "metadata": {
    "executionInfo": {
     "elapsed": 381,
     "status": "ok",
     "timestamp": 1674621886098,
     "user": {
      "displayName": "Leonardo Santana",
      "userId": "14879446823353399218"
     },
     "user_tz": 180
    },
    "id": "ZryuwtGI5cDx"
   },
   "outputs": [],
   "source": [
    "regressao_log = LogisticRegression(random_state=SEED, max_iter=1000) # max_iter é o numero de interações do modelo\n",
    "regressao_log.fit(X_balanceado_over, y_balanceado_over)\n",
    "\n",
    "previsao_regressao_log = regressao_log.predict(x_teste)"
   ]
  },
  {
   "cell_type": "code",
   "execution_count": 30,
   "metadata": {
    "colab": {
     "base_uri": "https://localhost:8080/"
    },
    "executionInfo": {
     "elapsed": 7,
     "status": "ok",
     "timestamp": 1674621886099,
     "user": {
      "displayName": "Leonardo Santana",
      "userId": "14879446823353399218"
     },
     "user_tz": 180
    },
    "id": "4Cvyc5fI7gXc",
    "outputId": "701ff0c3-0f48-46fb-9349-7b500c28b90b"
   },
   "outputs": [
    {
     "name": "stdout",
     "output_type": "stream",
     "text": [
      "              precision    recall  f1-score   support\n",
      "\n",
      "         0.0       0.92      0.68      0.78      5636\n",
      "         1.0       0.39      0.78      0.52      1522\n",
      "\n",
      "    accuracy                           0.70      7158\n",
      "   macro avg       0.66      0.73      0.65      7158\n",
      "weighted avg       0.81      0.70      0.73      7158\n",
      "\n"
     ]
    }
   ],
   "source": [
    "print(classification_report(y_teste, previsao_regressao_log)) "
   ]
  },
  {
   "cell_type": "markdown",
   "metadata": {
    "id": "6uWIk3bV69Mx"
   },
   "source": [
    "Matriz de confusão"
   ]
  },
  {
   "cell_type": "code",
   "execution_count": 31,
   "metadata": {
    "colab": {
     "base_uri": "https://localhost:8080/",
     "height": 355
    },
    "executionInfo": {
     "elapsed": 454,
     "status": "ok",
     "timestamp": 1674621886548,
     "user": {
      "displayName": "Leonardo Santana",
      "userId": "14879446823353399218"
     },
     "user_tz": 180
    },
    "id": "ozFi3Alz5b7Y",
    "outputId": "6a213367-7bf1-4705-be63-409ebbc66f9c"
   },
   "outputs": [
    {
     "name": "stderr",
     "output_type": "stream",
     "text": [
      "C:\\Users\\leona\\anaconda3\\lib\\site-packages\\sklearn\\utils\\deprecation.py:87: FutureWarning: Function plot_confusion_matrix is deprecated; Function `plot_confusion_matrix` is deprecated in 1.0 and will be removed in 1.2. Use one of the class methods: ConfusionMatrixDisplay.from_predictions or ConfusionMatrixDisplay.from_estimator.\n",
      "  warnings.warn(msg, category=FutureWarning)\n"
     ]
    },
    {
     "data": {
      "text/plain": [
       "<sklearn.metrics._plot.confusion_matrix.ConfusionMatrixDisplay at 0x2918118e5e0>"
      ]
     },
     "execution_count": 31,
     "metadata": {},
     "output_type": "execute_result"
    },
    {
     "data": {
      "image/png": "[encoded data removed]",
      "text/plain": [
       "<Figure size 640x480 with 2 Axes>"
      ]
     },
     "metadata": {},
     "output_type": "display_data"
    }
   ],
   "source": [
    "mapa_calor = matplotlib.colors.LinearSegmentedColormap.from_list(\"\", [\"#12239e\",\"#92dfa6\",\"#9cd33b\"])\n",
    "matriz_confusao = plot_confusion_matrix(regressao_log, x_teste, y_teste, cmap=mapa_calor)\n",
    "matriz_confusao"
   ]
  },
  {
   "cell_type": "markdown",
   "metadata": {
    "id": "19Hwr6G37tQ5"
   },
   "source": [
    "Agora usando a curva ROC para avaliar o resultado do algoritmo."
   ]
  },
  {
   "cell_type": "code",
   "execution_count": 32,
   "metadata": {
    "colab": {
     "base_uri": "https://localhost:8080/",
     "height": 369
    },
    "executionInfo": {
     "elapsed": 11,
     "status": "ok",
     "timestamp": 1674621886549,
     "user": {
      "displayName": "Leonardo Santana",
      "userId": "14879446823353399218"
     },
     "user_tz": 180
    },
    "id": "i17cv3Xl7PoY",
    "outputId": "4ebc11e1-6467-4d3e-d794-b89431838654"
   },
   "outputs": [
    {
     "name": "stdout",
     "output_type": "stream",
     "text": [
      "roc_auc 0.8076987015142938\n"
     ]
    },
    {
     "data": {
      "image/png": "[encoded data removed]",
      "text/plain": [
       "<Figure size 500x500 with 1 Axes>"
      ]
     },
     "metadata": {},
     "output_type": "display_data"
    }
   ],
   "source": [
    "prob_previsao = regressao_log.predict_proba(x_teste)[:,1]\n",
    "\n",
    "#Sendo:\n",
    "#tfp = taxa falsos positivos  (Especifidade)\n",
    "#tvp = taxa verdadeiros positivos   (Sensibilidade)\n",
    "\n",
    "tfp, tvp, limite = roc_curve(y_teste, prob_previsao)  # roc_curve: desenha a curva roc\n",
    "print('roc_auc', roc_auc_score(y_teste, prob_previsao)) #  roc_auc_score: calcula a area sobre a curva roc\n",
    "\n",
    "plt.subplots(1, figsize=(5,5))\n",
    "plt.title('Curva ROC')\n",
    "plt.plot(tfp,tvp)\n",
    "plt.xlabel('Especifidade')\n",
    "plt.ylabel('Sensibilidade')\n",
    "plt.plot([0, 1], ls=\"--\", c = 'red') #plotando linha guia pontilhada vermelha\n",
    "plt.plot([0, 0], [1, 0], ls=\"--\", c = 'green'), plt.plot([1, 1], ls=\"--\", c = 'green') #plotando linha guia pontilhada verde\n",
    "plt.show()\n",
    "\n"
   ]
  },
  {
   "cell_type": "markdown",
   "metadata": {
    "id": "M16bldVK8aoq"
   },
   "source": [
    "Existe uma convenção estatistica que utiliza a área sob a curva ROC e ela nós diz o seguinte:\n",
    "\n",
    "área < 0,7: baixa discriminiação\n",
    "\n",
    "0,7 ≤ área < 0,8: discriminação aceitável\n",
    "\n",
    "0,8 ≤ área < 0,9: discriminação excelente\n",
    "\n",
    "área > 0,9: discriminação excepcional"
   ]
  },
  {
   "cell_type": "markdown",
   "metadata": {
    "id": "voReridc8fmh"
   },
   "source": [
    "Potanto, podemos concluir que temos uma **discriminação excelente** já que a área > 0.8."
   ]
  },
  {
   "cell_type": "markdown",
   "metadata": {
    "id": "XMPZwsj9341M"
   },
   "source": [
    "#### DecisionTreeClassifier\n"
   ]
  },
  {
   "cell_type": "code",
   "execution_count": 33,
   "metadata": {
    "executionInfo": {
     "elapsed": 521,
     "status": "ok",
     "timestamp": 1674621887061,
     "user": {
      "displayName": "Leonardo Santana",
      "userId": "14879446823353399218"
     },
     "user_tz": 180
    },
    "id": "tQ_74OWI3nh5"
   },
   "outputs": [],
   "source": [
    "arvore = DecisionTreeClassifier(random_state=SEED)\n",
    "arvore.fit(X_balanceado_over, y_balanceado_over)\n",
    "previsao_arvore = arvore.predict(x_teste)"
   ]
  },
  {
   "cell_type": "code",
   "execution_count": 34,
   "metadata": {
    "colab": {
     "base_uri": "https://localhost:8080/"
    },
    "executionInfo": {
     "elapsed": 15,
     "status": "ok",
     "timestamp": 1674621887062,
     "user": {
      "displayName": "Leonardo Santana",
      "userId": "14879446823353399218"
     },
     "user_tz": 180
    },
    "id": "2BByQk6h9Bpp",
    "outputId": "2a1aed26-b3c7-4201-8bba-2d1df4d4586c"
   },
   "outputs": [
    {
     "name": "stdout",
     "output_type": "stream",
     "text": [
      "              precision    recall  f1-score   support\n",
      "\n",
      "         0.0       0.93      0.92      0.92      5636\n",
      "         1.0       0.71      0.75      0.73      1522\n",
      "\n",
      "    accuracy                           0.88      7158\n",
      "   macro avg       0.82      0.83      0.83      7158\n",
      "weighted avg       0.88      0.88      0.88      7158\n",
      "\n"
     ]
    }
   ],
   "source": [
    "print(classification_report(y_teste, previsao_arvore))"
   ]
  },
  {
   "cell_type": "markdown",
   "metadata": {
    "id": "I0hiO00aCkNs"
   },
   "source": [
    "Matriz de confusão"
   ]
  },
  {
   "cell_type": "code",
   "execution_count": 35,
   "metadata": {
    "colab": {
     "base_uri": "https://localhost:8080/",
     "height": 355
    },
    "executionInfo": {
     "elapsed": 13,
     "status": "ok",
     "timestamp": 1674621887063,
     "user": {
      "displayName": "Leonardo Santana",
      "userId": "14879446823353399218"
     },
     "user_tz": 180
    },
    "id": "30A6d0zA5Ojy",
    "outputId": "5597fbb6-2c07-4d68-d43e-f7e6d7c8931a"
   },
   "outputs": [
    {
     "name": "stderr",
     "output_type": "stream",
     "text": [
      "C:\\Users\\leona\\anaconda3\\lib\\site-packages\\sklearn\\utils\\deprecation.py:87: FutureWarning: Function plot_confusion_matrix is deprecated; Function `plot_confusion_matrix` is deprecated in 1.0 and will be removed in 1.2. Use one of the class methods: ConfusionMatrixDisplay.from_predictions or ConfusionMatrixDisplay.from_estimator.\n",
      "  warnings.warn(msg, category=FutureWarning)\n"
     ]
    },
    {
     "data": {
      "text/plain": [
       "<sklearn.metrics._plot.confusion_matrix.ConfusionMatrixDisplay at 0x29188e761f0>"
      ]
     },
     "execution_count": 35,
     "metadata": {},
     "output_type": "execute_result"
    },
    {
     "data": {
      "image/png": "[encoded data removed]",
      "text/plain": [
       "<Figure size 640x480 with 2 Axes>"
      ]
     },
     "metadata": {},
     "output_type": "display_data"
    }
   ],
   "source": [
    "matriz_confusao = plot_confusion_matrix(arvore, x_teste, y_teste, cmap=mapa_calor)\n",
    "matriz_confusao"
   ]
  },
  {
   "cell_type": "markdown",
   "metadata": {
    "id": "89NuiMXKCo1V"
   },
   "source": [
    "Agora usando a curva ROC para avaliar o resultado do algoritmo."
   ]
  },
  {
   "cell_type": "code",
   "execution_count": 36,
   "metadata": {
    "colab": {
     "base_uri": "https://localhost:8080/",
     "height": 369
    },
    "executionInfo": {
     "elapsed": 636,
     "status": "ok",
     "timestamp": 1674621887692,
     "user": {
      "displayName": "Leonardo Santana",
      "userId": "14879446823353399218"
     },
     "user_tz": 180
    },
    "id": "V-WhHPkF9JEe",
    "outputId": "452ef022-4eda-4e18-cc84-9c5f27dec815"
   },
   "outputs": [
    {
     "name": "stdout",
     "output_type": "stream",
     "text": [
      "roc_auc 0.8336981428753955\n"
     ]
    },
    {
     "data": {
      "image/png": "[encoded data removed]",
      "text/plain": [
       "<Figure size 500x500 with 1 Axes>"
      ]
     },
     "metadata": {},
     "output_type": "display_data"
    }
   ],
   "source": [
    "prob_previsao = arvore.predict_proba(x_teste)[:,1]\n",
    "\n",
    "#Sendo:\n",
    "#tfp = taxa falsos positivos  (Especifidade)\n",
    "#tvp = taxa verdadeiros positivos   (Sensibilidade)\n",
    "\n",
    "tfp, tvp, limite = roc_curve(y_teste, prob_previsao)  # roc_curve: desenha a curva roc\n",
    "print('roc_auc', roc_auc_score(y_teste, prob_previsao)) #  roc_auc_score: calcula a area sobre a curva roc\n",
    "\n",
    "plt.subplots(1, figsize=(5,5))\n",
    "plt.title('Curva ROC')\n",
    "plt.plot(tfp,tvp)\n",
    "plt.xlabel('Especifidade')\n",
    "plt.ylabel('Sensibilidade')\n",
    "plt.plot([0, 1], ls=\"--\", c = 'red') #plotando linha guia pontilhada vermelha\n",
    "plt.plot([0, 0], [1, 0], ls=\"--\", c = 'green'), plt.plot([1, 1], ls=\"--\", c = 'green') #plotando linha guia pontilhada verde\n",
    "plt.show()\n",
    "\n"
   ]
  },
  {
   "cell_type": "markdown",
   "metadata": {
    "id": "LY2zERDf9Tnl"
   },
   "source": [
    "Potanto, podemos concluir que temos uma **discriminação excelente** já que a área > 0.8.\n",
    "\n",
    "---"
   ]
  },
  {
   "cell_type": "markdown",
   "metadata": {
    "id": "V8h6iQ4bDdCO"
   },
   "source": [
    "Salvando os resultados dos modelos utilizando a técnica de oversampling para posterior comparação com a técnica de undersampling.\n",
    "\n"
   ]
  },
  {
   "cell_type": "code",
   "execution_count": 37,
   "metadata": {
    "executionInfo": {
     "elapsed": 19,
     "status": "ok",
     "timestamp": 1674621887692,
     "user": {
      "displayName": "Leonardo Santana",
      "userId": "14879446823353399218"
     },
     "user_tz": 180
    },
    "id": "Y70yLbARDfR4"
   },
   "outputs": [],
   "source": [
    "metricas_over = pd.DataFrame({'Acurácia treino':[arvore.score(x_treino, y_treino), \n",
    "                                 regressao_log.score(x_treino, y_treino)], \n",
    "            'Acurácia teste': [arvore.score(x_teste, y_teste), \n",
    "                                 regressao_log.score(x_teste, y_teste)], \n",
    "            'Recall':[recall_score(y_teste, previsao_arvore),\n",
    "                      recall_score(y_teste, previsao_regressao_log)]},\n",
    "             index = ['Árvore de Decisão Oversampling', 'Regressão Logísitica Oversampling'])    \n"
   ]
  },
  {
   "cell_type": "markdown",
   "metadata": {
    "id": "c8ys4vxH-vOM"
   },
   "source": [
    "### Aprendizado Undersampling\n",
    "\n",
    "Agora será realizado o balanceamento da variável alvo utilizando a técnica de undersampling, que removerá aleatoriamente registros da classe mais frequente, igualando a quantidade de registros das duas classes."
   ]
  },
  {
   "cell_type": "code",
   "execution_count": 38,
   "metadata": {
    "colab": {
     "base_uri": "https://localhost:8080/",
     "height": 488
    },
    "executionInfo": {
     "elapsed": 19,
     "status": "ok",
     "timestamp": 1674621887693,
     "user": {
      "displayName": "Leonardo Santana",
      "userId": "14879446823353399218"
     },
     "user_tz": 180
    },
    "id": "spBXw0MJ9JBZ",
    "outputId": "09d1b358-1664-4bf7-9611-cfa3f8dfb809"
   },
   "outputs": [
    {
     "data": {
      "text/html": [
       "<div>\n",
       "<style scoped>\n",
       "    .dataframe tbody tr th:only-of-type {\n",
       "        vertical-align: middle;\n",
       "    }\n",
       "\n",
       "    .dataframe tbody tr th {\n",
       "        vertical-align: top;\n",
       "    }\n",
       "\n",
       "    .dataframe thead th {\n",
       "        text-align: right;\n",
       "    }\n",
       "</style>\n",
       "<table border=\"1\" class=\"dataframe\">\n",
       "  <thead>\n",
       "    <tr style=\"text-align: right;\">\n",
       "      <th></th>\n",
       "      <th>onehotencoder__situacao_moradia_Mortgage</th>\n",
       "      <th>onehotencoder__situacao_moradia_Other</th>\n",
       "      <th>onehotencoder__situacao_moradia_Own</th>\n",
       "      <th>onehotencoder__situacao_moradia_Rent</th>\n",
       "      <th>onehotencoder__motivo_emprestimo_Debtconsolidation</th>\n",
       "      <th>onehotencoder__motivo_emprestimo_Education</th>\n",
       "      <th>onehotencoder__motivo_emprestimo_Homeimprovement</th>\n",
       "      <th>onehotencoder__motivo_emprestimo_Medical</th>\n",
       "      <th>onehotencoder__motivo_emprestimo_Personal</th>\n",
       "      <th>onehotencoder__motivo_emprestimo_Venture</th>\n",
       "      <th>...</th>\n",
       "      <th>onehotencoder__pontuacao_emprestimo_E</th>\n",
       "      <th>onehotencoder__pontuacao_emprestimo_F</th>\n",
       "      <th>onehotencoder__pontuacao_emprestimo_G</th>\n",
       "      <th>remainder__idade</th>\n",
       "      <th>remainder__salario</th>\n",
       "      <th>remainder__tempo_trabalho</th>\n",
       "      <th>remainder__valor_emprestimo</th>\n",
       "      <th>remainder__taxa_juros</th>\n",
       "      <th>remainder__devendo</th>\n",
       "      <th>remainder__tempo_de_credito</th>\n",
       "    </tr>\n",
       "  </thead>\n",
       "  <tbody>\n",
       "    <tr>\n",
       "      <th>0</th>\n",
       "      <td>0.0</td>\n",
       "      <td>0.0</td>\n",
       "      <td>0.0</td>\n",
       "      <td>1.0</td>\n",
       "      <td>0.0</td>\n",
       "      <td>0.0</td>\n",
       "      <td>0.0</td>\n",
       "      <td>1.0</td>\n",
       "      <td>0.0</td>\n",
       "      <td>0.0</td>\n",
       "      <td>...</td>\n",
       "      <td>0.0</td>\n",
       "      <td>0.0</td>\n",
       "      <td>0.0</td>\n",
       "      <td>22.0</td>\n",
       "      <td>100000.0</td>\n",
       "      <td>3.0</td>\n",
       "      <td>1200.0</td>\n",
       "      <td>8.59</td>\n",
       "      <td>0.0</td>\n",
       "      <td>2.0</td>\n",
       "    </tr>\n",
       "    <tr>\n",
       "      <th>1</th>\n",
       "      <td>0.0</td>\n",
       "      <td>0.0</td>\n",
       "      <td>0.0</td>\n",
       "      <td>1.0</td>\n",
       "      <td>0.0</td>\n",
       "      <td>0.0</td>\n",
       "      <td>0.0</td>\n",
       "      <td>0.0</td>\n",
       "      <td>0.0</td>\n",
       "      <td>1.0</td>\n",
       "      <td>...</td>\n",
       "      <td>0.0</td>\n",
       "      <td>0.0</td>\n",
       "      <td>0.0</td>\n",
       "      <td>24.0</td>\n",
       "      <td>30000.0</td>\n",
       "      <td>1.0</td>\n",
       "      <td>4000.0</td>\n",
       "      <td>7.49</td>\n",
       "      <td>0.0</td>\n",
       "      <td>4.0</td>\n",
       "    </tr>\n",
       "    <tr>\n",
       "      <th>2</th>\n",
       "      <td>1.0</td>\n",
       "      <td>0.0</td>\n",
       "      <td>0.0</td>\n",
       "      <td>0.0</td>\n",
       "      <td>0.0</td>\n",
       "      <td>0.0</td>\n",
       "      <td>0.0</td>\n",
       "      <td>0.0</td>\n",
       "      <td>1.0</td>\n",
       "      <td>0.0</td>\n",
       "      <td>...</td>\n",
       "      <td>0.0</td>\n",
       "      <td>0.0</td>\n",
       "      <td>0.0</td>\n",
       "      <td>32.0</td>\n",
       "      <td>135000.0</td>\n",
       "      <td>16.0</td>\n",
       "      <td>13000.0</td>\n",
       "      <td>7.88</td>\n",
       "      <td>0.0</td>\n",
       "      <td>5.0</td>\n",
       "    </tr>\n",
       "    <tr>\n",
       "      <th>3</th>\n",
       "      <td>1.0</td>\n",
       "      <td>0.0</td>\n",
       "      <td>0.0</td>\n",
       "      <td>0.0</td>\n",
       "      <td>0.0</td>\n",
       "      <td>0.0</td>\n",
       "      <td>0.0</td>\n",
       "      <td>0.0</td>\n",
       "      <td>0.0</td>\n",
       "      <td>1.0</td>\n",
       "      <td>...</td>\n",
       "      <td>0.0</td>\n",
       "      <td>0.0</td>\n",
       "      <td>0.0</td>\n",
       "      <td>36.0</td>\n",
       "      <td>46000.0</td>\n",
       "      <td>3.0</td>\n",
       "      <td>8000.0</td>\n",
       "      <td>5.42</td>\n",
       "      <td>0.0</td>\n",
       "      <td>15.0</td>\n",
       "    </tr>\n",
       "    <tr>\n",
       "      <th>4</th>\n",
       "      <td>1.0</td>\n",
       "      <td>0.0</td>\n",
       "      <td>0.0</td>\n",
       "      <td>0.0</td>\n",
       "      <td>0.0</td>\n",
       "      <td>1.0</td>\n",
       "      <td>0.0</td>\n",
       "      <td>0.0</td>\n",
       "      <td>0.0</td>\n",
       "      <td>0.0</td>\n",
       "      <td>...</td>\n",
       "      <td>0.0</td>\n",
       "      <td>0.0</td>\n",
       "      <td>0.0</td>\n",
       "      <td>22.0</td>\n",
       "      <td>57000.0</td>\n",
       "      <td>4.0</td>\n",
       "      <td>12875.0</td>\n",
       "      <td>7.90</td>\n",
       "      <td>0.0</td>\n",
       "      <td>2.0</td>\n",
       "    </tr>\n",
       "    <tr>\n",
       "      <th>...</th>\n",
       "      <td>...</td>\n",
       "      <td>...</td>\n",
       "      <td>...</td>\n",
       "      <td>...</td>\n",
       "      <td>...</td>\n",
       "      <td>...</td>\n",
       "      <td>...</td>\n",
       "      <td>...</td>\n",
       "      <td>...</td>\n",
       "      <td>...</td>\n",
       "      <td>...</td>\n",
       "      <td>...</td>\n",
       "      <td>...</td>\n",
       "      <td>...</td>\n",
       "      <td>...</td>\n",
       "      <td>...</td>\n",
       "      <td>...</td>\n",
       "      <td>...</td>\n",
       "      <td>...</td>\n",
       "      <td>...</td>\n",
       "      <td>...</td>\n",
       "    </tr>\n",
       "    <tr>\n",
       "      <th>14035</th>\n",
       "      <td>0.0</td>\n",
       "      <td>0.0</td>\n",
       "      <td>0.0</td>\n",
       "      <td>1.0</td>\n",
       "      <td>1.0</td>\n",
       "      <td>0.0</td>\n",
       "      <td>0.0</td>\n",
       "      <td>0.0</td>\n",
       "      <td>0.0</td>\n",
       "      <td>0.0</td>\n",
       "      <td>...</td>\n",
       "      <td>0.0</td>\n",
       "      <td>0.0</td>\n",
       "      <td>0.0</td>\n",
       "      <td>28.0</td>\n",
       "      <td>42000.0</td>\n",
       "      <td>4.0</td>\n",
       "      <td>2000.0</td>\n",
       "      <td>14.96</td>\n",
       "      <td>1.0</td>\n",
       "      <td>6.0</td>\n",
       "    </tr>\n",
       "    <tr>\n",
       "      <th>14036</th>\n",
       "      <td>0.0</td>\n",
       "      <td>0.0</td>\n",
       "      <td>0.0</td>\n",
       "      <td>1.0</td>\n",
       "      <td>1.0</td>\n",
       "      <td>0.0</td>\n",
       "      <td>0.0</td>\n",
       "      <td>0.0</td>\n",
       "      <td>0.0</td>\n",
       "      <td>0.0</td>\n",
       "      <td>...</td>\n",
       "      <td>0.0</td>\n",
       "      <td>0.0</td>\n",
       "      <td>0.0</td>\n",
       "      <td>28.0</td>\n",
       "      <td>35000.0</td>\n",
       "      <td>3.0</td>\n",
       "      <td>7950.0</td>\n",
       "      <td>15.62</td>\n",
       "      <td>0.0</td>\n",
       "      <td>10.0</td>\n",
       "    </tr>\n",
       "    <tr>\n",
       "      <th>14037</th>\n",
       "      <td>0.0</td>\n",
       "      <td>0.0</td>\n",
       "      <td>0.0</td>\n",
       "      <td>1.0</td>\n",
       "      <td>0.0</td>\n",
       "      <td>0.0</td>\n",
       "      <td>1.0</td>\n",
       "      <td>0.0</td>\n",
       "      <td>0.0</td>\n",
       "      <td>0.0</td>\n",
       "      <td>...</td>\n",
       "      <td>1.0</td>\n",
       "      <td>0.0</td>\n",
       "      <td>0.0</td>\n",
       "      <td>30.0</td>\n",
       "      <td>50000.0</td>\n",
       "      <td>4.0</td>\n",
       "      <td>16000.0</td>\n",
       "      <td>16.77</td>\n",
       "      <td>0.0</td>\n",
       "      <td>5.0</td>\n",
       "    </tr>\n",
       "    <tr>\n",
       "      <th>14038</th>\n",
       "      <td>0.0</td>\n",
       "      <td>0.0</td>\n",
       "      <td>0.0</td>\n",
       "      <td>1.0</td>\n",
       "      <td>0.0</td>\n",
       "      <td>1.0</td>\n",
       "      <td>0.0</td>\n",
       "      <td>0.0</td>\n",
       "      <td>0.0</td>\n",
       "      <td>0.0</td>\n",
       "      <td>...</td>\n",
       "      <td>0.0</td>\n",
       "      <td>0.0</td>\n",
       "      <td>0.0</td>\n",
       "      <td>22.0</td>\n",
       "      <td>21600.0</td>\n",
       "      <td>0.0</td>\n",
       "      <td>9600.0</td>\n",
       "      <td>7.49</td>\n",
       "      <td>0.0</td>\n",
       "      <td>2.0</td>\n",
       "    </tr>\n",
       "    <tr>\n",
       "      <th>14039</th>\n",
       "      <td>1.0</td>\n",
       "      <td>0.0</td>\n",
       "      <td>0.0</td>\n",
       "      <td>0.0</td>\n",
       "      <td>0.0</td>\n",
       "      <td>0.0</td>\n",
       "      <td>1.0</td>\n",
       "      <td>0.0</td>\n",
       "      <td>0.0</td>\n",
       "      <td>0.0</td>\n",
       "      <td>...</td>\n",
       "      <td>0.0</td>\n",
       "      <td>1.0</td>\n",
       "      <td>0.0</td>\n",
       "      <td>36.0</td>\n",
       "      <td>74000.0</td>\n",
       "      <td>20.0</td>\n",
       "      <td>25000.0</td>\n",
       "      <td>17.80</td>\n",
       "      <td>1.0</td>\n",
       "      <td>11.0</td>\n",
       "    </tr>\n",
       "  </tbody>\n",
       "</table>\n",
       "<p>14040 rows × 24 columns</p>\n",
       "</div>"
      ],
      "text/plain": [
       "       onehotencoder__situacao_moradia_Mortgage  \\\n",
       "0                                           0.0   \n",
       "1                                           0.0   \n",
       "2                                           1.0   \n",
       "3                                           1.0   \n",
       "4                                           1.0   \n",
       "...                                         ...   \n",
       "14035                                       0.0   \n",
       "14036                                       0.0   \n",
       "14037                                       0.0   \n",
       "14038                                       0.0   \n",
       "14039                                       1.0   \n",
       "\n",
       "       onehotencoder__situacao_moradia_Other  \\\n",
       "0                                        0.0   \n",
       "1                                        0.0   \n",
       "2                                        0.0   \n",
       "3                                        0.0   \n",
       "4                                        0.0   \n",
       "...                                      ...   \n",
       "14035                                    0.0   \n",
       "14036                                    0.0   \n",
       "14037                                    0.0   \n",
       "14038                                    0.0   \n",
       "14039                                    0.0   \n",
       "\n",
       "       onehotencoder__situacao_moradia_Own  \\\n",
       "0                                      0.0   \n",
       "1                                      0.0   \n",
       "2                                      0.0   \n",
       "3                                      0.0   \n",
       "4                                      0.0   \n",
       "...                                    ...   \n",
       "14035                                  0.0   \n",
       "14036                                  0.0   \n",
       "14037                                  0.0   \n",
       "14038                                  0.0   \n",
       "14039                                  0.0   \n",
       "\n",
       "       onehotencoder__situacao_moradia_Rent  \\\n",
       "0                                       1.0   \n",
       "1                                       1.0   \n",
       "2                                       0.0   \n",
       "3                                       0.0   \n",
       "4                                       0.0   \n",
       "...                                     ...   \n",
       "14035                                   1.0   \n",
       "14036                                   1.0   \n",
       "14037                                   1.0   \n",
       "14038                                   1.0   \n",
       "14039                                   0.0   \n",
       "\n",
       "       onehotencoder__motivo_emprestimo_Debtconsolidation  \\\n",
       "0                                                    0.0    \n",
       "1                                                    0.0    \n",
       "2                                                    0.0    \n",
       "3                                                    0.0    \n",
       "4                                                    0.0    \n",
       "...                                                  ...    \n",
       "14035                                                1.0    \n",
       "14036                                                1.0    \n",
       "14037                                                0.0    \n",
       "14038                                                0.0    \n",
       "14039                                                0.0    \n",
       "\n",
       "       onehotencoder__motivo_emprestimo_Education  \\\n",
       "0                                             0.0   \n",
       "1                                             0.0   \n",
       "2                                             0.0   \n",
       "3                                             0.0   \n",
       "4                                             1.0   \n",
       "...                                           ...   \n",
       "14035                                         0.0   \n",
       "14036                                         0.0   \n",
       "14037                                         0.0   \n",
       "14038                                         1.0   \n",
       "14039                                         0.0   \n",
       "\n",
       "       onehotencoder__motivo_emprestimo_Homeimprovement  \\\n",
       "0                                                   0.0   \n",
       "1                                                   0.0   \n",
       "2                                                   0.0   \n",
       "3                                                   0.0   \n",
       "4                                                   0.0   \n",
       "...                                                 ...   \n",
       "14035                                               0.0   \n",
       "14036                                               0.0   \n",
       "14037                                               1.0   \n",
       "14038                                               0.0   \n",
       "14039                                               1.0   \n",
       "\n",
       "       onehotencoder__motivo_emprestimo_Medical  \\\n",
       "0                                           1.0   \n",
       "1                                           0.0   \n",
       "2                                           0.0   \n",
       "3                                           0.0   \n",
       "4                                           0.0   \n",
       "...                                         ...   \n",
       "14035                                       0.0   \n",
       "14036                                       0.0   \n",
       "14037                                       0.0   \n",
       "14038                                       0.0   \n",
       "14039                                       0.0   \n",
       "\n",
       "       onehotencoder__motivo_emprestimo_Personal  \\\n",
       "0                                            0.0   \n",
       "1                                            0.0   \n",
       "2                                            1.0   \n",
       "3                                            0.0   \n",
       "4                                            0.0   \n",
       "...                                          ...   \n",
       "14035                                        0.0   \n",
       "14036                                        0.0   \n",
       "14037                                        0.0   \n",
       "14038                                        0.0   \n",
       "14039                                        0.0   \n",
       "\n",
       "       onehotencoder__motivo_emprestimo_Venture  ...  \\\n",
       "0                                           0.0  ...   \n",
       "1                                           1.0  ...   \n",
       "2                                           0.0  ...   \n",
       "3                                           1.0  ...   \n",
       "4                                           0.0  ...   \n",
       "...                                         ...  ...   \n",
       "14035                                       0.0  ...   \n",
       "14036                                       0.0  ...   \n",
       "14037                                       0.0  ...   \n",
       "14038                                       0.0  ...   \n",
       "14039                                       0.0  ...   \n",
       "\n",
       "       onehotencoder__pontuacao_emprestimo_E  \\\n",
       "0                                        0.0   \n",
       "1                                        0.0   \n",
       "2                                        0.0   \n",
       "3                                        0.0   \n",
       "4                                        0.0   \n",
       "...                                      ...   \n",
       "14035                                    0.0   \n",
       "14036                                    0.0   \n",
       "14037                                    1.0   \n",
       "14038                                    0.0   \n",
       "14039                                    0.0   \n",
       "\n",
       "       onehotencoder__pontuacao_emprestimo_F  \\\n",
       "0                                        0.0   \n",
       "1                                        0.0   \n",
       "2                                        0.0   \n",
       "3                                        0.0   \n",
       "4                                        0.0   \n",
       "...                                      ...   \n",
       "14035                                    0.0   \n",
       "14036                                    0.0   \n",
       "14037                                    0.0   \n",
       "14038                                    0.0   \n",
       "14039                                    1.0   \n",
       "\n",
       "       onehotencoder__pontuacao_emprestimo_G  remainder__idade  \\\n",
       "0                                        0.0              22.0   \n",
       "1                                        0.0              24.0   \n",
       "2                                        0.0              32.0   \n",
       "3                                        0.0              36.0   \n",
       "4                                        0.0              22.0   \n",
       "...                                      ...               ...   \n",
       "14035                                    0.0              28.0   \n",
       "14036                                    0.0              28.0   \n",
       "14037                                    0.0              30.0   \n",
       "14038                                    0.0              22.0   \n",
       "14039                                    0.0              36.0   \n",
       "\n",
       "       remainder__salario  remainder__tempo_trabalho  \\\n",
       "0                100000.0                        3.0   \n",
       "1                 30000.0                        1.0   \n",
       "2                135000.0                       16.0   \n",
       "3                 46000.0                        3.0   \n",
       "4                 57000.0                        4.0   \n",
       "...                   ...                        ...   \n",
       "14035             42000.0                        4.0   \n",
       "14036             35000.0                        3.0   \n",
       "14037             50000.0                        4.0   \n",
       "14038             21600.0                        0.0   \n",
       "14039             74000.0                       20.0   \n",
       "\n",
       "       remainder__valor_emprestimo  remainder__taxa_juros  remainder__devendo  \\\n",
       "0                           1200.0                   8.59                 0.0   \n",
       "1                           4000.0                   7.49                 0.0   \n",
       "2                          13000.0                   7.88                 0.0   \n",
       "3                           8000.0                   5.42                 0.0   \n",
       "4                          12875.0                   7.90                 0.0   \n",
       "...                            ...                    ...                 ...   \n",
       "14035                       2000.0                  14.96                 1.0   \n",
       "14036                       7950.0                  15.62                 0.0   \n",
       "14037                      16000.0                  16.77                 0.0   \n",
       "14038                       9600.0                   7.49                 0.0   \n",
       "14039                      25000.0                  17.80                 1.0   \n",
       "\n",
       "       remainder__tempo_de_credito  \n",
       "0                              2.0  \n",
       "1                              4.0  \n",
       "2                              5.0  \n",
       "3                             15.0  \n",
       "4                              2.0  \n",
       "...                            ...  \n",
       "14035                          6.0  \n",
       "14036                         10.0  \n",
       "14037                          5.0  \n",
       "14038                          2.0  \n",
       "14039                         11.0  \n",
       "\n",
       "[14040 rows x 24 columns]"
      ]
     },
     "execution_count": 38,
     "metadata": {},
     "output_type": "execute_result"
    }
   ],
   "source": [
    "under = RandomUnderSampler(random_state=SEED,sampling_strategy=0.5)\n",
    "X_balanceado_under, y_balanceado_under = under.fit_resample(x_treino, y_treino)\n",
    "X_balanceado_under"
   ]
  },
  {
   "cell_type": "markdown",
   "metadata": {
    "id": "YvLJz1w4_bWy"
   },
   "source": [
    "Tinhamos 28632 linhas, com o processo de Undersampling fomos para 14040 linhas.\n",
    "\n"
   ]
  },
  {
   "cell_type": "markdown",
   "metadata": {
    "id": "Yft-BmLxAoxb"
   },
   "source": [
    "#### LogisticRegression"
   ]
  },
  {
   "cell_type": "code",
   "execution_count": 39,
   "metadata": {
    "executionInfo": {
     "elapsed": 18,
     "status": "ok",
     "timestamp": 1674621887694,
     "user": {
      "displayName": "Leonardo Santana",
      "userId": "14879446823353399218"
     },
     "user_tz": 180
    },
    "id": "9xVSaQCT9I9i"
   },
   "outputs": [],
   "source": [
    "regressao_log = LogisticRegression(random_state=SEED, max_iter=1000) # max_iter é o numero de interações do modelo\n",
    "regressao_log.fit(X_balanceado_under, y_balanceado_under)\n",
    "\n",
    "previsao_regressao_log = regressao_log.predict(x_teste)"
   ]
  },
  {
   "cell_type": "code",
   "execution_count": 40,
   "metadata": {
    "colab": {
     "base_uri": "https://localhost:8080/"
    },
    "executionInfo": {
     "elapsed": 19,
     "status": "ok",
     "timestamp": 1674621887695,
     "user": {
      "displayName": "Leonardo Santana",
      "userId": "14879446823353399218"
     },
     "user_tz": 180
    },
    "id": "I2tikU0QA6el",
    "outputId": "c267edc9-dcfc-40d3-8adc-aebd7e4462b7"
   },
   "outputs": [
    {
     "name": "stdout",
     "output_type": "stream",
     "text": [
      "              precision    recall  f1-score   support\n",
      "\n",
      "         0.0       0.88      0.87      0.87      5636\n",
      "         1.0       0.54      0.57      0.55      1522\n",
      "\n",
      "    accuracy                           0.80      7158\n",
      "   macro avg       0.71      0.72      0.71      7158\n",
      "weighted avg       0.81      0.80      0.81      7158\n",
      "\n"
     ]
    }
   ],
   "source": [
    "print(classification_report(y_teste, previsao_regressao_log)) "
   ]
  },
  {
   "cell_type": "markdown",
   "metadata": {
    "id": "B2bxp7tOBMXj"
   },
   "source": [
    "Matriz de confusão"
   ]
  },
  {
   "cell_type": "code",
   "execution_count": 41,
   "metadata": {
    "colab": {
     "base_uri": "https://localhost:8080/",
     "height": 355
    },
    "executionInfo": {
     "elapsed": 628,
     "status": "ok",
     "timestamp": 1674621888309,
     "user": {
      "displayName": "Leonardo Santana",
      "userId": "14879446823353399218"
     },
     "user_tz": 180
    },
    "id": "mLooSeMKBFMU",
    "outputId": "81a79d3b-ff0f-47e5-9653-28a538de1e66"
   },
   "outputs": [
    {
     "name": "stderr",
     "output_type": "stream",
     "text": [
      "C:\\Users\\leona\\anaconda3\\lib\\site-packages\\sklearn\\utils\\deprecation.py:87: FutureWarning: Function plot_confusion_matrix is deprecated; Function `plot_confusion_matrix` is deprecated in 1.0 and will be removed in 1.2. Use one of the class methods: ConfusionMatrixDisplay.from_predictions or ConfusionMatrixDisplay.from_estimator.\n",
      "  warnings.warn(msg, category=FutureWarning)\n"
     ]
    },
    {
     "data": {
      "text/plain": [
       "<sklearn.metrics._plot.confusion_matrix.ConfusionMatrixDisplay at 0x2918907a100>"
      ]
     },
     "execution_count": 41,
     "metadata": {},
     "output_type": "execute_result"
    },
    {
     "data": {
      "image/png": "[encoded data removed]",
      "text/plain": [
       "<Figure size 640x480 with 2 Axes>"
      ]
     },
     "metadata": {},
     "output_type": "display_data"
    }
   ],
   "source": [
    "mapa_calor = matplotlib.colors.LinearSegmentedColormap.from_list(\"\", [\"#12239e\",\"#92dfa6\",\"#9cd33b\"])\n",
    "matriz_confusao = plot_confusion_matrix(regressao_log, x_teste, y_teste, cmap=mapa_calor)\n",
    "matriz_confusao"
   ]
  },
  {
   "cell_type": "markdown",
   "metadata": {
    "id": "GGhIoMdLBZHw"
   },
   "source": [
    "Agora usando a curva ROC para avaliar o resultado do algoritmo."
   ]
  },
  {
   "cell_type": "code",
   "execution_count": 42,
   "metadata": {
    "colab": {
     "base_uri": "https://localhost:8080/",
     "height": 369
    },
    "executionInfo": {
     "elapsed": 14,
     "status": "ok",
     "timestamp": 1674621888310,
     "user": {
      "displayName": "Leonardo Santana",
      "userId": "14879446823353399218"
     },
     "user_tz": 180
    },
    "id": "NEaof0JQBSQr",
    "outputId": "0629ad60-4ad2-49d1-9b1b-ccd0d0cfc078"
   },
   "outputs": [
    {
     "name": "stdout",
     "output_type": "stream",
     "text": [
      "roc_auc 0.8064636805443511\n"
     ]
    },
    {
     "data": {
      "image/png": "[encoded data removed]",
      "text/plain": [
       "<Figure size 500x500 with 1 Axes>"
      ]
     },
     "metadata": {},
     "output_type": "display_data"
    }
   ],
   "source": [
    "prob_previsao = regressao_log.predict_proba(x_teste)[:,1]\n",
    "\n",
    "#Sendo:\n",
    "#tfp = taxa falsos positivos  (Especifidade)\n",
    "#tvp = taxa verdadeiros positivos   (Sensibilidade)\n",
    "\n",
    "tfp, tvp, limite = roc_curve(y_teste, prob_previsao)  # roc_curve: desenha a curva roc\n",
    "print('roc_auc', roc_auc_score(y_teste, prob_previsao)) #  roc_auc_score: calcula a area sobre a curva roc\n",
    "\n",
    "plt.subplots(1, figsize=(5,5))\n",
    "plt.title('Curva ROC')\n",
    "plt.plot(tfp,tvp)\n",
    "plt.xlabel('Especifidade')\n",
    "plt.ylabel('Sensibilidade')\n",
    "plt.plot([0, 1], ls=\"--\", c = 'red') #plotando linha guia pontilhada vermelha\n",
    "plt.plot([0, 0], [1, 0], ls=\"--\", c = 'green'), plt.plot([1, 1], ls=\"--\", c = 'green') #plotando linha guia pontilhada verde\n",
    "plt.show()\n",
    "\n"
   ]
  },
  {
   "cell_type": "markdown",
   "metadata": {
    "id": "51KruovbBhXS"
   },
   "source": [
    "#### DecisionTreeClassifier"
   ]
  },
  {
   "cell_type": "code",
   "execution_count": 43,
   "metadata": {
    "executionInfo": {
     "elapsed": 12,
     "status": "ok",
     "timestamp": 1674621888311,
     "user": {
      "displayName": "Leonardo Santana",
      "userId": "14879446823353399218"
     },
     "user_tz": 180
    },
    "id": "LwllzgjiBcBC"
   },
   "outputs": [],
   "source": [
    "arvore = DecisionTreeClassifier(random_state=SEED)\n",
    "arvore.fit(X_balanceado_under, y_balanceado_under)\n",
    "previsao_arvore = arvore.predict(x_teste)"
   ]
  },
  {
   "cell_type": "code",
   "execution_count": 44,
   "metadata": {
    "colab": {
     "base_uri": "https://localhost:8080/"
    },
    "executionInfo": {
     "elapsed": 11,
     "status": "ok",
     "timestamp": 1674621888311,
     "user": {
      "displayName": "Leonardo Santana",
      "userId": "14879446823353399218"
     },
     "user_tz": 180
    },
    "id": "8QSOWGmsBqm_",
    "outputId": "74ef1354-cba1-461c-da90-06d378c74293"
   },
   "outputs": [
    {
     "name": "stdout",
     "output_type": "stream",
     "text": [
      "              precision    recall  f1-score   support\n",
      "\n",
      "         0.0       0.93      0.88      0.91      5636\n",
      "         1.0       0.63      0.77      0.70      1522\n",
      "\n",
      "    accuracy                           0.86      7158\n",
      "   macro avg       0.78      0.83      0.80      7158\n",
      "weighted avg       0.87      0.86      0.86      7158\n",
      "\n"
     ]
    }
   ],
   "source": [
    "print(classification_report(y_teste, previsao_arvore))"
   ]
  },
  {
   "cell_type": "markdown",
   "metadata": {
    "id": "TS6L4creCzH7"
   },
   "source": [
    "Matriz de confusão"
   ]
  },
  {
   "cell_type": "code",
   "execution_count": 45,
   "metadata": {
    "colab": {
     "base_uri": "https://localhost:8080/",
     "height": 355
    },
    "executionInfo": {
     "elapsed": 429,
     "status": "ok",
     "timestamp": 1674621888730,
     "user": {
      "displayName": "Leonardo Santana",
      "userId": "14879446823353399218"
     },
     "user_tz": 180
    },
    "id": "K_evMJDGBtP5",
    "outputId": "514e17e7-1af0-490a-ee61-64dc5c317cdd"
   },
   "outputs": [
    {
     "name": "stderr",
     "output_type": "stream",
     "text": [
      "C:\\Users\\leona\\anaconda3\\lib\\site-packages\\sklearn\\utils\\deprecation.py:87: FutureWarning: Function plot_confusion_matrix is deprecated; Function `plot_confusion_matrix` is deprecated in 1.0 and will be removed in 1.2. Use one of the class methods: ConfusionMatrixDisplay.from_predictions or ConfusionMatrixDisplay.from_estimator.\n",
      "  warnings.warn(msg, category=FutureWarning)\n"
     ]
    },
    {
     "data": {
      "text/plain": [
       "<sklearn.metrics._plot.confusion_matrix.ConfusionMatrixDisplay at 0x29188eb01c0>"
      ]
     },
     "execution_count": 45,
     "metadata": {},
     "output_type": "execute_result"
    },
    {
     "data": {
      "image/png": "[encoded data removed]",
      "text/plain": [
       "<Figure size 640x480 with 2 Axes>"
      ]
     },
     "metadata": {},
     "output_type": "display_data"
    }
   ],
   "source": [
    "matriz_confusao = plot_confusion_matrix(arvore, x_teste, y_teste, cmap=mapa_calor)\n",
    "matriz_confusao"
   ]
  },
  {
   "cell_type": "markdown",
   "metadata": {
    "id": "dlOrB3nECtps"
   },
   "source": [
    "Agora usando a curva ROC para avaliar o resultado do algoritmo."
   ]
  },
  {
   "cell_type": "code",
   "execution_count": 46,
   "metadata": {
    "colab": {
     "base_uri": "https://localhost:8080/",
     "height": 369
    },
    "executionInfo": {
     "elapsed": 572,
     "status": "ok",
     "timestamp": 1674621889295,
     "user": {
      "displayName": "Leonardo Santana",
      "userId": "14879446823353399218"
     },
     "user_tz": 180
    },
    "id": "zy94_5f8BwnR",
    "outputId": "67005965-0274-4914-b350-b4501a83a1af"
   },
   "outputs": [
    {
     "name": "stdout",
     "output_type": "stream",
     "text": [
      "roc_auc 0.826033645170105\n"
     ]
    },
    {
     "data": {
      "image/png": "[encoded data removed]",
      "text/plain": [
       "<Figure size 500x500 with 1 Axes>"
      ]
     },
     "metadata": {},
     "output_type": "display_data"
    }
   ],
   "source": [
    "prob_previsao = arvore.predict_proba(x_teste)[:,1]\n",
    "\n",
    "#Sendo:\n",
    "#tfp = taxa falsos positivos  (Especifidade)\n",
    "#tvp = taxa verdadeiros positivos   (Sensibilidade)\n",
    "\n",
    "tfp, tvp, limite = roc_curve(y_teste, prob_previsao)  # roc_curve: desenha a curva roc\n",
    "print('roc_auc', roc_auc_score(y_teste, prob_previsao)) #  roc_auc_score: calcula a area sobre a curva roc\n",
    "\n",
    "plt.subplots(1, figsize=(5,5))\n",
    "plt.title('Curva ROC')\n",
    "plt.plot(tfp,tvp)\n",
    "plt.xlabel('Especifidade')\n",
    "plt.ylabel('Sensibilidade')\n",
    "plt.plot([0, 1], ls=\"--\", c = 'red') #plotando linha guia pontilhada vermelha\n",
    "plt.plot([0, 0], [1, 0], ls=\"--\", c = 'green'), plt.plot([1, 1], ls=\"--\", c = 'green') #plotando linha guia pontilhada verde\n",
    "plt.show()\n",
    "\n"
   ]
  },
  {
   "cell_type": "markdown",
   "metadata": {
    "id": "24mjTzv1EJuj"
   },
   "source": [
    "Salvando os resultados dos modelos utilizando a técnica de undersampling:"
   ]
  },
  {
   "cell_type": "code",
   "execution_count": 47,
   "metadata": {
    "executionInfo": {
     "elapsed": 252,
     "status": "ok",
     "timestamp": 1674621911396,
     "user": {
      "displayName": "Leonardo Santana",
      "userId": "14879446823353399218"
     },
     "user_tz": 180
    },
    "id": "g96nLbNdESqS"
   },
   "outputs": [],
   "source": [
    "metricas_under = pd.DataFrame({'Acurácia treino':[arvore.score(x_treino, y_treino), \n",
    "                                 regressao_log.score(x_treino, y_treino)], \n",
    "            'Acurácia teste': [arvore.score(x_teste, y_teste), \n",
    "                                 regressao_log.score(x_teste, y_teste)], \n",
    "            'Recall':[recall_score(y_teste, previsao_arvore),\n",
    "                      recall_score(y_teste, previsao_regressao_log)]},\n",
    "             index = ['Árvore de Decisão Undersampling', 'Regressão Logísitica Undersampling'])\n",
    "    "
   ]
  },
  {
   "cell_type": "markdown",
   "metadata": {
    "id": "-ASmJMRiC-6J"
   },
   "source": [
    "### Comparação\n"
   ]
  },
  {
   "cell_type": "code",
   "execution_count": 48,
   "metadata": {
    "colab": {
     "base_uri": "https://localhost:8080/",
     "height": 208
    },
    "executionInfo": {
     "elapsed": 284,
     "status": "ok",
     "timestamp": 1674621916310,
     "user": {
      "displayName": "Leonardo Santana",
      "userId": "14879446823353399218"
     },
     "user_tz": 180
    },
    "id": "gcZWQ0rHBzs_",
    "outputId": "75458273-6621-4528-b335-8607537ad482"
   },
   "outputs": [
    {
     "data": {
      "text/html": [
       "<div>\n",
       "<style scoped>\n",
       "    .dataframe tbody tr th:only-of-type {\n",
       "        vertical-align: middle;\n",
       "    }\n",
       "\n",
       "    .dataframe tbody tr th {\n",
       "        vertical-align: top;\n",
       "    }\n",
       "\n",
       "    .dataframe thead th {\n",
       "        text-align: right;\n",
       "    }\n",
       "</style>\n",
       "<table border=\"1\" class=\"dataframe\">\n",
       "  <thead>\n",
       "    <tr style=\"text-align: right;\">\n",
       "      <th></th>\n",
       "      <th>Acurácia treino</th>\n",
       "      <th>Acurácia teste</th>\n",
       "      <th>Recall</th>\n",
       "    </tr>\n",
       "  </thead>\n",
       "  <tbody>\n",
       "    <tr>\n",
       "      <th>Árvore de Decisão Oversampling</th>\n",
       "      <td>1.000000</td>\n",
       "      <td>0.882369</td>\n",
       "      <td>0.749014</td>\n",
       "    </tr>\n",
       "    <tr>\n",
       "      <th>Regressão Logísitica Oversampling</th>\n",
       "      <td>0.694514</td>\n",
       "      <td>0.699218</td>\n",
       "      <td>0.779238</td>\n",
       "    </tr>\n",
       "  </tbody>\n",
       "</table>\n",
       "</div>"
      ],
      "text/plain": [
       "                                   Acurácia treino  Acurácia teste    Recall\n",
       "Árvore de Decisão Oversampling            1.000000        0.882369  0.749014\n",
       "Regressão Logísitica Oversampling         0.694514        0.699218  0.779238"
      ]
     },
     "metadata": {},
     "output_type": "display_data"
    },
    {
     "data": {
      "text/html": [
       "<div>\n",
       "<style scoped>\n",
       "    .dataframe tbody tr th:only-of-type {\n",
       "        vertical-align: middle;\n",
       "    }\n",
       "\n",
       "    .dataframe tbody tr th {\n",
       "        vertical-align: top;\n",
       "    }\n",
       "\n",
       "    .dataframe thead th {\n",
       "        text-align: right;\n",
       "    }\n",
       "</style>\n",
       "<table border=\"1\" class=\"dataframe\">\n",
       "  <thead>\n",
       "    <tr style=\"text-align: right;\">\n",
       "      <th></th>\n",
       "      <th>Acurácia treino</th>\n",
       "      <th>Acurácia teste</th>\n",
       "      <th>Recall</th>\n",
       "    </tr>\n",
       "  </thead>\n",
       "  <tbody>\n",
       "    <tr>\n",
       "      <th>Árvore de Decisão Undersampling</th>\n",
       "      <td>0.955155</td>\n",
       "      <td>0.857083</td>\n",
       "      <td>0.772011</td>\n",
       "    </tr>\n",
       "    <tr>\n",
       "      <th>Regressão Logísitica Undersampling</th>\n",
       "      <td>0.797755</td>\n",
       "      <td>0.803297</td>\n",
       "      <td>0.565703</td>\n",
       "    </tr>\n",
       "  </tbody>\n",
       "</table>\n",
       "</div>"
      ],
      "text/plain": [
       "                                    Acurácia treino  Acurácia teste    Recall\n",
       "Árvore de Decisão Undersampling            0.955155        0.857083  0.772011\n",
       "Regressão Logísitica Undersampling         0.797755        0.803297  0.565703"
      ]
     },
     "metadata": {},
     "output_type": "display_data"
    }
   ],
   "source": [
    "display(metricas_over,metricas_under)"
   ]
  },
  {
   "cell_type": "markdown",
   "metadata": {
    "id": "mRw0I1qJb0Jr"
   },
   "source": [
    "Analisando as tabelas, foi possível tirar as seguintes conclusões:\n",
    "\n",
    "* A árvore de decisão apresenta overfitting tanto no oversampling quanto undersampling. Isso ocorre quando desempenho é alto em dados de treino mas não generaliza bem para os dados de teste.\n",
    "\n",
    "* A Regressão Logísitica foi o modelo mais consistente, não apresentando overfiting.\n",
    "\n",
    "* A partir dessa tabela e da matriz de confusão podemos concluir que o **melhor modelo foi a Regressão Logísitica usando a técnica de Undersampling**, pois apesar de o recall do modelo que usa o oversampling ser melhor, ocasiona em um erro muito maior para os clientes não inadimplentes em relação ao modelo que usa o undersampling, o que pode gerar uma insatisfação muito grande nos clientes e perder grande parte do potencial de lucro da empresa."
   ]
  },
  {
   "cell_type": "code",
   "execution_count": null,
   "metadata": {
    "id": "hAGZOehVPpHb"
   },
   "outputs": [],
   "source": []
  },
  {
   "cell_type": "markdown",
   "metadata": {
    "id": "zmTdrjEaS6cd"
   },
   "source": [
    "## 7. Exportando modelos\n",
    "\n",
    "Iremos exportar os modelos para que possam ser utilizados futuramente.\n"
   ]
  },
  {
   "cell_type": "code",
   "execution_count": 49,
   "metadata": {
    "executionInfo": {
     "elapsed": 255,
     "status": "ok",
     "timestamp": 1674622839799,
     "user": {
      "displayName": "Leonardo Santana",
      "userId": "14879446823353399218"
     },
     "user_tz": 180
    },
    "id": "2yIy5Dm4S8ln"
   },
   "outputs": [],
   "source": [
    "import pickle"
   ]
  },
  {
   "cell_type": "code",
   "execution_count": 50,
   "metadata": {
    "executionInfo": {
     "elapsed": 251,
     "status": "ok",
     "timestamp": 1674622854763,
     "user": {
      "displayName": "Leonardo Santana",
      "userId": "14879446823353399218"
     },
     "user_tz": 180
    },
    "id": "3i4wTxvETKl_"
   },
   "outputs": [],
   "source": [
    "# Modelo one hot encoder:\n",
    "\n",
    "with open('one_hot_encoder.pkl', 'wb') as file:\n",
    "    pickle.dump(one_hot_enc, file)"
   ]
  },
  {
   "cell_type": "code",
   "execution_count": 51,
   "metadata": {
    "executionInfo": {
     "elapsed": 257,
     "status": "ok",
     "timestamp": 1674622864236,
     "user": {
      "displayName": "Leonardo Santana",
      "userId": "14879446823353399218"
     },
     "user_tz": 180
    },
    "id": "53oc1jEVTOPU"
   },
   "outputs": [],
   "source": [
    "# Modelo de normalização dos dados:\n",
    "\n",
    "with open('scaler.pkl', 'wb') as file:\n",
    "    pickle.dump(scaler, file)"
   ]
  },
  {
   "cell_type": "code",
   "execution_count": 52,
   "metadata": {
    "executionInfo": {
     "elapsed": 295,
     "status": "ok",
     "timestamp": 1674622974467,
     "user": {
      "displayName": "Leonardo Santana",
      "userId": "14879446823353399218"
     },
     "user_tz": 180
    },
    "id": "KnqHDfxITQbl"
   },
   "outputs": [],
   "source": [
    "# Modelo da Regressão Logísitica usando a técnica de Undersampling:\n",
    "\n",
    "with open('modelo_treinado.pkl', 'wb') as file:\n",
    "    pickle.dump(regressao_log, file)"
   ]
  },
  {
   "cell_type": "code",
   "execution_count": null,
   "metadata": {
    "id": "cTHNUtVOTTGk"
   },
   "outputs": [],
   "source": []
  }
 ],
 "metadata": {
  "colab": {
   "authorship_tag": "ABX9TyM2Poeu5j0kgJGYu0az0VIX",
   "collapsed_sections": [
    "G4YnTZ4xlIpo",
    "VrFIRwJomgC6",
    "vYWQubDLrzFV",
    "DXuOu_LGw4_z",
    "0aC1kQP9F5ag",
    "G5ApslXQMZKb",
    "46LxEI4L2-R0",
    "Yft-BmLxAoxb",
    "51KruovbBhXS",
    "-ASmJMRiC-6J",
    "zmTdrjEaS6cd"
   ],
   "provenance": []
  },
  "kernelspec": {
   "display_name": "Python 3 (ipykernel)",
   "language": "python",
   "name": "python3"
  },
  "language_info": {
   "codemirror_mode": {
    "name": "ipython",
    "version": 3
   },
   "file_extension": ".py",
   "mimetype": "text/x-python",
   "name": "python",
   "nbconvert_exporter": "python",
   "pygments_lexer": "ipython3",
   "version": "3.9.13"
  }
 },
 "nbformat": 4,
 "nbformat_minor": 1
}
